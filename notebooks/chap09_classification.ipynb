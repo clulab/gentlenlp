{
 "cells": [
  {
   "cell_type": "markdown",
   "id": "7ee18790",
   "metadata": {},
   "source": [
    "# Multiclass Text Classification with \n",
    "# Feed-forward Neural Networks and Word Embeddings"
   ]
  },
  {
   "cell_type": "markdown",
   "id": "ab0f2d99",
   "metadata": {},
   "source": [
    "First, we will do some initialization."
   ]
  },
  {
   "cell_type": "code",
   "execution_count": 1,
   "id": "a49c8265",
   "metadata": {},
   "outputs": [
    {
     "name": "stdout",
     "output_type": "stream",
     "text": [
      "device: cuda\n",
      "random seed: 1234\n"
     ]
    }
   ],
   "source": [
    "import random\n",
    "import torch\n",
    "import numpy as np\n",
    "import pandas as pd\n",
    "from tqdm.notebook import tqdm\n",
    "\n",
    "# enable tqdm in pandas\n",
    "tqdm.pandas()\n",
    "\n",
    "# set to True to use the gpu (if there is one available)\n",
    "use_gpu = True\n",
    "\n",
    "# select device\n",
    "device = torch.device('cuda' if use_gpu and torch.cuda.is_available() else 'cpu')\n",
    "print(f'device: {device.type}')\n",
    "\n",
    "# random seed\n",
    "seed = 1234\n",
    "\n",
    "# set random seed\n",
    "if seed is not None:\n",
    "    print(f'random seed: {seed}')\n",
    "    random.seed(seed)\n",
    "    np.random.seed(seed)\n",
    "    torch.manual_seed(seed)"
   ]
  },
  {
   "cell_type": "markdown",
   "id": "1cdcf2e4",
   "metadata": {},
   "source": [
    "We will be using the AG's News Topic Classification Dataset.\n",
    "It is stored in two CSV files: `train.csv` and `test.csv`, as well as a `classes.txt` that stores the labels of the classes to predict.\n",
    "\n",
    "First, we will load the training dataset using [pandas](https://pandas.pydata.org/) and take a quick look at how the data."
   ]
  },
  {
   "cell_type": "code",
   "execution_count": 2,
   "id": "658f7247",
   "metadata": {},
   "outputs": [
    {
     "data": {
      "text/html": [
       "<div>\n",
       "<style scoped>\n",
       "    .dataframe tbody tr th:only-of-type {\n",
       "        vertical-align: middle;\n",
       "    }\n",
       "\n",
       "    .dataframe tbody tr th {\n",
       "        vertical-align: top;\n",
       "    }\n",
       "\n",
       "    .dataframe thead th {\n",
       "        text-align: right;\n",
       "    }\n",
       "</style>\n",
       "<table border=\"1\" class=\"dataframe\">\n",
       "  <thead>\n",
       "    <tr style=\"text-align: right;\">\n",
       "      <th></th>\n",
       "      <th>class index</th>\n",
       "      <th>title</th>\n",
       "      <th>description</th>\n",
       "    </tr>\n",
       "  </thead>\n",
       "  <tbody>\n",
       "    <tr>\n",
       "      <th>0</th>\n",
       "      <td>3</td>\n",
       "      <td>Wall St. Bears Claw Back Into the Black (Reuters)</td>\n",
       "      <td>Reuters - Short-sellers, Wall Street's dwindli...</td>\n",
       "    </tr>\n",
       "    <tr>\n",
       "      <th>1</th>\n",
       "      <td>3</td>\n",
       "      <td>Carlyle Looks Toward Commercial Aerospace (Reu...</td>\n",
       "      <td>Reuters - Private investment firm Carlyle Grou...</td>\n",
       "    </tr>\n",
       "    <tr>\n",
       "      <th>2</th>\n",
       "      <td>3</td>\n",
       "      <td>Oil and Economy Cloud Stocks' Outlook (Reuters)</td>\n",
       "      <td>Reuters - Soaring crude prices plus worries\\ab...</td>\n",
       "    </tr>\n",
       "    <tr>\n",
       "      <th>3</th>\n",
       "      <td>3</td>\n",
       "      <td>Iraq Halts Oil Exports from Main Southern Pipe...</td>\n",
       "      <td>Reuters - Authorities have halted oil export\\f...</td>\n",
       "    </tr>\n",
       "    <tr>\n",
       "      <th>4</th>\n",
       "      <td>3</td>\n",
       "      <td>Oil prices soar to all-time record, posing new...</td>\n",
       "      <td>AFP - Tearaway world oil prices, toppling reco...</td>\n",
       "    </tr>\n",
       "    <tr>\n",
       "      <th>...</th>\n",
       "      <td>...</td>\n",
       "      <td>...</td>\n",
       "      <td>...</td>\n",
       "    </tr>\n",
       "    <tr>\n",
       "      <th>119995</th>\n",
       "      <td>1</td>\n",
       "      <td>Pakistan's Musharraf Says Won't Quit as Army C...</td>\n",
       "      <td>KARACHI (Reuters) - Pakistani President Perve...</td>\n",
       "    </tr>\n",
       "    <tr>\n",
       "      <th>119996</th>\n",
       "      <td>2</td>\n",
       "      <td>Renteria signing a top-shelf deal</td>\n",
       "      <td>Red Sox general manager Theo Epstein acknowled...</td>\n",
       "    </tr>\n",
       "    <tr>\n",
       "      <th>119997</th>\n",
       "      <td>2</td>\n",
       "      <td>Saban not going to Dolphins yet</td>\n",
       "      <td>The Miami Dolphins will put their courtship of...</td>\n",
       "    </tr>\n",
       "    <tr>\n",
       "      <th>119998</th>\n",
       "      <td>2</td>\n",
       "      <td>Today's NFL games</td>\n",
       "      <td>PITTSBURGH at NY GIANTS Time: 1:30 p.m. Line: ...</td>\n",
       "    </tr>\n",
       "    <tr>\n",
       "      <th>119999</th>\n",
       "      <td>2</td>\n",
       "      <td>Nets get Carter from Raptors</td>\n",
       "      <td>INDIANAPOLIS -- All-Star Vince Carter was trad...</td>\n",
       "    </tr>\n",
       "  </tbody>\n",
       "</table>\n",
       "<p>120000 rows × 3 columns</p>\n",
       "</div>"
      ],
      "text/plain": [
       "        class index                                              title  \\\n",
       "0                 3  Wall St. Bears Claw Back Into the Black (Reuters)   \n",
       "1                 3  Carlyle Looks Toward Commercial Aerospace (Reu...   \n",
       "2                 3    Oil and Economy Cloud Stocks' Outlook (Reuters)   \n",
       "3                 3  Iraq Halts Oil Exports from Main Southern Pipe...   \n",
       "4                 3  Oil prices soar to all-time record, posing new...   \n",
       "...             ...                                                ...   \n",
       "119995            1  Pakistan's Musharraf Says Won't Quit as Army C...   \n",
       "119996            2                  Renteria signing a top-shelf deal   \n",
       "119997            2                    Saban not going to Dolphins yet   \n",
       "119998            2                                  Today's NFL games   \n",
       "119999            2                       Nets get Carter from Raptors   \n",
       "\n",
       "                                              description  \n",
       "0       Reuters - Short-sellers, Wall Street's dwindli...  \n",
       "1       Reuters - Private investment firm Carlyle Grou...  \n",
       "2       Reuters - Soaring crude prices plus worries\\ab...  \n",
       "3       Reuters - Authorities have halted oil export\\f...  \n",
       "4       AFP - Tearaway world oil prices, toppling reco...  \n",
       "...                                                   ...  \n",
       "119995   KARACHI (Reuters) - Pakistani President Perve...  \n",
       "119996  Red Sox general manager Theo Epstein acknowled...  \n",
       "119997  The Miami Dolphins will put their courtship of...  \n",
       "119998  PITTSBURGH at NY GIANTS Time: 1:30 p.m. Line: ...  \n",
       "119999  INDIANAPOLIS -- All-Star Vince Carter was trad...  \n",
       "\n",
       "[120000 rows x 3 columns]"
      ]
     },
     "execution_count": 2,
     "metadata": {},
     "output_type": "execute_result"
    }
   ],
   "source": [
    "train_df = pd.read_csv('data/ag_news_csv/train.csv', header=None)\n",
    "train_df.columns = ['class index', 'title', 'description']\n",
    "train_df"
   ]
  },
  {
   "cell_type": "markdown",
   "id": "1ad23ee6",
   "metadata": {},
   "source": [
    "The dataset consists of 120,000 examples, each consisting of a class index, a title, and a description.\n",
    "The class labels are distributed in a separated file. We will add the labels to the dataset so that we can interpret the data more easily. Note that the label indexes are one-based, so we need to subtract one to retrieve them from the list."
   ]
  },
  {
   "cell_type": "code",
   "execution_count": 3,
   "id": "c56cd5e1",
   "metadata": {},
   "outputs": [
    {
     "data": {
      "text/html": [
       "<div>\n",
       "<style scoped>\n",
       "    .dataframe tbody tr th:only-of-type {\n",
       "        vertical-align: middle;\n",
       "    }\n",
       "\n",
       "    .dataframe tbody tr th {\n",
       "        vertical-align: top;\n",
       "    }\n",
       "\n",
       "    .dataframe thead th {\n",
       "        text-align: right;\n",
       "    }\n",
       "</style>\n",
       "<table border=\"1\" class=\"dataframe\">\n",
       "  <thead>\n",
       "    <tr style=\"text-align: right;\">\n",
       "      <th></th>\n",
       "      <th>class index</th>\n",
       "      <th>class</th>\n",
       "      <th>title</th>\n",
       "      <th>description</th>\n",
       "    </tr>\n",
       "  </thead>\n",
       "  <tbody>\n",
       "    <tr>\n",
       "      <th>0</th>\n",
       "      <td>3</td>\n",
       "      <td>Business</td>\n",
       "      <td>Wall St. Bears Claw Back Into the Black (Reuters)</td>\n",
       "      <td>Reuters - Short-sellers, Wall Street's dwindli...</td>\n",
       "    </tr>\n",
       "    <tr>\n",
       "      <th>1</th>\n",
       "      <td>3</td>\n",
       "      <td>Business</td>\n",
       "      <td>Carlyle Looks Toward Commercial Aerospace (Reu...</td>\n",
       "      <td>Reuters - Private investment firm Carlyle Grou...</td>\n",
       "    </tr>\n",
       "    <tr>\n",
       "      <th>2</th>\n",
       "      <td>3</td>\n",
       "      <td>Business</td>\n",
       "      <td>Oil and Economy Cloud Stocks' Outlook (Reuters)</td>\n",
       "      <td>Reuters - Soaring crude prices plus worries\\ab...</td>\n",
       "    </tr>\n",
       "    <tr>\n",
       "      <th>3</th>\n",
       "      <td>3</td>\n",
       "      <td>Business</td>\n",
       "      <td>Iraq Halts Oil Exports from Main Southern Pipe...</td>\n",
       "      <td>Reuters - Authorities have halted oil export\\f...</td>\n",
       "    </tr>\n",
       "    <tr>\n",
       "      <th>4</th>\n",
       "      <td>3</td>\n",
       "      <td>Business</td>\n",
       "      <td>Oil prices soar to all-time record, posing new...</td>\n",
       "      <td>AFP - Tearaway world oil prices, toppling reco...</td>\n",
       "    </tr>\n",
       "    <tr>\n",
       "      <th>...</th>\n",
       "      <td>...</td>\n",
       "      <td>...</td>\n",
       "      <td>...</td>\n",
       "      <td>...</td>\n",
       "    </tr>\n",
       "    <tr>\n",
       "      <th>119995</th>\n",
       "      <td>1</td>\n",
       "      <td>World</td>\n",
       "      <td>Pakistan's Musharraf Says Won't Quit as Army C...</td>\n",
       "      <td>KARACHI (Reuters) - Pakistani President Perve...</td>\n",
       "    </tr>\n",
       "    <tr>\n",
       "      <th>119996</th>\n",
       "      <td>2</td>\n",
       "      <td>Sports</td>\n",
       "      <td>Renteria signing a top-shelf deal</td>\n",
       "      <td>Red Sox general manager Theo Epstein acknowled...</td>\n",
       "    </tr>\n",
       "    <tr>\n",
       "      <th>119997</th>\n",
       "      <td>2</td>\n",
       "      <td>Sports</td>\n",
       "      <td>Saban not going to Dolphins yet</td>\n",
       "      <td>The Miami Dolphins will put their courtship of...</td>\n",
       "    </tr>\n",
       "    <tr>\n",
       "      <th>119998</th>\n",
       "      <td>2</td>\n",
       "      <td>Sports</td>\n",
       "      <td>Today's NFL games</td>\n",
       "      <td>PITTSBURGH at NY GIANTS Time: 1:30 p.m. Line: ...</td>\n",
       "    </tr>\n",
       "    <tr>\n",
       "      <th>119999</th>\n",
       "      <td>2</td>\n",
       "      <td>Sports</td>\n",
       "      <td>Nets get Carter from Raptors</td>\n",
       "      <td>INDIANAPOLIS -- All-Star Vince Carter was trad...</td>\n",
       "    </tr>\n",
       "  </tbody>\n",
       "</table>\n",
       "<p>120000 rows × 4 columns</p>\n",
       "</div>"
      ],
      "text/plain": [
       "        class index     class  \\\n",
       "0                 3  Business   \n",
       "1                 3  Business   \n",
       "2                 3  Business   \n",
       "3                 3  Business   \n",
       "4                 3  Business   \n",
       "...             ...       ...   \n",
       "119995            1     World   \n",
       "119996            2    Sports   \n",
       "119997            2    Sports   \n",
       "119998            2    Sports   \n",
       "119999            2    Sports   \n",
       "\n",
       "                                                    title  \\\n",
       "0       Wall St. Bears Claw Back Into the Black (Reuters)   \n",
       "1       Carlyle Looks Toward Commercial Aerospace (Reu...   \n",
       "2         Oil and Economy Cloud Stocks' Outlook (Reuters)   \n",
       "3       Iraq Halts Oil Exports from Main Southern Pipe...   \n",
       "4       Oil prices soar to all-time record, posing new...   \n",
       "...                                                   ...   \n",
       "119995  Pakistan's Musharraf Says Won't Quit as Army C...   \n",
       "119996                  Renteria signing a top-shelf deal   \n",
       "119997                    Saban not going to Dolphins yet   \n",
       "119998                                  Today's NFL games   \n",
       "119999                       Nets get Carter from Raptors   \n",
       "\n",
       "                                              description  \n",
       "0       Reuters - Short-sellers, Wall Street's dwindli...  \n",
       "1       Reuters - Private investment firm Carlyle Grou...  \n",
       "2       Reuters - Soaring crude prices plus worries\\ab...  \n",
       "3       Reuters - Authorities have halted oil export\\f...  \n",
       "4       AFP - Tearaway world oil prices, toppling reco...  \n",
       "...                                                   ...  \n",
       "119995   KARACHI (Reuters) - Pakistani President Perve...  \n",
       "119996  Red Sox general manager Theo Epstein acknowled...  \n",
       "119997  The Miami Dolphins will put their courtship of...  \n",
       "119998  PITTSBURGH at NY GIANTS Time: 1:30 p.m. Line: ...  \n",
       "119999  INDIANAPOLIS -- All-Star Vince Carter was trad...  \n",
       "\n",
       "[120000 rows x 4 columns]"
      ]
     },
     "execution_count": 3,
     "metadata": {},
     "output_type": "execute_result"
    }
   ],
   "source": [
    "labels = open('data/ag_news_csv/classes.txt').read().splitlines()\n",
    "classes = train_df['class index'].map(lambda i: labels[i-1])\n",
    "train_df.insert(1, 'class', classes)\n",
    "train_df"
   ]
  },
  {
   "cell_type": "markdown",
   "id": "8d51cc89",
   "metadata": {},
   "source": [
    "Let's inspect how balanced our examples are by using a bar plot."
   ]
  },
  {
   "cell_type": "code",
   "execution_count": 4,
   "id": "6d78c358",
   "metadata": {},
   "outputs": [
    {
     "data": {
      "text/plain": [
       "<AxesSubplot:>"
      ]
     },
     "execution_count": 4,
     "metadata": {},
     "output_type": "execute_result"
    },
    {
     "data": {
      "image/png": "[encoded data removed]",
      "text/plain": [
       "<Figure size 432x288 with 1 Axes>"
      ]
     },
     "metadata": {
      "needs_background": "light"
     },
     "output_type": "display_data"
    }
   ],
   "source": [
    "pd.value_counts(train_df['class']).plot.bar()"
   ]
  },
  {
   "cell_type": "markdown",
   "id": "1b4a8e08",
   "metadata": {},
   "source": [
    "The classes are evenly distributed. That's great!\n",
    "\n",
    "However, the text contains some spurious backslashes in some parts of the text.\n",
    "They are meant to represent newlines in the original text.\n",
    "An example can be seen below, between the words \"dwindling\" and \"band\"."
   ]
  },
  {
   "cell_type": "code",
   "execution_count": 5,
   "id": "ae0ce964",
   "metadata": {},
   "outputs": [
    {
     "name": "stdout",
     "output_type": "stream",
     "text": [
      "Reuters - Short-sellers, Wall Street's dwindling\\band of ultra-cynics, are seeing green again.\n"
     ]
    }
   ],
   "source": [
    "print(train_df.loc[0, 'description'])"
   ]
  },
  {
   "cell_type": "markdown",
   "id": "ff99919c",
   "metadata": {},
   "source": [
    "We will replace the backslashes with spaces on the whole column using pandas replace method."
   ]
  },
  {
   "cell_type": "code",
   "execution_count": 6,
   "id": "a7bd5557",
   "metadata": {},
   "outputs": [
    {
     "data": {
      "text/html": [
       "<div>\n",
       "<style scoped>\n",
       "    .dataframe tbody tr th:only-of-type {\n",
       "        vertical-align: middle;\n",
       "    }\n",
       "\n",
       "    .dataframe tbody tr th {\n",
       "        vertical-align: top;\n",
       "    }\n",
       "\n",
       "    .dataframe thead th {\n",
       "        text-align: right;\n",
       "    }\n",
       "</style>\n",
       "<table border=\"1\" class=\"dataframe\">\n",
       "  <thead>\n",
       "    <tr style=\"text-align: right;\">\n",
       "      <th></th>\n",
       "      <th>class index</th>\n",
       "      <th>class</th>\n",
       "      <th>title</th>\n",
       "      <th>description</th>\n",
       "      <th>text</th>\n",
       "    </tr>\n",
       "  </thead>\n",
       "  <tbody>\n",
       "    <tr>\n",
       "      <th>0</th>\n",
       "      <td>3</td>\n",
       "      <td>Business</td>\n",
       "      <td>Wall St. Bears Claw Back Into the Black (Reuters)</td>\n",
       "      <td>Reuters - Short-sellers, Wall Street's dwindli...</td>\n",
       "      <td>wall st. bears claw back into the black (reute...</td>\n",
       "    </tr>\n",
       "    <tr>\n",
       "      <th>1</th>\n",
       "      <td>3</td>\n",
       "      <td>Business</td>\n",
       "      <td>Carlyle Looks Toward Commercial Aerospace (Reu...</td>\n",
       "      <td>Reuters - Private investment firm Carlyle Grou...</td>\n",
       "      <td>carlyle looks toward commercial aerospace (reu...</td>\n",
       "    </tr>\n",
       "    <tr>\n",
       "      <th>2</th>\n",
       "      <td>3</td>\n",
       "      <td>Business</td>\n",
       "      <td>Oil and Economy Cloud Stocks' Outlook (Reuters)</td>\n",
       "      <td>Reuters - Soaring crude prices plus worries\\ab...</td>\n",
       "      <td>oil and economy cloud stocks' outlook (reuters...</td>\n",
       "    </tr>\n",
       "    <tr>\n",
       "      <th>3</th>\n",
       "      <td>3</td>\n",
       "      <td>Business</td>\n",
       "      <td>Iraq Halts Oil Exports from Main Southern Pipe...</td>\n",
       "      <td>Reuters - Authorities have halted oil export\\f...</td>\n",
       "      <td>iraq halts oil exports from main southern pipe...</td>\n",
       "    </tr>\n",
       "    <tr>\n",
       "      <th>4</th>\n",
       "      <td>3</td>\n",
       "      <td>Business</td>\n",
       "      <td>Oil prices soar to all-time record, posing new...</td>\n",
       "      <td>AFP - Tearaway world oil prices, toppling reco...</td>\n",
       "      <td>oil prices soar to all-time record, posing new...</td>\n",
       "    </tr>\n",
       "    <tr>\n",
       "      <th>...</th>\n",
       "      <td>...</td>\n",
       "      <td>...</td>\n",
       "      <td>...</td>\n",
       "      <td>...</td>\n",
       "      <td>...</td>\n",
       "    </tr>\n",
       "    <tr>\n",
       "      <th>119995</th>\n",
       "      <td>1</td>\n",
       "      <td>World</td>\n",
       "      <td>Pakistan's Musharraf Says Won't Quit as Army C...</td>\n",
       "      <td>KARACHI (Reuters) - Pakistani President Perve...</td>\n",
       "      <td>pakistan's musharraf says won't quit as army c...</td>\n",
       "    </tr>\n",
       "    <tr>\n",
       "      <th>119996</th>\n",
       "      <td>2</td>\n",
       "      <td>Sports</td>\n",
       "      <td>Renteria signing a top-shelf deal</td>\n",
       "      <td>Red Sox general manager Theo Epstein acknowled...</td>\n",
       "      <td>renteria signing a top-shelf deal red sox gene...</td>\n",
       "    </tr>\n",
       "    <tr>\n",
       "      <th>119997</th>\n",
       "      <td>2</td>\n",
       "      <td>Sports</td>\n",
       "      <td>Saban not going to Dolphins yet</td>\n",
       "      <td>The Miami Dolphins will put their courtship of...</td>\n",
       "      <td>saban not going to dolphins yet the miami dolp...</td>\n",
       "    </tr>\n",
       "    <tr>\n",
       "      <th>119998</th>\n",
       "      <td>2</td>\n",
       "      <td>Sports</td>\n",
       "      <td>Today's NFL games</td>\n",
       "      <td>PITTSBURGH at NY GIANTS Time: 1:30 p.m. Line: ...</td>\n",
       "      <td>today's nfl games pittsburgh at ny giants time...</td>\n",
       "    </tr>\n",
       "    <tr>\n",
       "      <th>119999</th>\n",
       "      <td>2</td>\n",
       "      <td>Sports</td>\n",
       "      <td>Nets get Carter from Raptors</td>\n",
       "      <td>INDIANAPOLIS -- All-Star Vince Carter was trad...</td>\n",
       "      <td>nets get carter from raptors indianapolis -- a...</td>\n",
       "    </tr>\n",
       "  </tbody>\n",
       "</table>\n",
       "<p>120000 rows × 5 columns</p>\n",
       "</div>"
      ],
      "text/plain": [
       "        class index     class  \\\n",
       "0                 3  Business   \n",
       "1                 3  Business   \n",
       "2                 3  Business   \n",
       "3                 3  Business   \n",
       "4                 3  Business   \n",
       "...             ...       ...   \n",
       "119995            1     World   \n",
       "119996            2    Sports   \n",
       "119997            2    Sports   \n",
       "119998            2    Sports   \n",
       "119999            2    Sports   \n",
       "\n",
       "                                                    title  \\\n",
       "0       Wall St. Bears Claw Back Into the Black (Reuters)   \n",
       "1       Carlyle Looks Toward Commercial Aerospace (Reu...   \n",
       "2         Oil and Economy Cloud Stocks' Outlook (Reuters)   \n",
       "3       Iraq Halts Oil Exports from Main Southern Pipe...   \n",
       "4       Oil prices soar to all-time record, posing new...   \n",
       "...                                                   ...   \n",
       "119995  Pakistan's Musharraf Says Won't Quit as Army C...   \n",
       "119996                  Renteria signing a top-shelf deal   \n",
       "119997                    Saban not going to Dolphins yet   \n",
       "119998                                  Today's NFL games   \n",
       "119999                       Nets get Carter from Raptors   \n",
       "\n",
       "                                              description  \\\n",
       "0       Reuters - Short-sellers, Wall Street's dwindli...   \n",
       "1       Reuters - Private investment firm Carlyle Grou...   \n",
       "2       Reuters - Soaring crude prices plus worries\\ab...   \n",
       "3       Reuters - Authorities have halted oil export\\f...   \n",
       "4       AFP - Tearaway world oil prices, toppling reco...   \n",
       "...                                                   ...   \n",
       "119995   KARACHI (Reuters) - Pakistani President Perve...   \n",
       "119996  Red Sox general manager Theo Epstein acknowled...   \n",
       "119997  The Miami Dolphins will put their courtship of...   \n",
       "119998  PITTSBURGH at NY GIANTS Time: 1:30 p.m. Line: ...   \n",
       "119999  INDIANAPOLIS -- All-Star Vince Carter was trad...   \n",
       "\n",
       "                                                     text  \n",
       "0       wall st. bears claw back into the black (reute...  \n",
       "1       carlyle looks toward commercial aerospace (reu...  \n",
       "2       oil and economy cloud stocks' outlook (reuters...  \n",
       "3       iraq halts oil exports from main southern pipe...  \n",
       "4       oil prices soar to all-time record, posing new...  \n",
       "...                                                   ...  \n",
       "119995  pakistan's musharraf says won't quit as army c...  \n",
       "119996  renteria signing a top-shelf deal red sox gene...  \n",
       "119997  saban not going to dolphins yet the miami dolp...  \n",
       "119998  today's nfl games pittsburgh at ny giants time...  \n",
       "119999  nets get carter from raptors indianapolis -- a...  \n",
       "\n",
       "[120000 rows x 5 columns]"
      ]
     },
     "execution_count": 6,
     "metadata": {},
     "output_type": "execute_result"
    }
   ],
   "source": [
    "train_df['text'] = train_df['title'].str.lower() + \" \" + train_df['description'].str.lower()\n",
    "train_df['text'] = train_df['text'].str.replace('\\\\', ' ', regex=False)\n",
    "train_df"
   ]
  },
  {
   "cell_type": "markdown",
   "id": "c89bd2e4",
   "metadata": {},
   "source": [
    "Now we will proceed to tokenize the title and description columns using NLTK's word_tokenize().\n",
    "We will add a new column to our dataframe with the list of tokens."
   ]
  },
  {
   "cell_type": "code",
   "execution_count": 7,
   "id": "7cadbd62",
   "metadata": {},
   "outputs": [
    {
     "data": {
      "application/vnd.jupyter.widget-view+json": {
       "model_id": "5c9be70e901f472a9029568eff2a078b",
       "version_major": 2,
       "version_minor": 0
      },
      "text/plain": [
       "  0%|          | 0/120000 [00:00<?, ?it/s]"
      ]
     },
     "metadata": {},
     "output_type": "display_data"
    },
    {
     "data": {
      "text/html": [
       "<div>\n",
       "<style scoped>\n",
       "    .dataframe tbody tr th:only-of-type {\n",
       "        vertical-align: middle;\n",
       "    }\n",
       "\n",
       "    .dataframe tbody tr th {\n",
       "        vertical-align: top;\n",
       "    }\n",
       "\n",
       "    .dataframe thead th {\n",
       "        text-align: right;\n",
       "    }\n",
       "</style>\n",
       "<table border=\"1\" class=\"dataframe\">\n",
       "  <thead>\n",
       "    <tr style=\"text-align: right;\">\n",
       "      <th></th>\n",
       "      <th>class index</th>\n",
       "      <th>class</th>\n",
       "      <th>title</th>\n",
       "      <th>description</th>\n",
       "      <th>text</th>\n",
       "      <th>tokens</th>\n",
       "    </tr>\n",
       "  </thead>\n",
       "  <tbody>\n",
       "    <tr>\n",
       "      <th>0</th>\n",
       "      <td>3</td>\n",
       "      <td>Business</td>\n",
       "      <td>Wall St. Bears Claw Back Into the Black (Reuters)</td>\n",
       "      <td>Reuters - Short-sellers, Wall Street's dwindli...</td>\n",
       "      <td>wall st. bears claw back into the black (reute...</td>\n",
       "      <td>[wall, st., bears, claw, back, into, the, blac...</td>\n",
       "    </tr>\n",
       "    <tr>\n",
       "      <th>1</th>\n",
       "      <td>3</td>\n",
       "      <td>Business</td>\n",
       "      <td>Carlyle Looks Toward Commercial Aerospace (Reu...</td>\n",
       "      <td>Reuters - Private investment firm Carlyle Grou...</td>\n",
       "      <td>carlyle looks toward commercial aerospace (reu...</td>\n",
       "      <td>[carlyle, looks, toward, commercial, aerospace...</td>\n",
       "    </tr>\n",
       "    <tr>\n",
       "      <th>2</th>\n",
       "      <td>3</td>\n",
       "      <td>Business</td>\n",
       "      <td>Oil and Economy Cloud Stocks' Outlook (Reuters)</td>\n",
       "      <td>Reuters - Soaring crude prices plus worries\\ab...</td>\n",
       "      <td>oil and economy cloud stocks' outlook (reuters...</td>\n",
       "      <td>[oil, and, economy, cloud, stocks, ', outlook,...</td>\n",
       "    </tr>\n",
       "    <tr>\n",
       "      <th>3</th>\n",
       "      <td>3</td>\n",
       "      <td>Business</td>\n",
       "      <td>Iraq Halts Oil Exports from Main Southern Pipe...</td>\n",
       "      <td>Reuters - Authorities have halted oil export\\f...</td>\n",
       "      <td>iraq halts oil exports from main southern pipe...</td>\n",
       "      <td>[iraq, halts, oil, exports, from, main, southe...</td>\n",
       "    </tr>\n",
       "    <tr>\n",
       "      <th>4</th>\n",
       "      <td>3</td>\n",
       "      <td>Business</td>\n",
       "      <td>Oil prices soar to all-time record, posing new...</td>\n",
       "      <td>AFP - Tearaway world oil prices, toppling reco...</td>\n",
       "      <td>oil prices soar to all-time record, posing new...</td>\n",
       "      <td>[oil, prices, soar, to, all-time, record, ,, p...</td>\n",
       "    </tr>\n",
       "    <tr>\n",
       "      <th>...</th>\n",
       "      <td>...</td>\n",
       "      <td>...</td>\n",
       "      <td>...</td>\n",
       "      <td>...</td>\n",
       "      <td>...</td>\n",
       "      <td>...</td>\n",
       "    </tr>\n",
       "    <tr>\n",
       "      <th>119995</th>\n",
       "      <td>1</td>\n",
       "      <td>World</td>\n",
       "      <td>Pakistan's Musharraf Says Won't Quit as Army C...</td>\n",
       "      <td>KARACHI (Reuters) - Pakistani President Perve...</td>\n",
       "      <td>pakistan's musharraf says won't quit as army c...</td>\n",
       "      <td>[pakistan, 's, musharraf, says, wo, n't, quit,...</td>\n",
       "    </tr>\n",
       "    <tr>\n",
       "      <th>119996</th>\n",
       "      <td>2</td>\n",
       "      <td>Sports</td>\n",
       "      <td>Renteria signing a top-shelf deal</td>\n",
       "      <td>Red Sox general manager Theo Epstein acknowled...</td>\n",
       "      <td>renteria signing a top-shelf deal red sox gene...</td>\n",
       "      <td>[renteria, signing, a, top-shelf, deal, red, s...</td>\n",
       "    </tr>\n",
       "    <tr>\n",
       "      <th>119997</th>\n",
       "      <td>2</td>\n",
       "      <td>Sports</td>\n",
       "      <td>Saban not going to Dolphins yet</td>\n",
       "      <td>The Miami Dolphins will put their courtship of...</td>\n",
       "      <td>saban not going to dolphins yet the miami dolp...</td>\n",
       "      <td>[saban, not, going, to, dolphins, yet, the, mi...</td>\n",
       "    </tr>\n",
       "    <tr>\n",
       "      <th>119998</th>\n",
       "      <td>2</td>\n",
       "      <td>Sports</td>\n",
       "      <td>Today's NFL games</td>\n",
       "      <td>PITTSBURGH at NY GIANTS Time: 1:30 p.m. Line: ...</td>\n",
       "      <td>today's nfl games pittsburgh at ny giants time...</td>\n",
       "      <td>[today, 's, nfl, games, pittsburgh, at, ny, gi...</td>\n",
       "    </tr>\n",
       "    <tr>\n",
       "      <th>119999</th>\n",
       "      <td>2</td>\n",
       "      <td>Sports</td>\n",
       "      <td>Nets get Carter from Raptors</td>\n",
       "      <td>INDIANAPOLIS -- All-Star Vince Carter was trad...</td>\n",
       "      <td>nets get carter from raptors indianapolis -- a...</td>\n",
       "      <td>[nets, get, carter, from, raptors, indianapoli...</td>\n",
       "    </tr>\n",
       "  </tbody>\n",
       "</table>\n",
       "<p>120000 rows × 6 columns</p>\n",
       "</div>"
      ],
      "text/plain": [
       "        class index     class  \\\n",
       "0                 3  Business   \n",
       "1                 3  Business   \n",
       "2                 3  Business   \n",
       "3                 3  Business   \n",
       "4                 3  Business   \n",
       "...             ...       ...   \n",
       "119995            1     World   \n",
       "119996            2    Sports   \n",
       "119997            2    Sports   \n",
       "119998            2    Sports   \n",
       "119999            2    Sports   \n",
       "\n",
       "                                                    title  \\\n",
       "0       Wall St. Bears Claw Back Into the Black (Reuters)   \n",
       "1       Carlyle Looks Toward Commercial Aerospace (Reu...   \n",
       "2         Oil and Economy Cloud Stocks' Outlook (Reuters)   \n",
       "3       Iraq Halts Oil Exports from Main Southern Pipe...   \n",
       "4       Oil prices soar to all-time record, posing new...   \n",
       "...                                                   ...   \n",
       "119995  Pakistan's Musharraf Says Won't Quit as Army C...   \n",
       "119996                  Renteria signing a top-shelf deal   \n",
       "119997                    Saban not going to Dolphins yet   \n",
       "119998                                  Today's NFL games   \n",
       "119999                       Nets get Carter from Raptors   \n",
       "\n",
       "                                              description  \\\n",
       "0       Reuters - Short-sellers, Wall Street's dwindli...   \n",
       "1       Reuters - Private investment firm Carlyle Grou...   \n",
       "2       Reuters - Soaring crude prices plus worries\\ab...   \n",
       "3       Reuters - Authorities have halted oil export\\f...   \n",
       "4       AFP - Tearaway world oil prices, toppling reco...   \n",
       "...                                                   ...   \n",
       "119995   KARACHI (Reuters) - Pakistani President Perve...   \n",
       "119996  Red Sox general manager Theo Epstein acknowled...   \n",
       "119997  The Miami Dolphins will put their courtship of...   \n",
       "119998  PITTSBURGH at NY GIANTS Time: 1:30 p.m. Line: ...   \n",
       "119999  INDIANAPOLIS -- All-Star Vince Carter was trad...   \n",
       "\n",
       "                                                     text  \\\n",
       "0       wall st. bears claw back into the black (reute...   \n",
       "1       carlyle looks toward commercial aerospace (reu...   \n",
       "2       oil and economy cloud stocks' outlook (reuters...   \n",
       "3       iraq halts oil exports from main southern pipe...   \n",
       "4       oil prices soar to all-time record, posing new...   \n",
       "...                                                   ...   \n",
       "119995  pakistan's musharraf says won't quit as army c...   \n",
       "119996  renteria signing a top-shelf deal red sox gene...   \n",
       "119997  saban not going to dolphins yet the miami dolp...   \n",
       "119998  today's nfl games pittsburgh at ny giants time...   \n",
       "119999  nets get carter from raptors indianapolis -- a...   \n",
       "\n",
       "                                                   tokens  \n",
       "0       [wall, st., bears, claw, back, into, the, blac...  \n",
       "1       [carlyle, looks, toward, commercial, aerospace...  \n",
       "2       [oil, and, economy, cloud, stocks, ', outlook,...  \n",
       "3       [iraq, halts, oil, exports, from, main, southe...  \n",
       "4       [oil, prices, soar, to, all-time, record, ,, p...  \n",
       "...                                                   ...  \n",
       "119995  [pakistan, 's, musharraf, says, wo, n't, quit,...  \n",
       "119996  [renteria, signing, a, top-shelf, deal, red, s...  \n",
       "119997  [saban, not, going, to, dolphins, yet, the, mi...  \n",
       "119998  [today, 's, nfl, games, pittsburgh, at, ny, gi...  \n",
       "119999  [nets, get, carter, from, raptors, indianapoli...  \n",
       "\n",
       "[120000 rows x 6 columns]"
      ]
     },
     "execution_count": 7,
     "metadata": {},
     "output_type": "execute_result"
    }
   ],
   "source": [
    "from nltk.tokenize import word_tokenize\n",
    "\n",
    "train_df['tokens'] = train_df['text'].progress_map(word_tokenize)\n",
    "train_df"
   ]
  },
  {
   "cell_type": "markdown",
   "id": "0a8a7eac",
   "metadata": {},
   "source": [
    "Now we will load the GloVe word embeddings."
   ]
  },
  {
   "cell_type": "code",
   "execution_count": 8,
   "id": "9de8029a",
   "metadata": {},
   "outputs": [
    {
     "data": {
      "text/plain": [
       "(400000, 300)"
      ]
     },
     "execution_count": 8,
     "metadata": {},
     "output_type": "execute_result"
    }
   ],
   "source": [
    "from gensim.models import KeyedVectors\n",
    "glove = KeyedVectors.load_word2vec_format(\"glove.6B.300d.txt\", no_header=True)\n",
    "glove.vectors.shape"
   ]
  },
  {
   "cell_type": "markdown",
   "id": "a2234304",
   "metadata": {},
   "source": [
    "The word embeddings have been pretrained in a different corpus, so it would be a good idea to estimate how good our tokenization matches the GloVe vocabulary."
   ]
  },
  {
   "cell_type": "code",
   "execution_count": 9,
   "id": "f96e684d",
   "metadata": {},
   "outputs": [
    {
     "data": {
      "application/vnd.jupyter.widget-view+json": {
       "model_id": "d887f791540645d5b14f28236e6b0a23",
       "version_major": 2,
       "version_minor": 0
      },
      "text/plain": [
       "  0%|          | 0/120000 [00:00<?, ?it/s]"
      ]
     },
     "metadata": {},
     "output_type": "display_data"
    },
    {
     "name": "stdout",
     "output_type": "stream",
     "text": [
      "total number of tokens: 5,273,730\n",
      "number of unknown tokens: 65,847\n",
      "number of distinct unknown tokens: 24,631\n",
      "percentage of unkown tokens: 1.25%\n",
      "top 50 unknown words:\n",
      "\t2984\t/b\n",
      "\t2119\thref=\n",
      "\t2117\t/a\n",
      "\t1813\t//www.investor.reuters.com/fullquote.aspx\n",
      "\t1813\ttarget=/stocks/quickinfo/fullquote\n",
      "\t537\t/p\n",
      "\t510\tnewsfactor\n",
      "\t471\tcbs.mw\n",
      "\t431\tcolor=\n",
      "\t417\t/font\n"
     ]
    }
   ],
   "source": [
    "from collections import Counter\n",
    "\n",
    "def count_unknown_words(data, vocabulary):\n",
    "    counter = Counter()\n",
    "    for row in tqdm(data):\n",
    "        counter.update(tok for tok in row if tok not in vocabulary)\n",
    "    return counter\n",
    "\n",
    "# find out how many times each unknown token occurrs in the corpus\n",
    "c = count_unknown_words(train_df['tokens'], glove.key_to_index)\n",
    "\n",
    "# find the total number of tokens in the corpus\n",
    "total_tokens = train_df['tokens'].map(len).sum()\n",
    "\n",
    "# find some statistics about occurrences of unknown tokens\n",
    "unk_tokens = sum(c.values())\n",
    "percent_unk = unk_tokens / total_tokens\n",
    "distinct_tokens = len(list(c))\n",
    "\n",
    "print(f'total number of tokens: {total_tokens:,}')\n",
    "print(f'number of unknown tokens: {unk_tokens:,}')\n",
    "print(f'number of distinct unknown tokens: {distinct_tokens:,}')\n",
    "print(f'percentage of unkown tokens: {percent_unk:.2%}')\n",
    "print('top 50 unknown words:')\n",
    "for token, n in c.most_common(10):\n",
    "    print(f'\\t{n}\\t{token}')"
   ]
  },
  {
   "cell_type": "markdown",
   "id": "e23fe648",
   "metadata": {},
   "source": [
    "Glove embeddings seem to have a good coverage on this dataset -- only 1.25% of the tokens in the dataset are unknown, i.e., don't appear in the GloVe vocabulary.\n",
    "\n",
    "Still, we will need a way to handle these unknown tokens.\n",
    "Our approach will be to add a new embedding to GloVe that will be used to represent them.\n",
    "This new embedding will be initialized as the average of all the GloVe embeddings.\n",
    "\n",
    "We will also add another embedding, this one initialized to zeros, that will be used to pad the sequences of tokens so that they all have the same length. This will be useful when we train with mini-batches."
   ]
  },
  {
   "cell_type": "code",
   "execution_count": 10,
   "id": "d85c236f",
   "metadata": {},
   "outputs": [
    {
     "data": {
      "text/plain": [
       "(400000, 400001)"
      ]
     },
     "execution_count": 10,
     "metadata": {},
     "output_type": "execute_result"
    }
   ],
   "source": [
    "# string values corresponding to the new embeddings\n",
    "unk_tok = '[UNK]'\n",
    "pad_tok = '[PAD]'\n",
    "\n",
    "# initialize the new embedding values\n",
    "unk_emb = glove.vectors.mean(axis=0)\n",
    "pad_emb = np.zeros(300)\n",
    "\n",
    "# add new embeddings to glove\n",
    "glove.add_vectors([unk_tok, pad_tok], [unk_emb, pad_emb])\n",
    "\n",
    "# get token ids corresponding to the new embeddings\n",
    "unk_id = glove.key_to_index[unk_tok]\n",
    "pad_id = glove.key_to_index[pad_tok]\n",
    "\n",
    "unk_id, pad_id"
   ]
  },
  {
   "cell_type": "code",
   "execution_count": 11,
   "id": "71fd5a08",
   "metadata": {},
   "outputs": [],
   "source": [
    "from sklearn.model_selection import train_test_split\n",
    "\n",
    "train_df, dev_df = train_test_split(train_df, train_size=0.8)\n",
    "train_df.reset_index(inplace=True)\n",
    "dev_df.reset_index(inplace=True)"
   ]
  },
  {
   "cell_type": "markdown",
   "id": "c6ac565b",
   "metadata": {},
   "source": [
    "We will now add a new column to our dataframe that will contain the padded sequences of token ids."
   ]
  },
  {
   "cell_type": "code",
   "execution_count": 12,
   "id": "8b528088",
   "metadata": {},
   "outputs": [
    {
     "name": "stdout",
     "output_type": "stream",
     "text": [
      "vocabulary size: 17,446\n"
     ]
    }
   ],
   "source": [
    "threshold = 10\n",
    "tokens = train_df['tokens'].explode().value_counts()\n",
    "vocabulary = set(tokens[tokens > threshold].index.tolist())\n",
    "print(f'vocabulary size: {len(vocabulary):,}')"
   ]
  },
  {
   "cell_type": "code",
   "execution_count": 13,
   "id": "b96bbe7c",
   "metadata": {},
   "outputs": [
    {
     "data": {
      "application/vnd.jupyter.widget-view+json": {
       "model_id": "b8a5dab4ca2f4f7bab28f4244fd666a4",
       "version_major": 2,
       "version_minor": 0
      },
      "text/plain": [
       "  0%|          | 0/96000 [00:00<?, ?it/s]"
      ]
     },
     "metadata": {},
     "output_type": "display_data"
    },
    {
     "data": {
      "text/html": [
       "<div>\n",
       "<style scoped>\n",
       "    .dataframe tbody tr th:only-of-type {\n",
       "        vertical-align: middle;\n",
       "    }\n",
       "\n",
       "    .dataframe tbody tr th {\n",
       "        vertical-align: top;\n",
       "    }\n",
       "\n",
       "    .dataframe thead th {\n",
       "        text-align: right;\n",
       "    }\n",
       "</style>\n",
       "<table border=\"1\" class=\"dataframe\">\n",
       "  <thead>\n",
       "    <tr style=\"text-align: right;\">\n",
       "      <th></th>\n",
       "      <th>index</th>\n",
       "      <th>class index</th>\n",
       "      <th>class</th>\n",
       "      <th>title</th>\n",
       "      <th>description</th>\n",
       "      <th>text</th>\n",
       "      <th>tokens</th>\n",
       "      <th>token ids</th>\n",
       "    </tr>\n",
       "  </thead>\n",
       "  <tbody>\n",
       "    <tr>\n",
       "      <th>0</th>\n",
       "      <td>9116</td>\n",
       "      <td>1</td>\n",
       "      <td>World</td>\n",
       "      <td>Najaf's Residents Feel Trapped in Battle (AP)</td>\n",
       "      <td>AP - For nearly three weeks, Amer al-Jamali ha...</td>\n",
       "      <td>najaf's residents feel trapped in battle (ap) ...</td>\n",
       "      <td>[najaf, 's, residents, feel, trapped, in, batt...</td>\n",
       "      <td>[10709, 9, 1048, 998, 4799, 6, 903, 23, 1582, ...</td>\n",
       "    </tr>\n",
       "    <tr>\n",
       "      <th>1</th>\n",
       "      <td>99831</td>\n",
       "      <td>3</td>\n",
       "      <td>Business</td>\n",
       "      <td>U.S. FDA Adds Restrictions to Acne Drug</td>\n",
       "      <td>WASHINGTON (Reuters) - Roche's acne drug Accu...</td>\n",
       "      <td>u.s. fda adds restrictions to acne drug  washi...</td>\n",
       "      <td>[u.s., fda, adds, restrictions, to, acne, drug...</td>\n",
       "      <td>[99, 5584, 2144, 3252, 4, 400000, 780, 289, 23...</td>\n",
       "    </tr>\n",
       "    <tr>\n",
       "      <th>2</th>\n",
       "      <td>10663</td>\n",
       "      <td>3</td>\n",
       "      <td>Business</td>\n",
       "      <td>Smithfield Foods Profit More Than Doubles</td>\n",
       "      <td>Smithfield Foods Inc. (SFD.N: Quote, Profile, ...</td>\n",
       "      <td>smithfield foods profit more than doubles smit...</td>\n",
       "      <td>[smithfield, foods, profit, more, than, double...</td>\n",
       "      <td>[34026, 5008, 1269, 56, 73, 4229, 34026, 5008,...</td>\n",
       "    </tr>\n",
       "    <tr>\n",
       "      <th>3</th>\n",
       "      <td>73175</td>\n",
       "      <td>4</td>\n",
       "      <td>Sci/Tech</td>\n",
       "      <td>PluggedIn: The OQO Is Not Just Another Handhel...</td>\n",
       "      <td>SAN FRANCISCO (Reuters) - A full-fledged Wind...</td>\n",
       "      <td>pluggedin: the oqo is not just another handhel...</td>\n",
       "      <td>[pluggedin, :, the, oqo, is, not, just, anothe...</td>\n",
       "      <td>[400000, 45, 0, 293697, 14, 36, 120, 170, 2099...</td>\n",
       "    </tr>\n",
       "    <tr>\n",
       "      <th>4</th>\n",
       "      <td>104494</td>\n",
       "      <td>4</td>\n",
       "      <td>Sci/Tech</td>\n",
       "      <td>IBM invigorates LTO tape storage</td>\n",
       "      <td>LTO (linear tape open)-based drives are invigo...</td>\n",
       "      <td>ibm invigorates lto tape storage lto (linear t...</td>\n",
       "      <td>[ibm, invigorates, lto, tape, storage, lto, (,...</td>\n",
       "      <td>[5199, 400000, 400000, 4143, 4418, 400000, 23,...</td>\n",
       "    </tr>\n",
       "    <tr>\n",
       "      <th>...</th>\n",
       "      <td>...</td>\n",
       "      <td>...</td>\n",
       "      <td>...</td>\n",
       "      <td>...</td>\n",
       "      <td>...</td>\n",
       "      <td>...</td>\n",
       "      <td>...</td>\n",
       "      <td>...</td>\n",
       "    </tr>\n",
       "    <tr>\n",
       "      <th>95995</th>\n",
       "      <td>89460</td>\n",
       "      <td>1</td>\n",
       "      <td>World</td>\n",
       "      <td>Bush, Blair See Hope for Palestinian State (AP)</td>\n",
       "      <td>AP - As Yasser Arafat was buried, President Bu...</td>\n",
       "      <td>bush, blair see hope for palestinian state (ap...</td>\n",
       "      <td>[bush, ,, blair, see, hope, for, palestinian, ...</td>\n",
       "      <td>[272, 1, 2356, 253, 824, 10, 463, 92, 23, 1582...</td>\n",
       "    </tr>\n",
       "    <tr>\n",
       "      <th>95996</th>\n",
       "      <td>60620</td>\n",
       "      <td>1</td>\n",
       "      <td>World</td>\n",
       "      <td>Ex-Soldiers Vow to Bring Order to Haiti Capital</td>\n",
       "      <td>Ex-soldiers who helped topple former President...</td>\n",
       "      <td>ex-soldiers vow to bring order to haiti capita...</td>\n",
       "      <td>[ex-soldiers, vow, to, bring, order, to, haiti...</td>\n",
       "      <td>[223970, 12887, 4, 938, 460, 4, 3836, 351, 223...</td>\n",
       "    </tr>\n",
       "    <tr>\n",
       "      <th>95997</th>\n",
       "      <td>34086</td>\n",
       "      <td>1</td>\n",
       "      <td>World</td>\n",
       "      <td>Musharraf says U.S. must address root of terro...</td>\n",
       "      <td>Reuters - The United States could lose its war...</td>\n",
       "      <td>musharraf says u.s. must address root of terro...</td>\n",
       "      <td>[musharraf, says, u.s., must, address, root, o...</td>\n",
       "      <td>[3820, 210, 99, 390, 1476, 5440, 3, 1291, 23, ...</td>\n",
       "    </tr>\n",
       "    <tr>\n",
       "      <th>95998</th>\n",
       "      <td>58067</td>\n",
       "      <td>1</td>\n",
       "      <td>World</td>\n",
       "      <td>Nuclear materials  #39;vanish #39; in Iraq</td>\n",
       "      <td>Equipment and materials that could be used to ...</td>\n",
       "      <td>nuclear materials  #39;vanish #39; in iraq equ...</td>\n",
       "      <td>[nuclear, materials, #, 39, ;, vanish, #, 39, ...</td>\n",
       "      <td>[490, 2176, 2749, 3403, 89, 25736, 2749, 3403,...</td>\n",
       "    </tr>\n",
       "    <tr>\n",
       "      <th>95999</th>\n",
       "      <td>92975</td>\n",
       "      <td>4</td>\n",
       "      <td>Sci/Tech</td>\n",
       "      <td>In Brief: Bowstreet unveils pre-packaged porta...</td>\n",
       "      <td>Bowstreet this week launched its Enterprise Po...</td>\n",
       "      <td>in brief: bowstreet unveils pre-packaged porta...</td>\n",
       "      <td>[in, brief, :, bowstreet, unveils, pre-package...</td>\n",
       "      <td>[6, 2461, 45, 400000, 20465, 400000, 12174, 83...</td>\n",
       "    </tr>\n",
       "  </tbody>\n",
       "</table>\n",
       "<p>96000 rows × 8 columns</p>\n",
       "</div>"
      ],
      "text/plain": [
       "        index  class index     class  \\\n",
       "0        9116            1     World   \n",
       "1       99831            3  Business   \n",
       "2       10663            3  Business   \n",
       "3       73175            4  Sci/Tech   \n",
       "4      104494            4  Sci/Tech   \n",
       "...       ...          ...       ...   \n",
       "95995   89460            1     World   \n",
       "95996   60620            1     World   \n",
       "95997   34086            1     World   \n",
       "95998   58067            1     World   \n",
       "95999   92975            4  Sci/Tech   \n",
       "\n",
       "                                                   title  \\\n",
       "0          Najaf's Residents Feel Trapped in Battle (AP)   \n",
       "1                U.S. FDA Adds Restrictions to Acne Drug   \n",
       "2              Smithfield Foods Profit More Than Doubles   \n",
       "3      PluggedIn: The OQO Is Not Just Another Handhel...   \n",
       "4                       IBM invigorates LTO tape storage   \n",
       "...                                                  ...   \n",
       "95995    Bush, Blair See Hope for Palestinian State (AP)   \n",
       "95996    Ex-Soldiers Vow to Bring Order to Haiti Capital   \n",
       "95997  Musharraf says U.S. must address root of terro...   \n",
       "95998         Nuclear materials  #39;vanish #39; in Iraq   \n",
       "95999  In Brief: Bowstreet unveils pre-packaged porta...   \n",
       "\n",
       "                                             description  \\\n",
       "0      AP - For nearly three weeks, Amer al-Jamali ha...   \n",
       "1       WASHINGTON (Reuters) - Roche's acne drug Accu...   \n",
       "2      Smithfield Foods Inc. (SFD.N: Quote, Profile, ...   \n",
       "3       SAN FRANCISCO (Reuters) - A full-fledged Wind...   \n",
       "4      LTO (linear tape open)-based drives are invigo...   \n",
       "...                                                  ...   \n",
       "95995  AP - As Yasser Arafat was buried, President Bu...   \n",
       "95996  Ex-soldiers who helped topple former President...   \n",
       "95997  Reuters - The United States could lose its war...   \n",
       "95998  Equipment and materials that could be used to ...   \n",
       "95999  Bowstreet this week launched its Enterprise Po...   \n",
       "\n",
       "                                                    text  \\\n",
       "0      najaf's residents feel trapped in battle (ap) ...   \n",
       "1      u.s. fda adds restrictions to acne drug  washi...   \n",
       "2      smithfield foods profit more than doubles smit...   \n",
       "3      pluggedin: the oqo is not just another handhel...   \n",
       "4      ibm invigorates lto tape storage lto (linear t...   \n",
       "...                                                  ...   \n",
       "95995  bush, blair see hope for palestinian state (ap...   \n",
       "95996  ex-soldiers vow to bring order to haiti capita...   \n",
       "95997  musharraf says u.s. must address root of terro...   \n",
       "95998  nuclear materials  #39;vanish #39; in iraq equ...   \n",
       "95999  in brief: bowstreet unveils pre-packaged porta...   \n",
       "\n",
       "                                                  tokens  \\\n",
       "0      [najaf, 's, residents, feel, trapped, in, batt...   \n",
       "1      [u.s., fda, adds, restrictions, to, acne, drug...   \n",
       "2      [smithfield, foods, profit, more, than, double...   \n",
       "3      [pluggedin, :, the, oqo, is, not, just, anothe...   \n",
       "4      [ibm, invigorates, lto, tape, storage, lto, (,...   \n",
       "...                                                  ...   \n",
       "95995  [bush, ,, blair, see, hope, for, palestinian, ...   \n",
       "95996  [ex-soldiers, vow, to, bring, order, to, haiti...   \n",
       "95997  [musharraf, says, u.s., must, address, root, o...   \n",
       "95998  [nuclear, materials, #, 39, ;, vanish, #, 39, ...   \n",
       "95999  [in, brief, :, bowstreet, unveils, pre-package...   \n",
       "\n",
       "                                               token ids  \n",
       "0      [10709, 9, 1048, 998, 4799, 6, 903, 23, 1582, ...  \n",
       "1      [99, 5584, 2144, 3252, 4, 400000, 780, 289, 23...  \n",
       "2      [34026, 5008, 1269, 56, 73, 4229, 34026, 5008,...  \n",
       "3      [400000, 45, 0, 293697, 14, 36, 120, 170, 2099...  \n",
       "4      [5199, 400000, 400000, 4143, 4418, 400000, 23,...  \n",
       "...                                                  ...  \n",
       "95995  [272, 1, 2356, 253, 824, 10, 463, 92, 23, 1582...  \n",
       "95996  [223970, 12887, 4, 938, 460, 4, 3836, 351, 223...  \n",
       "95997  [3820, 210, 99, 390, 1476, 5440, 3, 1291, 23, ...  \n",
       "95998  [490, 2176, 2749, 3403, 89, 25736, 2749, 3403,...  \n",
       "95999  [6, 2461, 45, 400000, 20465, 400000, 12174, 83...  \n",
       "\n",
       "[96000 rows x 8 columns]"
      ]
     },
     "execution_count": 13,
     "metadata": {},
     "output_type": "execute_result"
    }
   ],
   "source": [
    "# find the length of the longest list of tokens\n",
    "max_tokens = train_df['tokens'].map(len).max()\n",
    "\n",
    "# return unk_id for infrequent tokens too\n",
    "def get_id(tok):\n",
    "    if tok in vocabulary:\n",
    "        return glove.key_to_index.get(tok, unk_id)\n",
    "    else:\n",
    "        return unk_id\n",
    "\n",
    "# function that gets a list of tokens and returns a list of token ids,\n",
    "# with padding added accordingly\n",
    "def token_ids(tokens):\n",
    "    tok_ids = [get_id(tok) for tok in tokens]\n",
    "    pad_len = max_tokens - len(tok_ids)\n",
    "    return tok_ids + [pad_id] * pad_len\n",
    "\n",
    "# add new column to the dataframe\n",
    "train_df['token ids'] = train_df['tokens'].progress_map(token_ids)\n",
    "train_df"
   ]
  },
  {
   "cell_type": "code",
   "execution_count": 14,
   "id": "fa769523",
   "metadata": {},
   "outputs": [
    {
     "data": {
      "application/vnd.jupyter.widget-view+json": {
       "model_id": "5a2ade51c7be4adb8f888fac10bac78a",
       "version_major": 2,
       "version_minor": 0
      },
      "text/plain": [
       "  0%|          | 0/24000 [00:00<?, ?it/s]"
      ]
     },
     "metadata": {},
     "output_type": "display_data"
    },
    {
     "data": {
      "text/html": [
       "<div>\n",
       "<style scoped>\n",
       "    .dataframe tbody tr th:only-of-type {\n",
       "        vertical-align: middle;\n",
       "    }\n",
       "\n",
       "    .dataframe tbody tr th {\n",
       "        vertical-align: top;\n",
       "    }\n",
       "\n",
       "    .dataframe thead th {\n",
       "        text-align: right;\n",
       "    }\n",
       "</style>\n",
       "<table border=\"1\" class=\"dataframe\">\n",
       "  <thead>\n",
       "    <tr style=\"text-align: right;\">\n",
       "      <th></th>\n",
       "      <th>index</th>\n",
       "      <th>class index</th>\n",
       "      <th>class</th>\n",
       "      <th>title</th>\n",
       "      <th>description</th>\n",
       "      <th>text</th>\n",
       "      <th>tokens</th>\n",
       "      <th>token ids</th>\n",
       "    </tr>\n",
       "  </thead>\n",
       "  <tbody>\n",
       "    <tr>\n",
       "      <th>0</th>\n",
       "      <td>60974</td>\n",
       "      <td>1</td>\n",
       "      <td>World</td>\n",
       "      <td>Sharon Accepts Plan to Reduce Gaza Army Operat...</td>\n",
       "      <td>Israeli Prime Minister Ariel Sharon accepted a...</td>\n",
       "      <td>sharon accepts plan to reduce gaza army operat...</td>\n",
       "      <td>[sharon, accepts, plan, to, reduce, gaza, army...</td>\n",
       "      <td>[2548, 9889, 394, 4, 1680, 1166, 330, 957, 1, ...</td>\n",
       "    </tr>\n",
       "    <tr>\n",
       "      <th>1</th>\n",
       "      <td>50391</td>\n",
       "      <td>4</td>\n",
       "      <td>Sci/Tech</td>\n",
       "      <td>Internet Key Battleground in Wildlife Crime Fight</td>\n",
       "      <td>Why trawl through a sweaty illegal\\wildlife ma...</td>\n",
       "      <td>internet key battleground in wildlife crime fi...</td>\n",
       "      <td>[internet, key, battleground, in, wildlife, cr...</td>\n",
       "      <td>[925, 638, 14944, 6, 4446, 1340, 838, 738, 400...</td>\n",
       "    </tr>\n",
       "    <tr>\n",
       "      <th>2</th>\n",
       "      <td>9307</td>\n",
       "      <td>3</td>\n",
       "      <td>Business</td>\n",
       "      <td>July Durable Good Orders Rise 1.7 Percent</td>\n",
       "      <td>America's factories saw orders for costly manu...</td>\n",
       "      <td>july durable good orders rise 1.7 percent amer...</td>\n",
       "      <td>[july, durable, good, orders, rise, 1.7, perce...</td>\n",
       "      <td>[375, 10699, 219, 1949, 1027, 6262, 72, 453, 9...</td>\n",
       "    </tr>\n",
       "    <tr>\n",
       "      <th>3</th>\n",
       "      <td>35221</td>\n",
       "      <td>3</td>\n",
       "      <td>Business</td>\n",
       "      <td>Growing Signs of a Slowing on Wall Street</td>\n",
       "      <td>all Street #39;s earnings growth, fueled by tw...</td>\n",
       "      <td>growing signs of a slowing on wall street all ...</td>\n",
       "      <td>[growing, signs, of, a, slowing, on, wall, str...</td>\n",
       "      <td>[988, 1867, 3, 7, 6515, 13, 1015, 491, 64, 491...</td>\n",
       "    </tr>\n",
       "    <tr>\n",
       "      <th>4</th>\n",
       "      <td>40081</td>\n",
       "      <td>1</td>\n",
       "      <td>World</td>\n",
       "      <td>The New Faces of Reality TV</td>\n",
       "      <td>The introduction of children to the genre was ...</td>\n",
       "      <td>the new faces of reality tv the introduction o...</td>\n",
       "      <td>[the, new, faces, of, reality, tv, the, introd...</td>\n",
       "      <td>[0, 50, 1919, 3, 2532, 816, 0, 4344, 3, 271, 4...</td>\n",
       "    </tr>\n",
       "    <tr>\n",
       "      <th>...</th>\n",
       "      <td>...</td>\n",
       "      <td>...</td>\n",
       "      <td>...</td>\n",
       "      <td>...</td>\n",
       "      <td>...</td>\n",
       "      <td>...</td>\n",
       "      <td>...</td>\n",
       "      <td>...</td>\n",
       "    </tr>\n",
       "    <tr>\n",
       "      <th>23995</th>\n",
       "      <td>49572</td>\n",
       "      <td>1</td>\n",
       "      <td>World</td>\n",
       "      <td>Iraqi Kidnappers Release 2 Indonesian Women</td>\n",
       "      <td>Two Indonesian women held hostage for several ...</td>\n",
       "      <td>iraqi kidnappers release 2 indonesian women tw...</td>\n",
       "      <td>[iraqi, kidnappers, release, 2, indonesian, wo...</td>\n",
       "      <td>[710, 9349, 713, 232, 2656, 266, 55, 2656, 266...</td>\n",
       "    </tr>\n",
       "    <tr>\n",
       "      <th>23996</th>\n",
       "      <td>40409</td>\n",
       "      <td>4</td>\n",
       "      <td>Sci/Tech</td>\n",
       "      <td>Big Wi-Fi Project for Philadelphia</td>\n",
       "      <td>What would Benjamin Franklin say? Philadelphia...</td>\n",
       "      <td>big wi-fi project for philadelphia what would ...</td>\n",
       "      <td>[big, wi-fi, project, for, philadelphia, what,...</td>\n",
       "      <td>[365, 39300, 716, 10, 2201, 102, 54, 4067, 503...</td>\n",
       "    </tr>\n",
       "    <tr>\n",
       "      <th>23997</th>\n",
       "      <td>70470</td>\n",
       "      <td>2</td>\n",
       "      <td>Sports</td>\n",
       "      <td>Owen scores again</td>\n",
       "      <td>Michael Owen scored the winner for Real Madrid...</td>\n",
       "      <td>owen scores again michael owen scored the winn...</td>\n",
       "      <td>[owen, scores, again, michael, owen, scored, t...</td>\n",
       "      <td>[7116, 2776, 378, 785, 7116, 878, 0, 1364, 10,...</td>\n",
       "    </tr>\n",
       "    <tr>\n",
       "      <th>23998</th>\n",
       "      <td>7941</td>\n",
       "      <td>4</td>\n",
       "      <td>Sci/Tech</td>\n",
       "      <td>US Online Retail Sales Expected To Double In S...</td>\n",
       "      <td>Online retail sales in the US are expected to ...</td>\n",
       "      <td>us online retail sales expected to double in s...</td>\n",
       "      <td>[us, online, retail, sales, expected, to, doub...</td>\n",
       "      <td>[95, 1292, 2645, 526, 287, 4, 1278, 6, 228, 82...</td>\n",
       "    </tr>\n",
       "    <tr>\n",
       "      <th>23999</th>\n",
       "      <td>42303</td>\n",
       "      <td>1</td>\n",
       "      <td>World</td>\n",
       "      <td>Egyptian holding company says it has heard fou...</td>\n",
       "      <td>Egypt said Tuesday that Iraqi kidnappers had f...</td>\n",
       "      <td>egyptian holding company says it has heard fou...</td>\n",
       "      <td>[egyptian, holding, company, says, it, has, he...</td>\n",
       "      <td>[2434, 1383, 128, 210, 20, 31, 1435, 133, 2434...</td>\n",
       "    </tr>\n",
       "  </tbody>\n",
       "</table>\n",
       "<p>24000 rows × 8 columns</p>\n",
       "</div>"
      ],
      "text/plain": [
       "       index  class index     class  \\\n",
       "0      60974            1     World   \n",
       "1      50391            4  Sci/Tech   \n",
       "2       9307            3  Business   \n",
       "3      35221            3  Business   \n",
       "4      40081            1     World   \n",
       "...      ...          ...       ...   \n",
       "23995  49572            1     World   \n",
       "23996  40409            4  Sci/Tech   \n",
       "23997  70470            2    Sports   \n",
       "23998   7941            4  Sci/Tech   \n",
       "23999  42303            1     World   \n",
       "\n",
       "                                                   title  \\\n",
       "0      Sharon Accepts Plan to Reduce Gaza Army Operat...   \n",
       "1      Internet Key Battleground in Wildlife Crime Fight   \n",
       "2              July Durable Good Orders Rise 1.7 Percent   \n",
       "3              Growing Signs of a Slowing on Wall Street   \n",
       "4                            The New Faces of Reality TV   \n",
       "...                                                  ...   \n",
       "23995        Iraqi Kidnappers Release 2 Indonesian Women   \n",
       "23996                 Big Wi-Fi Project for Philadelphia   \n",
       "23997                                  Owen scores again   \n",
       "23998  US Online Retail Sales Expected To Double In S...   \n",
       "23999  Egyptian holding company says it has heard fou...   \n",
       "\n",
       "                                             description  \\\n",
       "0      Israeli Prime Minister Ariel Sharon accepted a...   \n",
       "1      Why trawl through a sweaty illegal\\wildlife ma...   \n",
       "2      America's factories saw orders for costly manu...   \n",
       "3      all Street #39;s earnings growth, fueled by tw...   \n",
       "4      The introduction of children to the genre was ...   \n",
       "...                                                  ...   \n",
       "23995  Two Indonesian women held hostage for several ...   \n",
       "23996  What would Benjamin Franklin say? Philadelphia...   \n",
       "23997  Michael Owen scored the winner for Real Madrid...   \n",
       "23998  Online retail sales in the US are expected to ...   \n",
       "23999  Egypt said Tuesday that Iraqi kidnappers had f...   \n",
       "\n",
       "                                                    text  \\\n",
       "0      sharon accepts plan to reduce gaza army operat...   \n",
       "1      internet key battleground in wildlife crime fi...   \n",
       "2      july durable good orders rise 1.7 percent amer...   \n",
       "3      growing signs of a slowing on wall street all ...   \n",
       "4      the new faces of reality tv the introduction o...   \n",
       "...                                                  ...   \n",
       "23995  iraqi kidnappers release 2 indonesian women tw...   \n",
       "23996  big wi-fi project for philadelphia what would ...   \n",
       "23997  owen scores again michael owen scored the winn...   \n",
       "23998  us online retail sales expected to double in s...   \n",
       "23999  egyptian holding company says it has heard fou...   \n",
       "\n",
       "                                                  tokens  \\\n",
       "0      [sharon, accepts, plan, to, reduce, gaza, army...   \n",
       "1      [internet, key, battleground, in, wildlife, cr...   \n",
       "2      [july, durable, good, orders, rise, 1.7, perce...   \n",
       "3      [growing, signs, of, a, slowing, on, wall, str...   \n",
       "4      [the, new, faces, of, reality, tv, the, introd...   \n",
       "...                                                  ...   \n",
       "23995  [iraqi, kidnappers, release, 2, indonesian, wo...   \n",
       "23996  [big, wi-fi, project, for, philadelphia, what,...   \n",
       "23997  [owen, scores, again, michael, owen, scored, t...   \n",
       "23998  [us, online, retail, sales, expected, to, doub...   \n",
       "23999  [egyptian, holding, company, says, it, has, he...   \n",
       "\n",
       "                                               token ids  \n",
       "0      [2548, 9889, 394, 4, 1680, 1166, 330, 957, 1, ...  \n",
       "1      [925, 638, 14944, 6, 4446, 1340, 838, 738, 400...  \n",
       "2      [375, 10699, 219, 1949, 1027, 6262, 72, 453, 9...  \n",
       "3      [988, 1867, 3, 7, 6515, 13, 1015, 491, 64, 491...  \n",
       "4      [0, 50, 1919, 3, 2532, 816, 0, 4344, 3, 271, 4...  \n",
       "...                                                  ...  \n",
       "23995  [710, 9349, 713, 232, 2656, 266, 55, 2656, 266...  \n",
       "23996  [365, 39300, 716, 10, 2201, 102, 54, 4067, 503...  \n",
       "23997  [7116, 2776, 378, 785, 7116, 878, 0, 1364, 10,...  \n",
       "23998  [95, 1292, 2645, 526, 287, 4, 1278, 6, 228, 82...  \n",
       "23999  [2434, 1383, 128, 210, 20, 31, 1435, 133, 2434...  \n",
       "\n",
       "[24000 rows x 8 columns]"
      ]
     },
     "execution_count": 14,
     "metadata": {},
     "output_type": "execute_result"
    }
   ],
   "source": [
    "max_tokens = dev_df['tokens'].map(len).max()\n",
    "dev_df['token ids'] = dev_df['tokens'].progress_map(token_ids)\n",
    "dev_df"
   ]
  },
  {
   "cell_type": "markdown",
   "id": "7d265ae7",
   "metadata": {},
   "source": [
    "Now we will get a numpy 2-dimensional array corresponding to the token ids,\n",
    "and a 1-dimensional array with the gold classes. Note that the classes are one-based (i.e., they start at one),\n",
    "but we need them to be zero-based, so we need to subtract one from this array."
   ]
  },
  {
   "cell_type": "code",
   "execution_count": 15,
   "id": "a5f4078f",
   "metadata": {},
   "outputs": [],
   "source": [
    "from torch.utils.data import Dataset\n",
    "\n",
    "class MyDataset(Dataset):\n",
    "    def __init__(self, x, y):\n",
    "        self.x = x\n",
    "        self.y = y\n",
    "        \n",
    "    def __len__(self):\n",
    "        return len(self.y)\n",
    "    \n",
    "    def __getitem__(self, index):\n",
    "        x = torch.tensor(self.x[index])\n",
    "        y = torch.tensor(self.y[index])\n",
    "        return x, y"
   ]
  },
  {
   "cell_type": "markdown",
   "id": "08d43342",
   "metadata": {},
   "source": [
    "Next, we construct our PyTorch model, which is a feed-forward neural network with two layers:"
   ]
  },
  {
   "cell_type": "code",
   "execution_count": 16,
   "id": "368fe4d3",
   "metadata": {},
   "outputs": [],
   "source": [
    "from torch import nn\n",
    "import torch.nn.functional as F\n",
    "\n",
    "class Model(nn.Module):\n",
    "    def __init__(self, vectors, pad_id, hidden_dim, output_dim, dropout):\n",
    "        super().__init__()\n",
    "        # embeddings must be a tensor\n",
    "        if not torch.is_tensor(vectors):\n",
    "            vectors = torch.tensor(vectors)\n",
    "        # keep padding id\n",
    "        self.padding_idx = pad_id\n",
    "        # embedding layer\n",
    "        self.embs = nn.Embedding.from_pretrained(vectors, padding_idx=pad_id)\n",
    "        # feedforward layers\n",
    "        self.layers = nn.Sequential(\n",
    "            nn.Dropout(dropout),\n",
    "            nn.Linear(vectors.shape[1], hidden_dim),\n",
    "            nn.ReLU(),\n",
    "            nn.Dropout(dropout),\n",
    "            nn.Linear(hidden_dim, output_dim),\n",
    "        )\n",
    "        \n",
    "    def forward(self, x):\n",
    "        # get boolean array with padding elements set to false\n",
    "        not_padding = torch.isin(x, self.padding_idx, invert=True)\n",
    "        # get lengths of examples (excluding padding)\n",
    "        lengths = torch.count_nonzero(not_padding, axis=1)\n",
    "        # get embeddings\n",
    "        x = self.embs(x)\n",
    "        # calculate means\n",
    "        x = x.sum(dim=1) / lengths.unsqueeze(dim=1)\n",
    "        # pass to rest of the model\n",
    "        output = self.layers(x)\n",
    "        # calculate softmax if we're not in training mode\n",
    "        #if not self.training:\n",
    "        #    output = F.softmax(output, dim=1)\n",
    "        return output"
   ]
  },
  {
   "cell_type": "markdown",
   "id": "e9941908",
   "metadata": {},
   "source": [
    "Next, we implement the training procedure. We compute the loss and accuracy on the development partition after each epoch."
   ]
  },
  {
   "cell_type": "code",
   "execution_count": 17,
   "id": "3479316f",
   "metadata": {},
   "outputs": [
    {
     "data": {
      "application/vnd.jupyter.widget-view+json": {
       "model_id": "4bf4088923694fee85464904f3710458",
       "version_major": 2,
       "version_minor": 0
      },
      "text/plain": [
       "epoch 1 (train):   0%|          | 0/192 [00:00<?, ?it/s]"
      ]
     },
     "metadata": {},
     "output_type": "display_data"
    },
    {
     "data": {
      "application/vnd.jupyter.widget-view+json": {
       "model_id": "95cf1b360f4a40ed88380c71a187f146",
       "version_major": 2,
       "version_minor": 0
      },
      "text/plain": [
       "epoch 1 (dev):   0%|          | 0/48 [00:00<?, ?it/s]"
      ]
     },
     "metadata": {},
     "output_type": "display_data"
    },
    {
     "data": {
      "application/vnd.jupyter.widget-view+json": {
       "model_id": "08a4751294b2413f9aa49f436f69bbcd",
       "version_major": 2,
       "version_minor": 0
      },
      "text/plain": [
       "epoch 2 (train):   0%|          | 0/192 [00:00<?, ?it/s]"
      ]
     },
     "metadata": {},
     "output_type": "display_data"
    },
    {
     "data": {
      "application/vnd.jupyter.widget-view+json": {
       "model_id": "10472d59be684f7aaa9d6375d3255cd2",
       "version_major": 2,
       "version_minor": 0
      },
      "text/plain": [
       "epoch 2 (dev):   0%|          | 0/48 [00:00<?, ?it/s]"
      ]
     },
     "metadata": {},
     "output_type": "display_data"
    },
    {
     "data": {
      "application/vnd.jupyter.widget-view+json": {
       "model_id": "9b669c65be39439489ba95d741bcdbe2",
       "version_major": 2,
       "version_minor": 0
      },
      "text/plain": [
       "epoch 3 (train):   0%|          | 0/192 [00:00<?, ?it/s]"
      ]
     },
     "metadata": {},
     "output_type": "display_data"
    },
    {
     "data": {
      "application/vnd.jupyter.widget-view+json": {
       "model_id": "c258c54c7f95445b9a0ddafc3fb4074d",
       "version_major": 2,
       "version_minor": 0
      },
      "text/plain": [
       "epoch 3 (dev):   0%|          | 0/48 [00:00<?, ?it/s]"
      ]
     },
     "metadata": {},
     "output_type": "display_data"
    },
    {
     "data": {
      "application/vnd.jupyter.widget-view+json": {
       "model_id": "005fea56a117494588531142a72eb1ac",
       "version_major": 2,
       "version_minor": 0
      },
      "text/plain": [
       "epoch 4 (train):   0%|          | 0/192 [00:00<?, ?it/s]"
      ]
     },
     "metadata": {},
     "output_type": "display_data"
    },
    {
     "data": {
      "application/vnd.jupyter.widget-view+json": {
       "model_id": "6299795d93e8491caa054b3cb73aeb1d",
       "version_major": 2,
       "version_minor": 0
      },
      "text/plain": [
       "epoch 4 (dev):   0%|          | 0/48 [00:00<?, ?it/s]"
      ]
     },
     "metadata": {},
     "output_type": "display_data"
    },
    {
     "data": {
      "application/vnd.jupyter.widget-view+json": {
       "model_id": "a6d9544b42a74431a3c63c4974452e79",
       "version_major": 2,
       "version_minor": 0
      },
      "text/plain": [
       "epoch 5 (train):   0%|          | 0/192 [00:00<?, ?it/s]"
      ]
     },
     "metadata": {},
     "output_type": "display_data"
    },
    {
     "data": {
      "application/vnd.jupyter.widget-view+json": {
       "model_id": "7062e8659c424b9b897d8bd706e94918",
       "version_major": 2,
       "version_minor": 0
      },
      "text/plain": [
       "epoch 5 (dev):   0%|          | 0/48 [00:00<?, ?it/s]"
      ]
     },
     "metadata": {},
     "output_type": "display_data"
    }
   ],
   "source": [
    "from torch import optim\n",
    "from torch.utils.data import DataLoader\n",
    "from sklearn.metrics import accuracy_score\n",
    "\n",
    "# hyperparameters\n",
    "lr = 1e-3\n",
    "weight_decay = 0\n",
    "batch_size = 500\n",
    "shuffle = True\n",
    "n_epochs = 5\n",
    "hidden_dim = 50\n",
    "output_dim = len(labels)\n",
    "dropout = 0.1\n",
    "vectors = glove.vectors\n",
    "\n",
    "# initialize the model, loss function, optimizer, and data-loader\n",
    "model = Model(vectors, pad_id, hidden_dim, output_dim, dropout).to(device)\n",
    "loss_func = nn.CrossEntropyLoss()\n",
    "optimizer = optim.Adam(model.parameters(), lr=lr, weight_decay=weight_decay)\n",
    "train_ds = MyDataset(train_df['token ids'], train_df['class index'] - 1)\n",
    "train_dl = DataLoader(train_ds, batch_size=batch_size, shuffle=shuffle)\n",
    "dev_ds = MyDataset(dev_df['token ids'], dev_df['class index'] - 1)\n",
    "dev_dl = DataLoader(dev_ds, batch_size=batch_size, shuffle=shuffle)\n",
    "\n",
    "train_loss = []\n",
    "train_acc = []\n",
    "\n",
    "dev_loss = []\n",
    "dev_acc = []\n",
    "\n",
    "# train the model\n",
    "for epoch in range(n_epochs):\n",
    "    losses = []\n",
    "    gold = []\n",
    "    pred = []\n",
    "    model.train()\n",
    "    for X, y_true in tqdm(train_dl, desc=f'epoch {epoch+1} (train)'):\n",
    "        # clear gradients\n",
    "        model.zero_grad()\n",
    "        # send batch to right device\n",
    "        X = X.to(device)\n",
    "        y_true = y_true.to(device)\n",
    "        # predict label scores\n",
    "        y_pred = model(X)\n",
    "        # compute loss\n",
    "        loss = loss_func(y_pred, y_true)\n",
    "        # accumulate for plotting\n",
    "        losses.append(loss.detach().cpu().item())\n",
    "        gold.append(y_true.detach().cpu().numpy())\n",
    "        pred.append(np.argmax(y_pred.detach().cpu().numpy(), axis=1))\n",
    "        # backpropagate\n",
    "        loss.backward()\n",
    "        # optimize model parameters\n",
    "        optimizer.step()\n",
    "    train_loss.append(np.mean(losses))\n",
    "    train_acc.append(accuracy_score(np.concatenate(gold), np.concatenate(pred)))\n",
    "    \n",
    "    model.eval()\n",
    "    with torch.no_grad():\n",
    "        losses = []\n",
    "        gold = []\n",
    "        pred = []\n",
    "        for X, y_true in tqdm(dev_dl, desc=f'epoch {epoch+1} (dev)'):\n",
    "            X = X.to(device)\n",
    "            y_true = y_true.to(device)\n",
    "            y_pred = model(X)\n",
    "            loss = loss_func(y_pred, y_true)\n",
    "            losses.append(loss.cpu().item())\n",
    "            gold.append(y_true.cpu().numpy())\n",
    "            pred.append(np.argmax(y_pred.cpu().numpy(), axis=1))\n",
    "        dev_loss.append(np.mean(losses))\n",
    "        dev_acc.append(accuracy_score(np.concatenate(gold), np.concatenate(pred)))"
   ]
  },
  {
   "cell_type": "markdown",
   "id": "b974b6d6",
   "metadata": {},
   "source": [
    "Let's plot the loss and accuracy on dev:"
   ]
  },
  {
   "cell_type": "code",
   "execution_count": 18,
   "id": "53177c5d",
   "metadata": {},
   "outputs": [
    {
     "data": {
      "image/png": "[encoded data removed]",
      "text/plain": [
       "<Figure size 432x288 with 1 Axes>"
      ]
     },
     "metadata": {
      "needs_background": "light"
     },
     "output_type": "display_data"
    }
   ],
   "source": [
    "import matplotlib.pyplot as plt\n",
    "%matplotlib inline\n",
    "\n",
    "x = np.arange(n_epochs) + 1\n",
    "\n",
    "plt.plot(x, train_loss)\n",
    "plt.plot(x, dev_loss)\n",
    "plt.legend(['train', 'dev'])\n",
    "plt.xlabel('epoch')\n",
    "plt.ylabel('loss')\n",
    "plt.grid(True)"
   ]
  },
  {
   "cell_type": "code",
   "execution_count": 19,
   "id": "1614c5cc",
   "metadata": {},
   "outputs": [
    {
     "data": {
      "image/png": "[encoded data removed]",
      "text/plain": [
       "<Figure size 432x288 with 1 Axes>"
      ]
     },
     "metadata": {
      "needs_background": "light"
     },
     "output_type": "display_data"
    }
   ],
   "source": [
    "plt.plot(x, train_acc)\n",
    "plt.plot(x, dev_acc)\n",
    "plt.legend(['train', 'dev'])\n",
    "plt.xlabel('epoch')\n",
    "plt.ylabel('accuracy')\n",
    "plt.grid(True)"
   ]
  },
  {
   "cell_type": "markdown",
   "id": "47b30f09",
   "metadata": {},
   "source": [
    "Next, we evaluate on the testing partition:"
   ]
  },
  {
   "cell_type": "code",
   "execution_count": 20,
   "id": "11093b92",
   "metadata": {},
   "outputs": [
    {
     "data": {
      "application/vnd.jupyter.widget-view+json": {
       "model_id": "c7c99b2963d2428c84d3c54b6521450a",
       "version_major": 2,
       "version_minor": 0
      },
      "text/plain": [
       "  0%|          | 0/7600 [00:00<?, ?it/s]"
      ]
     },
     "metadata": {},
     "output_type": "display_data"
    },
    {
     "data": {
      "application/vnd.jupyter.widget-view+json": {
       "model_id": "08d6bd4ca2094ee594d8660626648ebb",
       "version_major": 2,
       "version_minor": 0
      },
      "text/plain": [
       "  0%|          | 0/7600 [00:00<?, ?it/s]"
      ]
     },
     "metadata": {},
     "output_type": "display_data"
    }
   ],
   "source": [
    "# repeat all preprocessing done above, this time on the test set\n",
    "test_df = pd.read_csv('data/ag_news_csv/test.csv', header=None)\n",
    "test_df.columns = ['class index', 'title', 'description']\n",
    "test_df['text'] = test_df['title'].str.lower() + \" \" + test_df['description'].str.lower()\n",
    "test_df['text'] = test_df['text'].str.replace('\\\\', ' ', regex=False)\n",
    "test_df['tokens'] = test_df['text'].progress_map(word_tokenize)\n",
    "max_tokens = dev_df['tokens'].map(len).max()\n",
    "test_df['token ids'] = test_df['tokens'].progress_map(token_ids)"
   ]
  },
  {
   "cell_type": "code",
   "execution_count": 21,
   "id": "df065657",
   "metadata": {},
   "outputs": [
    {
     "data": {
      "application/vnd.jupyter.widget-view+json": {
       "model_id": "63374a4a2dba46ab901dd18243482226",
       "version_major": 2,
       "version_minor": 0
      },
      "text/plain": [
       "  0%|          | 0/16 [00:00<?, ?it/s]"
      ]
     },
     "metadata": {},
     "output_type": "display_data"
    },
    {
     "name": "stdout",
     "output_type": "stream",
     "text": [
      "              precision    recall  f1-score   support\n",
      "\n",
      "       World       0.92      0.88      0.90      1900\n",
      "      Sports       0.95      0.97      0.96      1900\n",
      "    Business       0.85      0.86      0.85      1900\n",
      "    Sci/Tech       0.86      0.87      0.87      1900\n",
      "\n",
      "    accuracy                           0.90      7600\n",
      "   macro avg       0.90      0.90      0.90      7600\n",
      "weighted avg       0.90      0.90      0.90      7600\n",
      "\n"
     ]
    }
   ],
   "source": [
    "from sklearn.metrics import classification_report\n",
    "\n",
    "# set model to evaluation mode\n",
    "model.eval()\n",
    "\n",
    "dataset = MyDataset(test_df['token ids'], test_df['class index'] - 1)\n",
    "data_loader = DataLoader(dataset, batch_size=batch_size)\n",
    "y_pred = []\n",
    "\n",
    "# don't store gradients\n",
    "with torch.no_grad():\n",
    "    for X, _ in tqdm(data_loader):\n",
    "        X = X.to(device)\n",
    "        # predict one class per example\n",
    "        y = torch.argmax(model(X), dim=1)\n",
    "        # convert tensor to numpy array (sending it back to the cpu if needed)\n",
    "        y_pred.append(y.cpu().numpy())\n",
    "        # print results\n",
    "    print(classification_report(dataset.y, np.concatenate(y_pred), target_names=labels))"
   ]
  }
 ],
 "metadata": {
  "kernelspec": {
   "display_name": "Python 3 (ipykernel)",
   "language": "python",
   "name": "python3"
  },
  "language_info": {
   "codemirror_mode": {
    "name": "ipython",
    "version": 3
   },
   "file_extension": ".py",
   "mimetype": "text/x-python",
   "name": "python",
   "nbconvert_exporter": "python",
   "pygments_lexer": "ipython3",
   "version": "3.10.6"
  }
 },
 "nbformat": 4,
 "nbformat_minor": 5
}
