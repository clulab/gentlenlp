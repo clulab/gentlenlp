{
 "cells": [
  {
   "cell_type": "markdown",
   "id": "83611a26",
   "metadata": {},
   "source": [
    "# Load and Use a Previously-trained Ro-to-En T5 Model"
   ]
  },
  {
   "cell_type": "markdown",
   "id": "b59fc926",
   "metadata": {},
   "source": [
    "Some initialization:"
   ]
  },
  {
   "cell_type": "code",
   "execution_count": 1,
   "id": "eaef840c",
   "metadata": {},
   "outputs": [
    {
     "name": "stdout",
     "output_type": "stream",
     "text": [
      "device: cuda\n",
      "random seed: 42\n"
     ]
    }
   ],
   "source": [
    "import torch\n",
    "import numpy as np\n",
    "from transformers import set_seed\n",
    "\n",
    "# set to True to use the gpu (if there is one available)\n",
    "use_gpu = True\n",
    "\n",
    "# select device\n",
    "device = torch.device('cuda' if use_gpu and torch.cuda.is_available() else 'cpu')\n",
    "print(f'device: {device.type}')\n",
    "\n",
    "# random seed\n",
    "seed = 42\n",
    "\n",
    "# set random seed\n",
    "if seed is not None:\n",
    "    print(f'random seed: {seed}')\n",
    "    set_seed(seed)"
   ]
  },
  {
   "cell_type": "code",
   "execution_count": 2,
   "id": "e83cf191",
   "metadata": {},
   "outputs": [],
   "source": [
    "source_lang = 'ro'\n",
    "target_lang = 'en'\n",
    "max_source_length = 1024\n",
    "max_target_length = 128\n",
    "task_prefix = 'translate Romanian to English: '\n",
    "num_beams = 1\n",
    "batch_size = 100"
   ]
  },
  {
   "cell_type": "markdown",
   "id": "c335d092",
   "metadata": {},
   "source": [
    "Load the tokenizer and model from the location where you save them:"
   ]
  },
  {
   "cell_type": "code",
   "execution_count": 3,
   "id": "27a06822",
   "metadata": {},
   "outputs": [],
   "source": [
    "from transformers import AutoTokenizer, AutoModelForSeq2SeqLM\n",
    "\n",
    "output_dir = '/media/data2/t5-translation-example' # make sure this is a valid path on your machine!\n",
    "tokenizer = AutoTokenizer.from_pretrained(output_dir, local_files_only=True)\n",
    "model = AutoModelForSeq2SeqLM.from_pretrained(output_dir, local_files_only=True)\n",
    "model = model.to(device)"
   ]
  },
  {
   "cell_type": "markdown",
   "id": "5af16e8a",
   "metadata": {},
   "source": [
    "Load just the test partition of the dataset from HuggingFace:"
   ]
  },
  {
   "cell_type": "code",
   "execution_count": 4,
   "id": "bd678729",
   "metadata": {},
   "outputs": [
    {
     "name": "stderr",
     "output_type": "stream",
     "text": [
      "Reusing dataset wmt16 (/home/marco/.cache/huggingface/datasets/wmt16/ro-en/1.0.0/9e0038fe4cc117bd474d2774032cc133e355146ed0a47021b2040ca9db4645c0)\n"
     ]
    },
    {
     "data": {
      "text/plain": [
       "Dataset({\n",
       "    features: ['translation'],\n",
       "    num_rows: 1999\n",
       "})"
      ]
     },
     "execution_count": 4,
     "metadata": {},
     "output_type": "execute_result"
    }
   ],
   "source": [
    "from datasets import load_dataset\n",
    "\n",
    "test_ds = load_dataset('wmt16', 'ro-en', split='test')\n",
    "test_ds"
   ]
  },
  {
   "cell_type": "code",
   "execution_count": 5,
   "id": "29548a82",
   "metadata": {},
   "outputs": [
    {
     "data": {
      "text/plain": [
       "{'en': 'UN Chief Says There Is No Military Solution in Syria',\n",
       " 'ro': 'Șeful ONU declară că nu există soluții militare în Siria'}"
      ]
     },
     "execution_count": 5,
     "metadata": {},
     "output_type": "execute_result"
    }
   ],
   "source": [
    "test_ds['translation'][0]"
   ]
  },
  {
   "cell_type": "markdown",
   "id": "07c8c941",
   "metadata": {},
   "source": [
    "Implement the `translate` method and apply it to the test partition:"
   ]
  },
  {
   "cell_type": "code",
   "execution_count": 6,
   "id": "03015a8b",
   "metadata": {},
   "outputs": [],
   "source": [
    "def translate(batch):\n",
    "    # get source language examples and prepend task prefix\n",
    "    inputs = [x[source_lang] for x in batch[\"translation\"]]\n",
    "    inputs = [task_prefix + x for x in inputs]\n",
    "    \n",
    "    # tokenize inputs\n",
    "    encoded = tokenizer(\n",
    "        inputs,\n",
    "        max_length=max_source_length,\n",
    "        truncation=True,\n",
    "        padding=True,\n",
    "        return_tensors='pt',\n",
    "    )\n",
    "    \n",
    "    # move data to gpu if needed\n",
    "    input_ids = encoded.input_ids.to(device)\n",
    "    attention_mask = encoded.attention_mask.to(device)\n",
    "    \n",
    "    # generate translated sentences\n",
    "    output = model.generate(\n",
    "        input_ids=input_ids,\n",
    "        attention_mask=attention_mask,\n",
    "        num_beams=num_beams,\n",
    "        max_length=max_target_length,\n",
    "    )\n",
    "    \n",
    "    # generate predicted sentences from predicted token ids\n",
    "    decoded = tokenizer.batch_decode(\n",
    "        output,\n",
    "        skip_special_tokens=True,\n",
    "    )\n",
    "    \n",
    "    # get gold sentences in target language\n",
    "    targets = [x[target_lang] for x in batch[\"translation\"]]\n",
    "    \n",
    "    # return gold and predicted sentences\n",
    "    return {\n",
    "        'reference': targets,\n",
    "        'prediction': decoded,\n",
    "    }"
   ]
  },
  {
   "cell_type": "code",
   "execution_count": 7,
   "id": "47e9bd72",
   "metadata": {},
   "outputs": [
    {
     "data": {
      "application/vnd.jupyter.widget-view+json": {
       "model_id": "da60e3d553a9496a91c07afe581c73b0",
       "version_major": 2,
       "version_minor": 0
      },
      "text/plain": [
       "  0%|          | 0/20 [00:00<?, ?ba/s]"
      ]
     },
     "metadata": {},
     "output_type": "display_data"
    },
    {
     "data": {
      "text/html": [
       "<div>\n",
       "<style scoped>\n",
       "    .dataframe tbody tr th:only-of-type {\n",
       "        vertical-align: middle;\n",
       "    }\n",
       "\n",
       "    .dataframe tbody tr th {\n",
       "        vertical-align: top;\n",
       "    }\n",
       "\n",
       "    .dataframe thead th {\n",
       "        text-align: right;\n",
       "    }\n",
       "</style>\n",
       "<table border=\"1\" class=\"dataframe\">\n",
       "  <thead>\n",
       "    <tr style=\"text-align: right;\">\n",
       "      <th></th>\n",
       "      <th>reference</th>\n",
       "      <th>prediction</th>\n",
       "    </tr>\n",
       "  </thead>\n",
       "  <tbody>\n",
       "    <tr>\n",
       "      <th>0</th>\n",
       "      <td>UN Chief Says There Is No Military Solution in...</td>\n",
       "      <td>UN chief says no military solutions in Syria</td>\n",
       "    </tr>\n",
       "    <tr>\n",
       "      <th>1</th>\n",
       "      <td>Secretary-General Ban Ki-moon says his respons...</td>\n",
       "      <td>Secretary-General Ban Ki-moon says his respons...</td>\n",
       "    </tr>\n",
       "    <tr>\n",
       "      <th>2</th>\n",
       "      <td>The U.N. chief again urged all parties, includ...</td>\n",
       "      <td>The UN chief again called on all parties, incl...</td>\n",
       "    </tr>\n",
       "    <tr>\n",
       "      <th>3</th>\n",
       "      <td>Ban told a news conference Wednesday that he p...</td>\n",
       "      <td>Ban said at a conference Wednesday that he pla...</td>\n",
       "    </tr>\n",
       "    <tr>\n",
       "      <th>4</th>\n",
       "      <td>He expressed regret that divisions in the coun...</td>\n",
       "      <td>Ban expressed regret that divisions in the cou...</td>\n",
       "    </tr>\n",
       "    <tr>\n",
       "      <th>...</th>\n",
       "      <td>...</td>\n",
       "      <td>...</td>\n",
       "    </tr>\n",
       "    <tr>\n",
       "      <th>1994</th>\n",
       "      <td>Money is enough.</td>\n",
       "      <td>There is no money.</td>\n",
       "    </tr>\n",
       "    <tr>\n",
       "      <th>1995</th>\n",
       "      <td>Sometimes I'm ashamed to take my money from th...</td>\n",
       "      <td>Sometimes I am ashamed to raise money from the...</td>\n",
       "    </tr>\n",
       "    <tr>\n",
       "      <th>1996</th>\n",
       "      <td>At the end of the office I will report everyth...</td>\n",
       "      <td>At the end of my term of office, I will report...</td>\n",
       "    </tr>\n",
       "    <tr>\n",
       "      <th>1997</th>\n",
       "      <td>One month I happened to collect 30,000 lei wit...</td>\n",
       "      <td>It happened to rise in one month and 30.000 le...</td>\n",
       "    </tr>\n",
       "    <tr>\n",
       "      <th>1998</th>\n",
       "      <td>\"To say that an MP does not have enough money ...</td>\n",
       "      <td>\"Let a MP say that it doesn't get his money is...</td>\n",
       "    </tr>\n",
       "  </tbody>\n",
       "</table>\n",
       "<p>1999 rows × 2 columns</p>\n",
       "</div>"
      ],
      "text/plain": [
       "                                              reference  \\\n",
       "0     UN Chief Says There Is No Military Solution in...   \n",
       "1     Secretary-General Ban Ki-moon says his respons...   \n",
       "2     The U.N. chief again urged all parties, includ...   \n",
       "3     Ban told a news conference Wednesday that he p...   \n",
       "4     He expressed regret that divisions in the coun...   \n",
       "...                                                 ...   \n",
       "1994                                   Money is enough.   \n",
       "1995  Sometimes I'm ashamed to take my money from th...   \n",
       "1996  At the end of the office I will report everyth...   \n",
       "1997  One month I happened to collect 30,000 lei wit...   \n",
       "1998  \"To say that an MP does not have enough money ...   \n",
       "\n",
       "                                             prediction  \n",
       "0          UN chief says no military solutions in Syria  \n",
       "1     Secretary-General Ban Ki-moon says his respons...  \n",
       "2     The UN chief again called on all parties, incl...  \n",
       "3     Ban said at a conference Wednesday that he pla...  \n",
       "4     Ban expressed regret that divisions in the cou...  \n",
       "...                                                 ...  \n",
       "1994                                 There is no money.  \n",
       "1995  Sometimes I am ashamed to raise money from the...  \n",
       "1996  At the end of my term of office, I will report...  \n",
       "1997  It happened to rise in one month and 30.000 le...  \n",
       "1998  \"Let a MP say that it doesn't get his money is...  \n",
       "\n",
       "[1999 rows x 2 columns]"
      ]
     },
     "execution_count": 7,
     "metadata": {},
     "output_type": "execute_result"
    }
   ],
   "source": [
    "results = test_ds.map(\n",
    "    translate,\n",
    "    batched=True,\n",
    "    batch_size=batch_size,\n",
    "    remove_columns=test_ds.column_names,\n",
    ")\n",
    "\n",
    "results.to_pandas()"
   ]
  },
  {
   "cell_type": "markdown",
   "id": "ca65e13c",
   "metadata": {},
   "source": [
    "Compute the BLEU score:"
   ]
  },
  {
   "cell_type": "code",
   "execution_count": 8,
   "id": "144210bb",
   "metadata": {},
   "outputs": [
    {
     "data": {
      "text/plain": [
       "{'score': 33.39227034561738,\n",
       " 'counts': [31267, 18123, 11587, 7627],\n",
       " 'totals': [47851, 45852, 43855, 41859],\n",
       " 'precisions': [65.34241708637228,\n",
       "  39.52499345721015,\n",
       "  26.421160643028163,\n",
       "  18.22069327982035],\n",
       " 'bp': 1.0,\n",
       " 'sys_len': 47851,\n",
       " 'ref_len': 47562}"
      ]
     },
     "execution_count": 8,
     "metadata": {},
     "output_type": "execute_result"
    }
   ],
   "source": [
    "from datasets import load_metric\n",
    "\n",
    "metric = load_metric('sacrebleu')\n",
    "\n",
    "for r in results:\n",
    "    prediction = r['prediction']\n",
    "    reference = [r['reference']]\n",
    "    metric.add(prediction=prediction, reference=reference)\n",
    "    \n",
    "metric.compute()"
   ]
  }
 ],
 "metadata": {
  "kernelspec": {
   "display_name": "Python 3 (ipykernel)",
   "language": "python",
   "name": "python3"
  },
  "language_info": {
   "codemirror_mode": {
    "name": "ipython",
    "version": 3
   },
   "file_extension": ".py",
   "mimetype": "text/x-python",
   "name": "python",
   "nbconvert_exporter": "python",
   "pygments_lexer": "ipython3",
   "version": "3.10.6"
  }
 },
 "nbformat": 4,
 "nbformat_minor": 5
}
