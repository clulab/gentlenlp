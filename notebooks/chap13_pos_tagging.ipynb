{
 "cells": [
  {
   "cell_type": "code",
   "execution_count": 1,
   "id": "a8df59b1",
   "metadata": {},
   "outputs": [
    {
     "name": "stdout",
     "output_type": "stream",
     "text": [
      "device: cuda\n",
      "random seed: 1234\n"
     ]
    }
   ],
   "source": [
    "import random\n",
    "import torch\n",
    "import numpy as np\n",
    "import pandas as pd\n",
    "from tqdm.notebook import tqdm\n",
    "\n",
    "# enable tqdm in pandas\n",
    "tqdm.pandas()\n",
    "\n",
    "# set to True to use the gpu (if there is one available)\n",
    "use_gpu = True\n",
    "\n",
    "# select device\n",
    "device = torch.device('cuda' if use_gpu and torch.cuda.is_available() else 'cpu')\n",
    "print(f'device: {device.type}')\n",
    "\n",
    "# random seed\n",
    "seed = 1234\n",
    "\n",
    "# set random seed\n",
    "if seed is not None:\n",
    "    print(f'random seed: {seed}')\n",
    "    random.seed(seed)\n",
    "    np.random.seed(seed)\n",
    "    torch.manual_seed(seed)"
   ]
  },
  {
   "cell_type": "code",
   "execution_count": 2,
   "id": "2dc69429",
   "metadata": {},
   "outputs": [],
   "source": [
    "from conllu import parse_incr\n",
    "\n",
    "def read_tags(filename):\n",
    "    data = {'words': [], 'tags': []}\n",
    "    with open(filename) as f:\n",
    "        for sent in tqdm(parse_incr(f)):\n",
    "            words = [tok['form'] for tok in sent]\n",
    "            tags = [tok['upos'] for tok in sent]\n",
    "            data['words'].append(words)\n",
    "            data['tags'].append(tags)\n",
    "    return pd.DataFrame(data)"
   ]
  },
  {
   "cell_type": "code",
   "execution_count": 3,
   "id": "fb0fbf5f",
   "metadata": {},
   "outputs": [
    {
     "data": {
      "application/vnd.jupyter.widget-view+json": {
       "model_id": "62f4edb2db82439092f8832893549ff1",
       "version_major": 2,
       "version_minor": 0
      },
      "text/plain": [
       "0it [00:00, ?it/s]"
      ]
     },
     "metadata": {},
     "output_type": "display_data"
    },
    {
     "data": {
      "application/vnd.jupyter.widget-view+json": {
       "model_id": "dea6780a42544cd8b222c58e6573d315",
       "version_major": 2,
       "version_minor": 0
      },
      "text/plain": [
       "0it [00:00, ?it/s]"
      ]
     },
     "metadata": {},
     "output_type": "display_data"
    },
    {
     "data": {
      "application/vnd.jupyter.widget-view+json": {
       "model_id": "7f634efe98274d808afe9d3d05ba0320",
       "version_major": 2,
       "version_minor": 0
      },
      "text/plain": [
       "0it [00:00, ?it/s]"
      ]
     },
     "metadata": {},
     "output_type": "display_data"
    }
   ],
   "source": [
    "train_df = read_tags('data/UD_Spanish-AnCora/es_ancora-ud-train.conllup')\n",
    "valid_df = read_tags('data/UD_Spanish-AnCora/es_ancora-ud-dev.conllup')\n",
    "test_df = read_tags('data/UD_Spanish-AnCora/es_ancora-ud-test.conllup')"
   ]
  },
  {
   "cell_type": "code",
   "execution_count": 4,
   "id": "efa4ba44",
   "metadata": {},
   "outputs": [],
   "source": [
    "tags = train_df['tags'].explode().unique()\n",
    "index_to_tag = {i:t for i,t in enumerate(tags)}\n",
    "tag_to_index = {t:i for i,t in enumerate(tags)}"
   ]
  },
  {
   "cell_type": "code",
   "execution_count": 5,
   "id": "efe63b4b",
   "metadata": {},
   "outputs": [
    {
     "data": {
      "text/plain": [
       "DatasetDict({\n",
       "    train: Dataset({\n",
       "        features: ['words', 'tags'],\n",
       "        num_rows: 14305\n",
       "    })\n",
       "    validation: Dataset({\n",
       "        features: ['words', 'tags'],\n",
       "        num_rows: 1654\n",
       "    })\n",
       "    test: Dataset({\n",
       "        features: ['words', 'tags'],\n",
       "        num_rows: 1721\n",
       "    })\n",
       "})"
      ]
     },
     "execution_count": 5,
     "metadata": {},
     "output_type": "execute_result"
    }
   ],
   "source": [
    "from datasets import Dataset, DatasetDict\n",
    "\n",
    "ds = DatasetDict()\n",
    "ds['train'] = Dataset.from_pandas(train_df)\n",
    "ds['validation'] = Dataset.from_pandas(valid_df)\n",
    "ds['test'] = Dataset.from_pandas(test_df)\n",
    "ds"
   ]
  },
  {
   "cell_type": "code",
   "execution_count": 6,
   "id": "9b17cc71",
   "metadata": {},
   "outputs": [
    {
     "data": {
      "text/html": [
       "<div>\n",
       "<style scoped>\n",
       "    .dataframe tbody tr th:only-of-type {\n",
       "        vertical-align: middle;\n",
       "    }\n",
       "\n",
       "    .dataframe tbody tr th {\n",
       "        vertical-align: top;\n",
       "    }\n",
       "\n",
       "    .dataframe thead th {\n",
       "        text-align: right;\n",
       "    }\n",
       "</style>\n",
       "<table border=\"1\" class=\"dataframe\">\n",
       "  <thead>\n",
       "    <tr style=\"text-align: right;\">\n",
       "      <th></th>\n",
       "      <th>words</th>\n",
       "      <th>tags</th>\n",
       "    </tr>\n",
       "  </thead>\n",
       "  <tbody>\n",
       "    <tr>\n",
       "      <th>0</th>\n",
       "      <td>[El, presidente, de, el, órgano, regulador, de...</td>\n",
       "      <td>[DET, NOUN, ADP, DET, NOUN, ADJ, ADP, DET, PRO...</td>\n",
       "    </tr>\n",
       "    <tr>\n",
       "      <th>1</th>\n",
       "      <td>[Sobre, la, oferta, de, interconexión, con, Te...</td>\n",
       "      <td>[ADP, DET, NOUN, ADP, NOUN, ADP, PROPN, ADP, D...</td>\n",
       "    </tr>\n",
       "    <tr>\n",
       "      <th>2</th>\n",
       "      <td>[Afirmó, que, sigue, el, criterio, europeo, y,...</td>\n",
       "      <td>[VERB, SCONJ, VERB, DET, NOUN, ADJ, CCONJ, SCO...</td>\n",
       "    </tr>\n",
       "    <tr>\n",
       "      <th>3</th>\n",
       "      <td>[La, inversión, en, investigación, básica, es,...</td>\n",
       "      <td>[DET, NOUN, ADP, NOUN, ADJ, AUX, DET, NOUN, AD...</td>\n",
       "    </tr>\n",
       "    <tr>\n",
       "      <th>4</th>\n",
       "      <td>[Durante, la, presentación, de, el, libro, \", ...</td>\n",
       "      <td>[ADP, DET, NOUN, ADP, DET, NOUN, PUNCT, DET, P...</td>\n",
       "    </tr>\n",
       "    <tr>\n",
       "      <th>...</th>\n",
       "      <td>...</td>\n",
       "      <td>...</td>\n",
       "    </tr>\n",
       "    <tr>\n",
       "      <th>14300</th>\n",
       "      <td>[Y, todas, las, miradas, convergen, en, la, lu...</td>\n",
       "      <td>[CCONJ, DET, DET, NOUN, VERB, ADP, DET, NOUN, ...</td>\n",
       "    </tr>\n",
       "    <tr>\n",
       "      <th>14301</th>\n",
       "      <td>[Conviene, que, ahora, ,, en, plena, apoteosis...</td>\n",
       "      <td>[VERB, SCONJ, ADV, PUNCT, ADP, ADJ, NOUN, ADP,...</td>\n",
       "    </tr>\n",
       "    <tr>\n",
       "      <th>14302</th>\n",
       "      <td>[Cambiar, las, formas, parece, de, rigor, ,, p...</td>\n",
       "      <td>[VERB, DET, NOUN, VERB, ADP, NOUN, PUNCT, CCON...</td>\n",
       "    </tr>\n",
       "    <tr>\n",
       "      <th>14303</th>\n",
       "      <td>[Carlos, y, Fayna, se, enzarzan, en, una, bron...</td>\n",
       "      <td>[PROPN, CCONJ, PROPN, PRON, VERB, ADP, DET, NO...</td>\n",
       "    </tr>\n",
       "    <tr>\n",
       "      <th>14304</th>\n",
       "      <td>[Él, llega, a, tirar, la, sobre, la, cama, y, ...</td>\n",
       "      <td>[PRON, VERB, ADP, VERB, PRON, ADP, DET, NOUN, ...</td>\n",
       "    </tr>\n",
       "  </tbody>\n",
       "</table>\n",
       "<p>14305 rows × 2 columns</p>\n",
       "</div>"
      ],
      "text/plain": [
       "                                                   words  \\\n",
       "0      [El, presidente, de, el, órgano, regulador, de...   \n",
       "1      [Sobre, la, oferta, de, interconexión, con, Te...   \n",
       "2      [Afirmó, que, sigue, el, criterio, europeo, y,...   \n",
       "3      [La, inversión, en, investigación, básica, es,...   \n",
       "4      [Durante, la, presentación, de, el, libro, \", ...   \n",
       "...                                                  ...   \n",
       "14300  [Y, todas, las, miradas, convergen, en, la, lu...   \n",
       "14301  [Conviene, que, ahora, ,, en, plena, apoteosis...   \n",
       "14302  [Cambiar, las, formas, parece, de, rigor, ,, p...   \n",
       "14303  [Carlos, y, Fayna, se, enzarzan, en, una, bron...   \n",
       "14304  [Él, llega, a, tirar, la, sobre, la, cama, y, ...   \n",
       "\n",
       "                                                    tags  \n",
       "0      [DET, NOUN, ADP, DET, NOUN, ADJ, ADP, DET, PRO...  \n",
       "1      [ADP, DET, NOUN, ADP, NOUN, ADP, PROPN, ADP, D...  \n",
       "2      [VERB, SCONJ, VERB, DET, NOUN, ADJ, CCONJ, SCO...  \n",
       "3      [DET, NOUN, ADP, NOUN, ADJ, AUX, DET, NOUN, AD...  \n",
       "4      [ADP, DET, NOUN, ADP, DET, NOUN, PUNCT, DET, P...  \n",
       "...                                                  ...  \n",
       "14300  [CCONJ, DET, DET, NOUN, VERB, ADP, DET, NOUN, ...  \n",
       "14301  [VERB, SCONJ, ADV, PUNCT, ADP, ADJ, NOUN, ADP,...  \n",
       "14302  [VERB, DET, NOUN, VERB, ADP, NOUN, PUNCT, CCON...  \n",
       "14303  [PROPN, CCONJ, PROPN, PRON, VERB, ADP, DET, NO...  \n",
       "14304  [PRON, VERB, ADP, VERB, PRON, ADP, DET, NOUN, ...  \n",
       "\n",
       "[14305 rows x 2 columns]"
      ]
     },
     "execution_count": 6,
     "metadata": {},
     "output_type": "execute_result"
    }
   ],
   "source": [
    "ds['train'].to_pandas()"
   ]
  },
  {
   "cell_type": "code",
   "execution_count": 7,
   "id": "e6a2aa93",
   "metadata": {},
   "outputs": [],
   "source": [
    "from transformers import AutoTokenizer\n",
    "\n",
    "transformer_name = 'xlm-roberta-base'\n",
    "tokenizer = AutoTokenizer.from_pretrained(transformer_name)"
   ]
  },
  {
   "cell_type": "code",
   "execution_count": 8,
   "id": "f943294a",
   "metadata": {},
   "outputs": [
    {
     "data": {
      "text/html": [
       "<div>\n",
       "<style scoped>\n",
       "    .dataframe tbody tr th:only-of-type {\n",
       "        vertical-align: middle;\n",
       "    }\n",
       "\n",
       "    .dataframe tbody tr th {\n",
       "        vertical-align: top;\n",
       "    }\n",
       "\n",
       "    .dataframe thead th {\n",
       "        text-align: right;\n",
       "    }\n",
       "</style>\n",
       "<table border=\"1\" class=\"dataframe\">\n",
       "  <thead>\n",
       "    <tr style=\"text-align: right;\">\n",
       "      <th></th>\n",
       "      <th>0</th>\n",
       "      <th>1</th>\n",
       "      <th>2</th>\n",
       "      <th>3</th>\n",
       "      <th>4</th>\n",
       "      <th>5</th>\n",
       "      <th>6</th>\n",
       "      <th>7</th>\n",
       "      <th>8</th>\n",
       "      <th>9</th>\n",
       "      <th>...</th>\n",
       "      <th>49</th>\n",
       "      <th>50</th>\n",
       "      <th>51</th>\n",
       "      <th>52</th>\n",
       "      <th>53</th>\n",
       "      <th>54</th>\n",
       "      <th>55</th>\n",
       "      <th>56</th>\n",
       "      <th>57</th>\n",
       "      <th>58</th>\n",
       "    </tr>\n",
       "  </thead>\n",
       "  <tbody>\n",
       "    <tr>\n",
       "      <th>tokens</th>\n",
       "      <td>&lt;s&gt;</td>\n",
       "      <td>▁El</td>\n",
       "      <td>▁presidente</td>\n",
       "      <td>▁de</td>\n",
       "      <td>▁el</td>\n",
       "      <td>▁órgano</td>\n",
       "      <td>▁regula</td>\n",
       "      <td>dor</td>\n",
       "      <td>▁de</td>\n",
       "      <td>▁las</td>\n",
       "      <td>...</td>\n",
       "      <td>▁Tele</td>\n",
       "      <td>f</td>\n",
       "      <td>ónica</td>\n",
       "      <td>▁a</td>\n",
       "      <td>▁otros</td>\n",
       "      <td>▁operador</td>\n",
       "      <td>es</td>\n",
       "      <td>▁</td>\n",
       "      <td>.</td>\n",
       "      <td>&lt;/s&gt;</td>\n",
       "    </tr>\n",
       "    <tr>\n",
       "      <th>word ids</th>\n",
       "      <td>None</td>\n",
       "      <td>0</td>\n",
       "      <td>1</td>\n",
       "      <td>2</td>\n",
       "      <td>3</td>\n",
       "      <td>4</td>\n",
       "      <td>5</td>\n",
       "      <td>5</td>\n",
       "      <td>6</td>\n",
       "      <td>7</td>\n",
       "      <td>...</td>\n",
       "      <td>39</td>\n",
       "      <td>39</td>\n",
       "      <td>39</td>\n",
       "      <td>40</td>\n",
       "      <td>41</td>\n",
       "      <td>42</td>\n",
       "      <td>42</td>\n",
       "      <td>43</td>\n",
       "      <td>43</td>\n",
       "      <td>None</td>\n",
       "    </tr>\n",
       "  </tbody>\n",
       "</table>\n",
       "<p>2 rows × 59 columns</p>\n",
       "</div>"
      ],
      "text/plain": [
       "            0    1            2    3    4        5        6    7    8     9   \\\n",
       "tokens     <s>  ▁El  ▁presidente  ▁de  ▁el  ▁órgano  ▁regula  dor  ▁de  ▁las   \n",
       "word ids  None    0            1    2    3        4        5    5    6     7   \n",
       "\n",
       "          ...     49  50     51  52      53         54  55  56  57    58  \n",
       "tokens    ...  ▁Tele   f  ónica  ▁a  ▁otros  ▁operador  es   ▁   .  </s>  \n",
       "word ids  ...     39  39     39  40      41         42  42  43  43  None  \n",
       "\n",
       "[2 rows x 59 columns]"
      ]
     },
     "execution_count": 8,
     "metadata": {},
     "output_type": "execute_result"
    }
   ],
   "source": [
    "x = ds['train'][0]\n",
    "tokenized_input = tokenizer(x['words'], is_split_into_words=True)\n",
    "tokens = tokenizer.convert_ids_to_tokens(tokenized_input['input_ids'])\n",
    "word_ids = tokenized_input.word_ids()\n",
    "pd.DataFrame([tokens, word_ids], index=['tokens', 'word ids'])"
   ]
  },
  {
   "cell_type": "code",
   "execution_count": 9,
   "id": "e31c12af",
   "metadata": {},
   "outputs": [],
   "source": [
    "# https://arxiv.org/pdf/1810.04805.pdf\n",
    "# Section 5.3\n",
    "# We use the representation of the first sub-token as the input to the token-level classifier over the NER label set.\n",
    "\n",
    "# default value for CrossEntropyLoss ignore_index parameter\n",
    "ignore_index = -100\n",
    "\n",
    "def tokenize_and_align_labels(batch):\n",
    "    labels = []\n",
    "    # tokenize batch\n",
    "    tokenized_inputs = tokenizer(\n",
    "        batch['words'],\n",
    "        truncation=True,\n",
    "        is_split_into_words=True,\n",
    "    )\n",
    "    # iterate over batch elements\n",
    "    for i, tags in enumerate(batch['tags']):\n",
    "        label_ids = []\n",
    "        previous_word_id = None\n",
    "        # get word ids for current batch element\n",
    "        word_ids = tokenized_inputs.word_ids(batch_index=i)\n",
    "        # iterate over tokens in batch element\n",
    "        for word_id in word_ids:\n",
    "            if word_id is None or word_id == previous_word_id:\n",
    "                # ignore if not a word or word id has already been seen\n",
    "                label_ids.append(ignore_index)\n",
    "            else:\n",
    "                # get tag id for corresponding word\n",
    "                tag_id = tag_to_index[tags[word_id]]\n",
    "                label_ids.append(tag_id)\n",
    "            # remember this word id\n",
    "            previous_word_id = word_id\n",
    "        # save label ids for current batch element\n",
    "        labels.append(label_ids)\n",
    "    # store labels together with the tokenizer output\n",
    "    tokenized_inputs['labels'] = labels\n",
    "    return tokenized_inputs"
   ]
  },
  {
   "cell_type": "code",
   "execution_count": 10,
   "id": "683845b0",
   "metadata": {},
   "outputs": [
    {
     "data": {
      "application/vnd.jupyter.widget-view+json": {
       "model_id": "7dc0cf2419de49e89649b97a6cb2347e",
       "version_major": 2,
       "version_minor": 0
      },
      "text/plain": [
       "  0%|          | 0/15 [00:00<?, ?ba/s]"
      ]
     },
     "metadata": {},
     "output_type": "display_data"
    },
    {
     "data": {
      "application/vnd.jupyter.widget-view+json": {
       "model_id": "1d3e48cd46a84db4910c60dffae442fc",
       "version_major": 2,
       "version_minor": 0
      },
      "text/plain": [
       "  0%|          | 0/2 [00:00<?, ?ba/s]"
      ]
     },
     "metadata": {},
     "output_type": "display_data"
    },
    {
     "data": {
      "text/html": [
       "<div>\n",
       "<style scoped>\n",
       "    .dataframe tbody tr th:only-of-type {\n",
       "        vertical-align: middle;\n",
       "    }\n",
       "\n",
       "    .dataframe tbody tr th {\n",
       "        vertical-align: top;\n",
       "    }\n",
       "\n",
       "    .dataframe thead th {\n",
       "        text-align: right;\n",
       "    }\n",
       "</style>\n",
       "<table border=\"1\" class=\"dataframe\">\n",
       "  <thead>\n",
       "    <tr style=\"text-align: right;\">\n",
       "      <th></th>\n",
       "      <th>words</th>\n",
       "      <th>tags</th>\n",
       "      <th>input_ids</th>\n",
       "      <th>attention_mask</th>\n",
       "      <th>labels</th>\n",
       "    </tr>\n",
       "  </thead>\n",
       "  <tbody>\n",
       "    <tr>\n",
       "      <th>0</th>\n",
       "      <td>[El, presidente, de, el, órgano, regulador, de...</td>\n",
       "      <td>[DET, NOUN, ADP, DET, NOUN, ADJ, ADP, DET, PRO...</td>\n",
       "      <td>[0, 540, 9692, 8, 88, 103633, 15913, 1846, 8, ...</td>\n",
       "      <td>[1, 1, 1, 1, 1, 1, 1, 1, 1, 1, 1, 1, 1, 1, 1, ...</td>\n",
       "      <td>[-100, 0, 1, 2, 0, 1, 3, -100, 2, 0, 4, -100, ...</td>\n",
       "    </tr>\n",
       "    <tr>\n",
       "      <th>1</th>\n",
       "      <td>[Sobre, la, oferta, de, interconexión, con, Te...</td>\n",
       "      <td>[ADP, DET, NOUN, ADP, NOUN, ADP, PROPN, ADP, D...</td>\n",
       "      <td>[0, 44125, 21, 19806, 8, 1940, 2271, 3355, 194...</td>\n",
       "      <td>[1, 1, 1, 1, 1, 1, 1, 1, 1, 1, 1, 1, 1, 1, 1, ...</td>\n",
       "      <td>[-100, 2, 0, 1, 2, 1, -100, -100, -100, 2, 4, ...</td>\n",
       "    </tr>\n",
       "    <tr>\n",
       "      <th>2</th>\n",
       "      <td>[Afirmó, que, sigue, el, criterio, europeo, y,...</td>\n",
       "      <td>[VERB, SCONJ, VERB, DET, NOUN, ADJ, CCONJ, SCO...</td>\n",
       "      <td>[0, 62, 38949, 849, 41, 58453, 88, 166220, 620...</td>\n",
       "      <td>[1, 1, 1, 1, 1, 1, 1, 1, 1, 1, 1, 1, 1, 1, 1, ...</td>\n",
       "      <td>[-100, 6, -100, -100, 7, 6, 0, 1, 3, 10, 7, 6,...</td>\n",
       "    </tr>\n",
       "    <tr>\n",
       "      <th>3</th>\n",
       "      <td>[La, inversión, en, investigación, básica, es,...</td>\n",
       "      <td>[DET, NOUN, ADP, NOUN, ADJ, AUX, DET, NOUN, AD...</td>\n",
       "      <td>[0, 239, 98649, 22, 31674, 124528, 198, 88, 46...</td>\n",
       "      <td>[1, 1, 1, 1, 1, 1, 1, 1, 1, 1, 1, 1, 1, 1, 1, ...</td>\n",
       "      <td>[-100, 0, 1, 2, 1, 3, 9, 0, 1, 2, 0, 1, 10, 0,...</td>\n",
       "    </tr>\n",
       "    <tr>\n",
       "      <th>4</th>\n",
       "      <td>[Durante, la, presentación, de, el, libro, \", ...</td>\n",
       "      <td>[ADP, DET, NOUN, ADP, DET, NOUN, PUNCT, DET, P...</td>\n",
       "      <td>[0, 24292, 21, 43945, 8, 88, 7750, 44, 239, 78...</td>\n",
       "      <td>[1, 1, 1, 1, 1, 1, 1, 1, 1, 1, 1, 1, 1, 1, 1, ...</td>\n",
       "      <td>[-100, 2, 0, 1, 2, 0, 1, 8, 0, 4, -100, 2, 4, ...</td>\n",
       "    </tr>\n",
       "    <tr>\n",
       "      <th>...</th>\n",
       "      <td>...</td>\n",
       "      <td>...</td>\n",
       "      <td>...</td>\n",
       "      <td>...</td>\n",
       "      <td>...</td>\n",
       "    </tr>\n",
       "    <tr>\n",
       "      <th>14300</th>\n",
       "      <td>[Y, todas, las, miradas, convergen, en, la, lu...</td>\n",
       "      <td>[CCONJ, DET, DET, NOUN, VERB, ADP, DET, NOUN, ...</td>\n",
       "      <td>[0, 990, 5136, 576, 100688, 7, 158, 814, 1409,...</td>\n",
       "      <td>[1, 1, 1, 1, 1, 1, 1, 1, 1, 1, 1, 1, 1, 1, 1, ...</td>\n",
       "      <td>[-100, 10, 0, 0, 1, -100, 6, -100, -100, 2, 0,...</td>\n",
       "    </tr>\n",
       "    <tr>\n",
       "      <th>14301</th>\n",
       "      <td>[Conviene, que, ahora, ,, en, plena, apoteosis...</td>\n",
       "      <td>[VERB, SCONJ, ADV, PUNCT, ADP, ADJ, NOUN, ADP,...</td>\n",
       "      <td>[0, 1657, 7772, 13, 41, 18451, 6, 4, 22, 31161...</td>\n",
       "      <td>[1, 1, 1, 1, 1, 1, 1, 1, 1, 1, 1, 1, 1, 1, 1, ...</td>\n",
       "      <td>[-100, 6, -100, -100, 7, 11, 8, -100, 2, 3, 1,...</td>\n",
       "    </tr>\n",
       "    <tr>\n",
       "      <th>14302</th>\n",
       "      <td>[Cambiar, las, formas, parece, de, rigor, ,, p...</td>\n",
       "      <td>[VERB, DET, NOUN, VERB, ADP, NOUN, PUNCT, CCON...</td>\n",
       "      <td>[0, 313, 61055, 42, 576, 26497, 12295, 8, 7599...</td>\n",
       "      <td>[1, 1, 1, 1, 1, 1, 1, 1, 1, 1, 1, 1, 1, 1, 1, ...</td>\n",
       "      <td>[-100, 6, -100, -100, 0, 1, 6, 2, 1, 8, -100, ...</td>\n",
       "    </tr>\n",
       "    <tr>\n",
       "      <th>14303</th>\n",
       "      <td>[Carlos, y, Fayna, se, enzarzan, en, una, bron...</td>\n",
       "      <td>[PROPN, CCONJ, PROPN, PRON, VERB, ADP, DET, NO...</td>\n",
       "      <td>[0, 24856, 113, 114162, 76, 40, 22, 6383, 5935...</td>\n",
       "      <td>[1, 1, 1, 1, 1, 1, 1, 1, 1, 1, 1, 1, 1, 1, 1, ...</td>\n",
       "      <td>[-100, 4, 10, 4, -100, 5, 6, -100, -100, 2, 0,...</td>\n",
       "    </tr>\n",
       "    <tr>\n",
       "      <th>14304</th>\n",
       "      <td>[Él, llega, a, tirar, la, sobre, la, cama, y, ...</td>\n",
       "      <td>[PRON, VERB, ADP, VERB, PRON, ADP, DET, NOUN, ...</td>\n",
       "      <td>[0, 124043, 47612, 10, 61846, 21, 1028, 21, 39...</td>\n",
       "      <td>[1, 1, 1, 1, 1, 1, 1, 1, 1, 1, 1, 1, 1, 1, 1, ...</td>\n",
       "      <td>[-100, 5, 6, 2, 6, 5, 2, 0, 1, 10, 5, 6, 0, 1,...</td>\n",
       "    </tr>\n",
       "  </tbody>\n",
       "</table>\n",
       "<p>14305 rows × 5 columns</p>\n",
       "</div>"
      ],
      "text/plain": [
       "                                                   words  \\\n",
       "0      [El, presidente, de, el, órgano, regulador, de...   \n",
       "1      [Sobre, la, oferta, de, interconexión, con, Te...   \n",
       "2      [Afirmó, que, sigue, el, criterio, europeo, y,...   \n",
       "3      [La, inversión, en, investigación, básica, es,...   \n",
       "4      [Durante, la, presentación, de, el, libro, \", ...   \n",
       "...                                                  ...   \n",
       "14300  [Y, todas, las, miradas, convergen, en, la, lu...   \n",
       "14301  [Conviene, que, ahora, ,, en, plena, apoteosis...   \n",
       "14302  [Cambiar, las, formas, parece, de, rigor, ,, p...   \n",
       "14303  [Carlos, y, Fayna, se, enzarzan, en, una, bron...   \n",
       "14304  [Él, llega, a, tirar, la, sobre, la, cama, y, ...   \n",
       "\n",
       "                                                    tags  \\\n",
       "0      [DET, NOUN, ADP, DET, NOUN, ADJ, ADP, DET, PRO...   \n",
       "1      [ADP, DET, NOUN, ADP, NOUN, ADP, PROPN, ADP, D...   \n",
       "2      [VERB, SCONJ, VERB, DET, NOUN, ADJ, CCONJ, SCO...   \n",
       "3      [DET, NOUN, ADP, NOUN, ADJ, AUX, DET, NOUN, AD...   \n",
       "4      [ADP, DET, NOUN, ADP, DET, NOUN, PUNCT, DET, P...   \n",
       "...                                                  ...   \n",
       "14300  [CCONJ, DET, DET, NOUN, VERB, ADP, DET, NOUN, ...   \n",
       "14301  [VERB, SCONJ, ADV, PUNCT, ADP, ADJ, NOUN, ADP,...   \n",
       "14302  [VERB, DET, NOUN, VERB, ADP, NOUN, PUNCT, CCON...   \n",
       "14303  [PROPN, CCONJ, PROPN, PRON, VERB, ADP, DET, NO...   \n",
       "14304  [PRON, VERB, ADP, VERB, PRON, ADP, DET, NOUN, ...   \n",
       "\n",
       "                                               input_ids  \\\n",
       "0      [0, 540, 9692, 8, 88, 103633, 15913, 1846, 8, ...   \n",
       "1      [0, 44125, 21, 19806, 8, 1940, 2271, 3355, 194...   \n",
       "2      [0, 62, 38949, 849, 41, 58453, 88, 166220, 620...   \n",
       "3      [0, 239, 98649, 22, 31674, 124528, 198, 88, 46...   \n",
       "4      [0, 24292, 21, 43945, 8, 88, 7750, 44, 239, 78...   \n",
       "...                                                  ...   \n",
       "14300  [0, 990, 5136, 576, 100688, 7, 158, 814, 1409,...   \n",
       "14301  [0, 1657, 7772, 13, 41, 18451, 6, 4, 22, 31161...   \n",
       "14302  [0, 313, 61055, 42, 576, 26497, 12295, 8, 7599...   \n",
       "14303  [0, 24856, 113, 114162, 76, 40, 22, 6383, 5935...   \n",
       "14304  [0, 124043, 47612, 10, 61846, 21, 1028, 21, 39...   \n",
       "\n",
       "                                          attention_mask  \\\n",
       "0      [1, 1, 1, 1, 1, 1, 1, 1, 1, 1, 1, 1, 1, 1, 1, ...   \n",
       "1      [1, 1, 1, 1, 1, 1, 1, 1, 1, 1, 1, 1, 1, 1, 1, ...   \n",
       "2      [1, 1, 1, 1, 1, 1, 1, 1, 1, 1, 1, 1, 1, 1, 1, ...   \n",
       "3      [1, 1, 1, 1, 1, 1, 1, 1, 1, 1, 1, 1, 1, 1, 1, ...   \n",
       "4      [1, 1, 1, 1, 1, 1, 1, 1, 1, 1, 1, 1, 1, 1, 1, ...   \n",
       "...                                                  ...   \n",
       "14300  [1, 1, 1, 1, 1, 1, 1, 1, 1, 1, 1, 1, 1, 1, 1, ...   \n",
       "14301  [1, 1, 1, 1, 1, 1, 1, 1, 1, 1, 1, 1, 1, 1, 1, ...   \n",
       "14302  [1, 1, 1, 1, 1, 1, 1, 1, 1, 1, 1, 1, 1, 1, 1, ...   \n",
       "14303  [1, 1, 1, 1, 1, 1, 1, 1, 1, 1, 1, 1, 1, 1, 1, ...   \n",
       "14304  [1, 1, 1, 1, 1, 1, 1, 1, 1, 1, 1, 1, 1, 1, 1, ...   \n",
       "\n",
       "                                                  labels  \n",
       "0      [-100, 0, 1, 2, 0, 1, 3, -100, 2, 0, 4, -100, ...  \n",
       "1      [-100, 2, 0, 1, 2, 1, -100, -100, -100, 2, 4, ...  \n",
       "2      [-100, 6, -100, -100, 7, 6, 0, 1, 3, 10, 7, 6,...  \n",
       "3      [-100, 0, 1, 2, 1, 3, 9, 0, 1, 2, 0, 1, 10, 0,...  \n",
       "4      [-100, 2, 0, 1, 2, 0, 1, 8, 0, 4, -100, 2, 4, ...  \n",
       "...                                                  ...  \n",
       "14300  [-100, 10, 0, 0, 1, -100, 6, -100, -100, 2, 0,...  \n",
       "14301  [-100, 6, -100, -100, 7, 11, 8, -100, 2, 3, 1,...  \n",
       "14302  [-100, 6, -100, -100, 0, 1, 6, 2, 1, 8, -100, ...  \n",
       "14303  [-100, 4, 10, 4, -100, 5, 6, -100, -100, 2, 0,...  \n",
       "14304  [-100, 5, 6, 2, 6, 5, 2, 0, 1, 10, 5, 6, 0, 1,...  \n",
       "\n",
       "[14305 rows x 5 columns]"
      ]
     },
     "execution_count": 10,
     "metadata": {},
     "output_type": "execute_result"
    }
   ],
   "source": [
    "train_ds = ds['train'].map(tokenize_and_align_labels, batched=True)\n",
    "eval_ds = ds['validation'].map(tokenize_and_align_labels, batched=True)\n",
    "train_ds.to_pandas()"
   ]
  },
  {
   "cell_type": "code",
   "execution_count": 11,
   "id": "bd77d92c",
   "metadata": {},
   "outputs": [],
   "source": [
    "from torch import nn\n",
    "from transformers.modeling_outputs import TokenClassifierOutput\n",
    "from transformers.models.roberta.modeling_roberta import RobertaModel, RobertaPreTrainedModel\n",
    "\n",
    "# https://github.com/huggingface/transformers/blob/65659a29cf5a079842e61a63d57fa24474288998/src/transformers/models/roberta/modeling_roberta.py#L1346\n",
    "\n",
    "class XLMRobertaForTokenClassification(RobertaPreTrainedModel):    \n",
    "    def __init__(self, config):\n",
    "        super().__init__(config)\n",
    "        self.num_labels = config.num_labels\n",
    "        self.roberta = RobertaModel(config, add_pooling_layer=False)\n",
    "        self.dropout = nn.Dropout(config.hidden_dropout_prob)\n",
    "        self.classifier = nn.Linear(config.hidden_size, config.num_labels)\n",
    "        self.init_weights()\n",
    "        \n",
    "    def forward(self, input_ids=None, attention_mask=None, token_type_ids=None, labels=None, **kwargs):\n",
    "        outputs = self.roberta(\n",
    "            input_ids,\n",
    "            attention_mask=attention_mask,\n",
    "            token_type_ids=token_type_ids,\n",
    "            **kwargs,\n",
    "        )\n",
    "        sequence_output = self.dropout(outputs[0])\n",
    "        logits = self.classifier(sequence_output)\n",
    "        loss = None\n",
    "        if labels is not None:\n",
    "            loss_fn = nn.CrossEntropyLoss()\n",
    "            inputs = logits.view(-1, self.num_labels)\n",
    "            targets = labels.view(-1)\n",
    "            loss = loss_fn(inputs, targets)\n",
    "        return TokenClassifierOutput(\n",
    "            loss=loss,\n",
    "            logits=logits,\n",
    "            hidden_states=outputs.hidden_states,\n",
    "            attentions=outputs.attentions,\n",
    "        )"
   ]
  },
  {
   "cell_type": "code",
   "execution_count": 12,
   "id": "feaa70b0",
   "metadata": {},
   "outputs": [
    {
     "name": "stderr",
     "output_type": "stream",
     "text": [
      "Some weights of the model checkpoint at xlm-roberta-base were not used when initializing XLMRobertaForTokenClassification: ['lm_head.layer_norm.bias', 'lm_head.decoder.weight', 'lm_head.bias', 'roberta.pooler.dense.bias', 'lm_head.layer_norm.weight', 'roberta.pooler.dense.weight', 'lm_head.dense.weight', 'lm_head.dense.bias']\n",
      "- This IS expected if you are initializing XLMRobertaForTokenClassification from the checkpoint of a model trained on another task or with another architecture (e.g. initializing a BertForSequenceClassification model from a BertForPreTraining model).\n",
      "- This IS NOT expected if you are initializing XLMRobertaForTokenClassification from the checkpoint of a model that you expect to be exactly identical (initializing a BertForSequenceClassification model from a BertForSequenceClassification model).\n",
      "Some weights of XLMRobertaForTokenClassification were not initialized from the model checkpoint at xlm-roberta-base and are newly initialized: ['classifier.weight', 'classifier.bias', 'roberta.embeddings.position_ids']\n",
      "You should probably TRAIN this model on a down-stream task to be able to use it for predictions and inference.\n"
     ]
    }
   ],
   "source": [
    "from transformers import AutoConfig\n",
    "\n",
    "config = AutoConfig.from_pretrained(\n",
    "    transformer_name,\n",
    "    num_labels=len(index_to_tag),\n",
    ")\n",
    "\n",
    "model = (\n",
    "    XLMRobertaForTokenClassification\n",
    "    .from_pretrained(transformer_name, config=config)\n",
    ")"
   ]
  },
  {
   "cell_type": "code",
   "execution_count": 13,
   "id": "0e9c0f5d",
   "metadata": {},
   "outputs": [],
   "source": [
    "from transformers import TrainingArguments\n",
    "\n",
    "num_epochs = 2\n",
    "batch_size = 24\n",
    "weight_decay = 0.01\n",
    "model_name = f'{transformer_name}-finetuned-pos-es'\n",
    "\n",
    "training_args = TrainingArguments(\n",
    "    output_dir=model_name,\n",
    "    log_level='error',\n",
    "    num_train_epochs=num_epochs,\n",
    "    per_device_train_batch_size=batch_size,\n",
    "    per_device_eval_batch_size=batch_size,\n",
    "    evaluation_strategy='epoch',\n",
    "    weight_decay=weight_decay,\n",
    ")"
   ]
  },
  {
   "cell_type": "code",
   "execution_count": 14,
   "id": "289991d8",
   "metadata": {},
   "outputs": [],
   "source": [
    "from sklearn.metrics import accuracy_score\n",
    "\n",
    "def compute_metrics(eval_pred):\n",
    "    # gold labels\n",
    "    label_ids = eval_pred.label_ids\n",
    "    # predictions\n",
    "    pred_ids = np.argmax(eval_pred.predictions, axis=-1)\n",
    "    # collect gold and predicted labels, ignoring ignore_index label\n",
    "    y_true, y_pred = [], []\n",
    "    batch_size, seq_len = pred_ids.shape\n",
    "    for i in range(batch_size):\n",
    "        for j in range(seq_len):\n",
    "            if label_ids[i, j] != ignore_index:\n",
    "                y_true.append(index_to_tag[label_ids[i][j]])\n",
    "                y_pred.append(index_to_tag[pred_ids[i][j]])\n",
    "    # return computed metrics\n",
    "    return {'accuracy': accuracy_score(y_true, y_pred)}"
   ]
  },
  {
   "cell_type": "code",
   "execution_count": 15,
   "id": "a07494e6",
   "metadata": {},
   "outputs": [
    {
     "name": "stderr",
     "output_type": "stream",
     "text": [
      "/home/marco/miniconda3/envs/book/lib/python3.9/site-packages/transformers/optimization.py:306: FutureWarning: This implementation of AdamW is deprecated and will be removed in a future version. Use the PyTorch implementation torch.optim.AdamW instead, or set `no_deprecation_warning=True` to disable this warning\n",
      "  warnings.warn(\n"
     ]
    },
    {
     "data": {
      "text/html": [
       "\n",
       "    <div>\n",
       "      \n",
       "      <progress value='1194' max='1194' style='width:300px; height:20px; vertical-align: middle;'></progress>\n",
       "      [1194/1194 03:47, Epoch 2/2]\n",
       "    </div>\n",
       "    <table border=\"1\" class=\"dataframe\">\n",
       "  <thead>\n",
       " <tr style=\"text-align: left;\">\n",
       "      <th>Epoch</th>\n",
       "      <th>Training Loss</th>\n",
       "      <th>Validation Loss</th>\n",
       "      <th>Accuracy</th>\n",
       "    </tr>\n",
       "  </thead>\n",
       "  <tbody>\n",
       "    <tr>\n",
       "      <td>1</td>\n",
       "      <td>0.128500</td>\n",
       "      <td>0.038081</td>\n",
       "      <td>0.989724</td>\n",
       "    </tr>\n",
       "    <tr>\n",
       "      <td>2</td>\n",
       "      <td>0.029700</td>\n",
       "      <td>0.033605</td>\n",
       "      <td>0.991408</td>\n",
       "    </tr>\n",
       "  </tbody>\n",
       "</table><p>"
      ],
      "text/plain": [
       "<IPython.core.display.HTML object>"
      ]
     },
     "metadata": {},
     "output_type": "display_data"
    },
    {
     "data": {
      "text/plain": [
       "TrainOutput(global_step=1194, training_loss=0.07026634983081914, metrics={'train_runtime': 227.7328, 'train_samples_per_second': 125.63, 'train_steps_per_second': 5.243, 'total_flos': 1365717442999914.0, 'train_loss': 0.07026634983081914, 'epoch': 2.0})"
      ]
     },
     "execution_count": 15,
     "metadata": {},
     "output_type": "execute_result"
    }
   ],
   "source": [
    "from transformers import Trainer\n",
    "from transformers import DataCollatorForTokenClassification\n",
    "\n",
    "data_collator = DataCollatorForTokenClassification(tokenizer)\n",
    "\n",
    "trainer = Trainer(\n",
    "    model=model,\n",
    "    args=training_args,\n",
    "    data_collator=data_collator,\n",
    "    compute_metrics=compute_metrics,\n",
    "    train_dataset=train_ds,\n",
    "    eval_dataset=eval_ds,\n",
    "    tokenizer=tokenizer,\n",
    ")\n",
    "\n",
    "trainer.train()"
   ]
  },
  {
   "cell_type": "code",
   "execution_count": 16,
   "id": "177e1e44",
   "metadata": {},
   "outputs": [
    {
     "data": {
      "application/vnd.jupyter.widget-view+json": {
       "model_id": "8f014e49b0b244ef907244f6e660197a",
       "version_major": 2,
       "version_minor": 0
      },
      "text/plain": [
       "  0%|          | 0/2 [00:00<?, ?ba/s]"
      ]
     },
     "metadata": {},
     "output_type": "display_data"
    },
    {
     "data": {
      "text/html": [
       "\n",
       "    <div>\n",
       "      \n",
       "      <progress value='72' max='72' style='width:300px; height:20px; vertical-align: middle;'></progress>\n",
       "      [72/72 00:03]\n",
       "    </div>\n",
       "    "
      ],
      "text/plain": [
       "<IPython.core.display.HTML object>"
      ]
     },
     "metadata": {},
     "output_type": "display_data"
    }
   ],
   "source": [
    "test_ds = ds['test'].map(\n",
    "    tokenize_and_align_labels,\n",
    "    batched=True,\n",
    ")\n",
    "output = trainer.predict(test_ds)"
   ]
  },
  {
   "cell_type": "code",
   "execution_count": 17,
   "id": "295c4b13",
   "metadata": {},
   "outputs": [
    {
     "name": "stdout",
     "output_type": "stream",
     "text": [
      "              precision    recall  f1-score   support\n",
      "\n",
      "         DET       1.00      1.00      1.00      8040\n",
      "        NOUN       0.99      0.99      0.99      9533\n",
      "         ADP       1.00      1.00      1.00      8332\n",
      "         ADJ       0.98      0.97      0.97      3468\n",
      "       PROPN       0.99      0.99      0.99      4101\n",
      "        PRON       0.99      0.99      0.99      2484\n",
      "        VERB       0.99      0.99      0.99      4544\n",
      "       SCONJ       0.97      0.98      0.98      1210\n",
      "       PUNCT       1.00      1.00      1.00      6314\n",
      "         AUX       0.99      0.99      0.99      1396\n",
      "       CCONJ       1.00      1.00      1.00      1439\n",
      "         ADV       0.99      0.99      0.99      1710\n",
      "         NUM       0.97      0.98      0.97       958\n",
      "        PART       0.93      0.78      0.85        18\n",
      "         SYM       0.97      0.95      0.96        37\n",
      "        INTJ       0.86      0.75      0.80        16\n",
      "\n",
      "    accuracy                           0.99     53600\n",
      "   macro avg       0.98      0.96      0.97     53600\n",
      "weighted avg       0.99      0.99      0.99     53600\n",
      "\n"
     ]
    }
   ],
   "source": [
    "from sklearn.metrics import classification_report\n",
    "\n",
    "num_labels = model.num_labels\n",
    "label_ids = output.label_ids.reshape(-1)\n",
    "predictions = output.predictions.reshape(-1, num_labels)\n",
    "predictions = np.argmax(predictions, axis=-1)\n",
    "mask = label_ids != ignore_index\n",
    "\n",
    "y_true = label_ids[mask]\n",
    "y_pred = predictions[mask]\n",
    "target_names = tags[:-1]\n",
    "\n",
    "report = classification_report(\n",
    "    y_true, y_pred,\n",
    "    target_names=target_names\n",
    ")\n",
    "print(report)"
   ]
  },
  {
   "cell_type": "code",
   "execution_count": 18,
   "id": "10728133",
   "metadata": {},
   "outputs": [
    {
     "data": {
      "text/plain": [
       "<sklearn.metrics._plot.confusion_matrix.ConfusionMatrixDisplay at 0x7f05142c1070>"
      ]
     },
     "execution_count": 18,
     "metadata": {},
     "output_type": "execute_result"
    },
    {
     "data": {
      "image/png": "[encoded data removed]",
      "text/plain": [
       "<Figure size 720x720 with 1 Axes>"
      ]
     },
     "metadata": {
      "needs_background": "light"
     },
     "output_type": "display_data"
    }
   ],
   "source": [
    "import matplotlib.pyplot as plt\n",
    "from sklearn.metrics import ConfusionMatrixDisplay, confusion_matrix\n",
    "\n",
    "cm = confusion_matrix(y_true, y_pred, normalize='true')\n",
    "disp = ConfusionMatrixDisplay(\n",
    "    confusion_matrix=cm,\n",
    "    display_labels=target_names,\n",
    ")\n",
    "\n",
    "fig, ax = plt.subplots(figsize=(10,10))\n",
    "disp.plot(\n",
    "    cmap='Blues',\n",
    "    values_format='.2f',\n",
    "    colorbar=False,\n",
    "    ax=ax,\n",
    "    xticks_rotation=45,\n",
    ")"
   ]
  },
  {
   "cell_type": "code",
   "execution_count": null,
   "id": "d98b5063",
   "metadata": {},
   "outputs": [],
   "source": []
  }
 ],
 "metadata": {
  "kernelspec": {
   "display_name": "Python 3 (ipykernel)",
   "language": "python",
   "name": "python3"
  },
  "language_info": {
   "codemirror_mode": {
    "name": "ipython",
    "version": 3
   },
   "file_extension": ".py",
   "mimetype": "text/x-python",
   "name": "python",
   "nbconvert_exporter": "python",
   "pygments_lexer": "ipython3",
   "version": "3.9.12"
  }
 },
 "nbformat": 4,
 "nbformat_minor": 5
}
