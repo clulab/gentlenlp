{
 "cells": [
  {
   "cell_type": "markdown",
   "id": "70089b5b",
   "metadata": {},
   "source": [
    "# Using Pre-trained Word Embeddings\n",
    "\n",
    "In this notebook we will show some operations on pre-trained word embeddings to gain an intuition about them.\n",
    "\n",
    "We will be using the pre-trained GloVe embeddings that can be found in the [official website](https://nlp.stanford.edu/projects/glove/). In particular, we will use the file `glove.6B.300d.txt` contained in this [zip file](https://nlp.stanford.edu/data/glove.6B.zip).\n",
    "\n",
    "We will first load the GloVe embeddings using [Gensim](https://radimrehurek.com/gensim/). Specifically, we will use [`KeyedVectors`](https://radimrehurek.com/gensim/models/keyedvectors.html)'s [`load_word2vec_format()`](https://radimrehurek.com/gensim/models/keyedvectors.html#gensim.models.keyedvectors.KeyedVectors.load_word2vec_format) classmethod, which supports the original word2vec file format.\n",
    "However, there is a difference in the file formats used by GloVe and word2vec, which is a header used by word2vec to indicate the number of embeddings and dimensions stored in the file. The file that stores the GloVe embeddings doesn't have this header, so we will have to address that when loading the embeddings.\n",
    "\n",
    "Loading the embeddings may take a little bit, so hang in there!"
   ]
  },
  {
   "cell_type": "code",
   "execution_count": 2,
   "id": "31adf8d7",
   "metadata": {},
   "outputs": [
    {
     "data": {
      "text/plain": [
       "(400000, 300)"
      ]
     },
     "execution_count": 2,
     "metadata": {},
     "output_type": "execute_result"
    }
   ],
   "source": [
    "from gensim.models import KeyedVectors\n",
    "\n",
    "fname = \"glove.6B.300d.txt\"\n",
    "glove = KeyedVectors.load_word2vec_format(fname, no_header=True)\n",
    "glove.vectors.shape"
   ]
  },
  {
   "cell_type": "markdown",
   "id": "c3691c66",
   "metadata": {},
   "source": [
    "## Word similarity\n",
    "\n",
    "One attribute of word embeddings that makes them useful is the ability to compare them using cosine similarity to find how similar they are. [`KeyedVectors`](https://radimrehurek.com/gensim/models/keyedvectors.html) objects provide a method called [`most_similar()`](https://radimrehurek.com/gensim/models/keyedvectors.html#gensim.models.keyedvectors.KeyedVectors.most_similar) that we can use to find the closest words to a particular word of interest. By default, [`most_similar()`](https://radimrehurek.com/gensim/models/keyedvectors.html#gensim.models.keyedvectors.KeyedVectors.most_similar) returns the 10 most similar words, but this can be changed using the `topn` parameter.\n",
    "\n",
    "Below we test this function using a few different words."
   ]
  },
  {
   "cell_type": "code",
   "execution_count": 3,
   "id": "592b5236",
   "metadata": {},
   "outputs": [
    {
     "data": {
      "text/plain": [
       "[('cacti', 0.6634564399719238),\n",
       " ('saguaro', 0.619585394859314),\n",
       " ('pear', 0.5233486890792847),\n",
       " ('cactuses', 0.5178281664848328),\n",
       " ('prickly', 0.5156318545341492),\n",
       " ('mesquite', 0.4844855070114136),\n",
       " ('opuntia', 0.4540084898471832),\n",
       " ('shrubs', 0.45362064242362976),\n",
       " ('peyote', 0.45344963669776917),\n",
       " ('succulents', 0.4512787461280823)]"
      ]
     },
     "execution_count": 3,
     "metadata": {},
     "output_type": "execute_result"
    }
   ],
   "source": [
    "# common noun\n",
    "glove.most_similar(\"cactus\")"
   ]
  },
  {
   "cell_type": "code",
   "execution_count": 4,
   "id": "d9c5ded2",
   "metadata": {},
   "outputs": [
    {
     "data": {
      "text/plain": [
       "[('cakes', 0.7506030201911926),\n",
       " ('chocolate', 0.6965583562850952),\n",
       " ('dessert', 0.6440261006355286),\n",
       " ('pie', 0.6087430119514465),\n",
       " ('cookies', 0.6082394123077393),\n",
       " ('frosting', 0.6017215251922607),\n",
       " ('bread', 0.5954802632331848),\n",
       " ('cookie', 0.5933820009231567),\n",
       " ('recipe', 0.5827102065086365),\n",
       " ('baked', 0.5819962620735168)]"
      ]
     },
     "execution_count": 4,
     "metadata": {},
     "output_type": "execute_result"
    }
   ],
   "source": [
    "# common noun\n",
    "glove.most_similar(\"cake\")"
   ]
  },
  {
   "cell_type": "code",
   "execution_count": 5,
   "id": "ca890ec7",
   "metadata": {},
   "outputs": [
    {
     "data": {
      "text/plain": [
       "[('enraged', 0.7087873816490173),\n",
       " ('furious', 0.7078357934951782),\n",
       " ('irate', 0.6938743591308594),\n",
       " ('outraged', 0.6705204248428345),\n",
       " ('frustrated', 0.6515549421310425),\n",
       " ('angered', 0.635320246219635),\n",
       " ('provoked', 0.5827428102493286),\n",
       " ('annoyed', 0.581898033618927),\n",
       " ('incensed', 0.5751833319664001),\n",
       " ('indignant', 0.5704444646835327)]"
      ]
     },
     "execution_count": 5,
     "metadata": {},
     "output_type": "execute_result"
    }
   ],
   "source": [
    "# adjective\n",
    "glove.most_similar(\"angry\")"
   ]
  },
  {
   "cell_type": "code",
   "execution_count": 6,
   "id": "6a297340",
   "metadata": {},
   "outputs": [
    {
     "data": {
      "text/plain": [
       "[('soon', 0.7661860585212708),\n",
       " ('rapidly', 0.7216639518737793),\n",
       " ('swiftly', 0.7197349667549133),\n",
       " ('eventually', 0.7043026685714722),\n",
       " ('finally', 0.6900882124900818),\n",
       " ('immediately', 0.6842609643936157),\n",
       " ('then', 0.6697486042976379),\n",
       " ('slowly', 0.6645646095275879),\n",
       " ('gradually', 0.6401676535606384),\n",
       " ('when', 0.6347666382789612)]"
      ]
     },
     "execution_count": 6,
     "metadata": {},
     "output_type": "execute_result"
    }
   ],
   "source": [
    "# adverb\n",
    "glove.most_similar(\"quickly\")"
   ]
  },
  {
   "cell_type": "code",
   "execution_count": 7,
   "id": "33dfe403",
   "metadata": {},
   "outputs": [
    {
     "data": {
      "text/plain": [
       "[('sides', 0.5867610573768616),\n",
       " ('both', 0.5843431949615479),\n",
       " ('two', 0.5652360916137695),\n",
       " ('differences', 0.5140716433525085),\n",
       " ('which', 0.5120178461074829),\n",
       " ('conflict', 0.511545717716217),\n",
       " ('relationship', 0.5022751092910767),\n",
       " ('and', 0.498425155878067),\n",
       " ('in', 0.4970666766166687),\n",
       " ('relations', 0.49701136350631714)]"
      ]
     },
     "execution_count": 7,
     "metadata": {},
     "output_type": "execute_result"
    }
   ],
   "source": [
    "# preposition\n",
    "glove.most_similar(\"between\")"
   ]
  },
  {
   "cell_type": "code",
   "execution_count": 8,
   "id": "1919d8b1",
   "metadata": {},
   "outputs": [
    {
     "data": {
      "text/plain": [
       "[('of', 0.7057957053184509),\n",
       " ('which', 0.6992015242576599),\n",
       " ('this', 0.6747025847434998),\n",
       " ('part', 0.6727458834648132),\n",
       " ('same', 0.6592389941215515),\n",
       " ('its', 0.6446540355682373),\n",
       " ('first', 0.6398991346359253),\n",
       " ('in', 0.6361348032951355),\n",
       " ('one', 0.6245333552360535),\n",
       " ('that', 0.6176422834396362)]"
      ]
     },
     "execution_count": 8,
     "metadata": {},
     "output_type": "execute_result"
    }
   ],
   "source": [
    "# determiner\n",
    "glove.most_similar(\"the\")"
   ]
  },
  {
   "cell_type": "markdown",
   "id": "f0ef3da4",
   "metadata": {},
   "source": [
    "## Word analogies\n",
    "\n",
    "Another characteristic of word embeddings is their ability to solve analogy problems.\n",
    "The same [`most_similar()`](https://radimrehurek.com/gensim/models/keyedvectors.html#gensim.models.keyedvectors.KeyedVectors.most_similar) method can be used for this task, by passing two lists of words:\n",
    "a `positive` list with the words that should be added and a `negative` list with the words that should be subtracted. Using these arguments, the famous example $\\vec{king} - \\vec{man} + \\vec{woman} \\approx \\vec{queen}$ can be executed as follows:"
   ]
  },
  {
   "cell_type": "code",
   "execution_count": 9,
   "id": "4badb9ae",
   "metadata": {},
   "outputs": [
    {
     "data": {
      "text/plain": [
       "[('queen', 0.6713277101516724),\n",
       " ('princess', 0.5432624220848083),\n",
       " ('throne', 0.5386105179786682),\n",
       " ('monarch', 0.5347574949264526),\n",
       " ('daughter', 0.4980250597000122),\n",
       " ('mother', 0.4956442713737488),\n",
       " ('elizabeth', 0.4832652509212494),\n",
       " ('kingdom', 0.47747090458869934),\n",
       " ('prince', 0.4668240249156952),\n",
       " ('wife', 0.46473270654678345)]"
      ]
     },
     "execution_count": 9,
     "metadata": {},
     "output_type": "execute_result"
    }
   ],
   "source": [
    "# king - man + woman\n",
    "glove.most_similar(positive=[\"king\", \"woman\"], negative=[\"man\"])"
   ]
  },
  {
   "cell_type": "markdown",
   "id": "e5c5619e",
   "metadata": {},
   "source": [
    "Here are a few other interesting analogies:"
   ]
  },
  {
   "cell_type": "code",
   "execution_count": 10,
   "id": "5b357d34",
   "metadata": {},
   "outputs": [
    {
     "data": {
      "text/plain": [
       "[('airplane', 0.5897148251533508),\n",
       " ('flying', 0.5675230026245117),\n",
       " ('plane', 0.5317023396492004),\n",
       " ('flies', 0.5172374248504639),\n",
       " ('flown', 0.514790415763855),\n",
       " ('airplanes', 0.5091356635093689),\n",
       " ('flew', 0.5011662244796753),\n",
       " ('planes', 0.4970923364162445),\n",
       " ('aircraft', 0.4957723915576935),\n",
       " ('helicopter', 0.45859551429748535)]"
      ]
     },
     "execution_count": 10,
     "metadata": {},
     "output_type": "execute_result"
    }
   ],
   "source": [
    "# car - drive + fly\n",
    "glove.most_similar(positive=[\"car\", \"fly\"], negative=[\"drive\"])"
   ]
  },
  {
   "cell_type": "code",
   "execution_count": 11,
   "id": "ceed96a3",
   "metadata": {},
   "outputs": [
    {
     "data": {
      "text/plain": [
       "[('sydney', 0.6780862212181091),\n",
       " ('melbourne', 0.6499180793762207),\n",
       " ('australian', 0.594883143901825),\n",
       " ('perth', 0.5828552842140198),\n",
       " ('canberra', 0.5610732436180115),\n",
       " ('brisbane', 0.55231112241745),\n",
       " ('zealand', 0.5240115523338318),\n",
       " ('queensland', 0.5193883180618286),\n",
       " ('adelaide', 0.5027671456336975),\n",
       " ('london', 0.4644604027271271)]"
      ]
     },
     "execution_count": 11,
     "metadata": {},
     "output_type": "execute_result"
    }
   ],
   "source": [
    "# berlin - germany + australia\n",
    "glove.most_similar(positive=[\"berlin\", \"australia\"], negative=[\"germany\"])"
   ]
  },
  {
   "cell_type": "code",
   "execution_count": 12,
   "id": "334606b0",
   "metadata": {},
   "outputs": [
    {
     "data": {
      "text/plain": [
       "[('iraq', 0.5320571660995483),\n",
       " ('fallujah', 0.4834090769290924),\n",
       " ('iraqi', 0.47287362813949585),\n",
       " ('mosul', 0.464663565158844),\n",
       " ('iraqis', 0.43555372953414917),\n",
       " ('najaf', 0.4352763295173645),\n",
       " ('baqouba', 0.42063191533088684),\n",
       " ('basra', 0.4190516471862793),\n",
       " ('samarra', 0.4125366508960724),\n",
       " ('saddam', 0.40791556239128113)]"
      ]
     },
     "execution_count": 12,
     "metadata": {},
     "output_type": "execute_result"
    }
   ],
   "source": [
    "# england - london + baghdad\n",
    "glove.most_similar(positive=[\"england\", \"baghdad\"], negative=[\"london\"])"
   ]
  },
  {
   "cell_type": "code",
   "execution_count": 13,
   "id": "c5d8a5e2",
   "metadata": {},
   "outputs": [
    {
     "data": {
      "text/plain": [
       "[('mexico', 0.5726831555366516),\n",
       " ('philippines', 0.5445368885993958),\n",
       " ('peru', 0.48382261395454407),\n",
       " ('venezuela', 0.4816672205924988),\n",
       " ('brazil', 0.46643102169036865),\n",
       " ('argentina', 0.45490509271621704),\n",
       " ('philippine', 0.4417841136455536),\n",
       " ('chile', 0.43960973620414734),\n",
       " ('colombia', 0.4386259913444519),\n",
       " ('thailand', 0.43396785855293274)]"
      ]
     },
     "execution_count": 13,
     "metadata": {},
     "output_type": "execute_result"
    }
   ],
   "source": [
    "# japan - yen + peso\n",
    "glove.most_similar(positive=[\"japan\", \"peso\"], negative=[\"yen\"])"
   ]
  },
  {
   "cell_type": "code",
   "execution_count": 14,
   "id": "78e0663d",
   "metadata": {},
   "outputs": [
    {
     "data": {
      "text/plain": [
       "[('tallest', 0.5077418684959412),\n",
       " ('taller', 0.47616493701934814),\n",
       " ('height', 0.46000057458877563),\n",
       " ('metres', 0.4584785997867584),\n",
       " ('cm', 0.45212721824645996),\n",
       " ('meters', 0.44067248702049255),\n",
       " ('towering', 0.42784252762794495),\n",
       " ('centimeters', 0.4234543442726135),\n",
       " ('inches', 0.4174586832523346),\n",
       " ('erect', 0.4087314009666443)]"
      ]
     },
     "execution_count": 14,
     "metadata": {},
     "output_type": "execute_result"
    }
   ],
   "source": [
    "# best - good + tall\n",
    "glove.most_similar(positive=[\"best\", \"tall\"], negative=[\"good\"])"
   ]
  },
  {
   "cell_type": "markdown",
   "id": "82403941",
   "metadata": {},
   "source": [
    "## Looking under the hood\n",
    "\n",
    "Now that we are more familiar with the [`most_similar()`](https://radimrehurek.com/gensim/models/keyedvectors.html#gensim.models.keyedvectors.KeyedVectors.most_similar) method, it is time to implement its functionality ourselves.\n",
    "But first, we need to take a look at the different parts of the [`KeyedVectors`](https://radimrehurek.com/gensim/models/keyedvectors.html) object that we will need.\n",
    "Obviously, we will need the vectors themselves. They are stored in the `vectors` attribute."
   ]
  },
  {
   "cell_type": "code",
   "execution_count": 15,
   "id": "153802bd",
   "metadata": {},
   "outputs": [
    {
     "data": {
      "text/plain": [
       "(400000, 300)"
      ]
     },
     "execution_count": 15,
     "metadata": {},
     "output_type": "execute_result"
    }
   ],
   "source": [
    "glove.vectors.shape"
   ]
  },
  {
   "cell_type": "markdown",
   "id": "fc372d2e",
   "metadata": {},
   "source": [
    "As we can see above, `vectors` is a 2-dimensional matrix with 400,000 rows and 300 columns.\n",
    "Each row corresponds to a 300-dimensional word embedding. These embeddings are not normalized, but normalized embeddings can be obtained using the [`get_normed_vectors()`](https://radimrehurek.com/gensim/models/keyedvectors.html#gensim.models.keyedvectors.KeyedVectors.get_normed_vectors) method."
   ]
  },
  {
   "cell_type": "code",
   "execution_count": 16,
   "id": "2d61d4e2",
   "metadata": {},
   "outputs": [
    {
     "data": {
      "text/plain": [
       "(400000, 300)"
      ]
     },
     "execution_count": 16,
     "metadata": {},
     "output_type": "execute_result"
    }
   ],
   "source": [
    "normed_vectors = glove.get_normed_vectors()\n",
    "normed_vectors.shape"
   ]
  },
  {
   "cell_type": "markdown",
   "id": "24407ad7",
   "metadata": {},
   "source": [
    "Now we need to map the words in the vocabulary to rows in the `vectors` matrix, and vice versa.\n",
    "The [`KeyedVectors`](https://radimrehurek.com/gensim/models/keyedvectors.html) object has the attributes `index_to_key` and `key_to_index` which are a list of words and a dictionary of words to indices, respectively."
   ]
  },
  {
   "cell_type": "code",
   "execution_count": 17,
   "id": "9280e88c",
   "metadata": {},
   "outputs": [],
   "source": [
    "#glove.index_to_key"
   ]
  },
  {
   "cell_type": "code",
   "execution_count": 18,
   "id": "4695b181",
   "metadata": {},
   "outputs": [],
   "source": [
    "#glove.key_to_index"
   ]
  },
  {
   "cell_type": "markdown",
   "id": "2ef07a09",
   "metadata": {},
   "source": [
    "## Word similarity from scratch\n",
    "\n",
    "Now we have everything we need to implement a `most_similar_words()` function that takes a word, the vector matrix, the `index_to_key` list, and the `key_to_index` dictionary. This function will return the 10 most similar words to the provided word, along with their similarity scores."
   ]
  },
  {
   "cell_type": "code",
   "execution_count": 19,
   "id": "054b3aec",
   "metadata": {},
   "outputs": [],
   "source": [
    "import numpy as np\n",
    "\n",
    "def most_similar_words(word, vectors, index_to_key, key_to_index, topn=10):\n",
    "    # retrieve word_id corresponding to given word\n",
    "    word_id = key_to_index[word]\n",
    "    # retrieve embedding for given word\n",
    "    emb = vectors[word_id]\n",
    "    # calculate similarities to all words in out vocabulary\n",
    "    similarities = vectors @ emb\n",
    "    # get word_ids in ascending order with respect to similarity score\n",
    "    ids_ascending = similarities.argsort()\n",
    "    # reverse word_ids\n",
    "    ids_descending = ids_ascending[::-1]\n",
    "    # get boolean array with element corresponding to word_id set to false\n",
    "    mask = ids_descending != word_id\n",
    "    # obtain new array of indices that doesn't contain word_id\n",
    "    # (otherwise the most similar word to the argument would be the argument itself)\n",
    "    ids_descending = ids_descending[mask]\n",
    "    # get topn word_ids\n",
    "    top_ids = ids_descending[:topn]\n",
    "    # retrieve topn words with their corresponding similarity score\n",
    "    top_words = [(index_to_key[i], similarities[i]) for i in top_ids]\n",
    "    # return results\n",
    "    return top_words"
   ]
  },
  {
   "cell_type": "markdown",
   "id": "bbad469a",
   "metadata": {},
   "source": [
    "Now let's try the same example that we used above: the most similar words to \"cactus\"."
   ]
  },
  {
   "cell_type": "code",
   "execution_count": 20,
   "id": "8fea29a1",
   "metadata": {},
   "outputs": [
    {
     "data": {
      "text/plain": [
       "[('cacti', 0.6634565),\n",
       " ('saguaro', 0.6195854),\n",
       " ('pear', 0.5233487),\n",
       " ('cactuses', 0.5178282),\n",
       " ('prickly', 0.51563185),\n",
       " ('mesquite', 0.48448554),\n",
       " ('opuntia', 0.45400843),\n",
       " ('shrubs', 0.45362067),\n",
       " ('peyote', 0.4534496),\n",
       " ('succulents', 0.45127875)]"
      ]
     },
     "execution_count": 20,
     "metadata": {},
     "output_type": "execute_result"
    }
   ],
   "source": [
    "vectors = glove.get_normed_vectors()\n",
    "index_to_key = glove.index_to_key\n",
    "key_to_index = glove.key_to_index\n",
    "most_similar_words(\"cactus\", vectors, index_to_key, key_to_index)"
   ]
  },
  {
   "cell_type": "markdown",
   "id": "12bfd0c3",
   "metadata": {},
   "source": [
    "## Analogies from scratch\n",
    "\n",
    "The `most_similar_words()` function behaves as expected. Now let's implement a function to perform the analogy task. We will give it the very creative name `analogy`. This function will get two lists of words (one for positive words and one for negative words), just like the [`most_similar()`](https://radimrehurek.com/gensim/models/keyedvectors.html#gensim.models.keyedvectors.KeyedVectors.most_similar) method we discussed above."
   ]
  },
  {
   "cell_type": "code",
   "execution_count": 21,
   "id": "6b64cdc8",
   "metadata": {},
   "outputs": [],
   "source": [
    "from numpy.linalg import norm\n",
    "\n",
    "def analogy(positive, negative, vectors, index_to_key, key_to_index, topn=10):\n",
    "    # find ids for positive and negative words\n",
    "    pos_ids = [key_to_index[w] for w in positive]\n",
    "    neg_ids = [key_to_index[w] for w in negative]\n",
    "    given_word_ids = pos_ids + neg_ids\n",
    "    # get embeddings for positive and negative words\n",
    "    pos_emb = vectors[pos_ids].sum(axis=0)\n",
    "    neg_emb = vectors[neg_ids].sum(axis=0)\n",
    "    # get embedding for analogy\n",
    "    emb = pos_emb - neg_emb\n",
    "    # normalize embedding\n",
    "    emb = emb / norm(emb)\n",
    "    # calculate similarities to all words in out vocabulary\n",
    "    similarities = vectors @ emb\n",
    "    # get word_ids in ascending order with respect to similarity score\n",
    "    ids_ascending = similarities.argsort()\n",
    "    # reverse word_ids\n",
    "    ids_descending = ids_ascending[::-1]\n",
    "    # get boolean array with element corresponding to any of given_word_ids set to false\n",
    "    given_words_mask = np.isin(ids_descending, given_word_ids, invert=True)\n",
    "    # obtain new array of indices that doesn't contain any of the given_word_ids\n",
    "    ids_descending = ids_descending[given_words_mask]\n",
    "    # get topn word_ids\n",
    "    top_ids = ids_descending[:topn]\n",
    "    # retrieve topn words with their corresponding similarity score\n",
    "    top_words = [(index_to_key[i], similarities[i]) for i in top_ids]\n",
    "    # return results\n",
    "    return top_words"
   ]
  },
  {
   "cell_type": "markdown",
   "id": "39a9cff3",
   "metadata": {},
   "source": [
    "Let's try this function with the $\\vec{king} - \\vec{man} + \\vec{woman} \\approx \\vec{queen}$ example we discussed above."
   ]
  },
  {
   "cell_type": "code",
   "execution_count": 22,
   "id": "a3c103f3",
   "metadata": {},
   "outputs": [
    {
     "data": {
      "text/plain": [
       "[('queen', 0.67132765),\n",
       " ('princess', 0.5432624),\n",
       " ('throne', 0.53861046),\n",
       " ('monarch', 0.5347575),\n",
       " ('daughter', 0.4980251),\n",
       " ('mother', 0.49564427),\n",
       " ('elizabeth', 0.48326522),\n",
       " ('kingdom', 0.47747084),\n",
       " ('prince', 0.466824),\n",
       " ('wife', 0.46473268)]"
      ]
     },
     "execution_count": 22,
     "metadata": {},
     "output_type": "execute_result"
    }
   ],
   "source": [
    "positive = [\"king\", \"woman\"]\n",
    "negative = [\"man\"]\n",
    "vectors = glove.get_normed_vectors()\n",
    "index_to_key = glove.index_to_key\n",
    "key_to_index = glove.key_to_index\n",
    "analogy(positive, negative, vectors, index_to_key, key_to_index)"
   ]
  },
  {
   "cell_type": "code",
   "execution_count": null,
   "id": "1d81ff25",
   "metadata": {},
   "outputs": [],
   "source": []
  }
 ],
 "metadata": {
  "kernelspec": {
   "display_name": "Python 3",
   "language": "python",
   "name": "python3"
  },
  "language_info": {
   "codemirror_mode": {
    "name": "ipython",
    "version": 3
   },
   "file_extension": ".py",
   "mimetype": "text/x-python",
   "name": "python",
   "nbconvert_exporter": "python",
   "pygments_lexer": "ipython3",
   "version": "3.9.12"
  }
 },
 "nbformat": 4,
 "nbformat_minor": 5
}
