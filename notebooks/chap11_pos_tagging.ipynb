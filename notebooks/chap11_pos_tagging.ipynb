{
 "cells": [
  {
   "cell_type": "markdown",
   "id": "e18ec731",
   "metadata": {},
   "source": [
    "# Part-of-speech Tagging Using RNNs"
   ]
  },
  {
   "cell_type": "markdown",
   "id": "9d6f31a4",
   "metadata": {},
   "source": [
    "Some initialization:"
   ]
  },
  {
   "cell_type": "code",
   "execution_count": 4,
   "id": "b1c7160d",
   "metadata": {},
   "outputs": [
    {
     "name": "stdout",
     "output_type": "stream",
     "text": [
      "device: cpu\n",
      "random seed: 1234\n"
     ]
    }
   ],
   "source": [
    "import random\n",
    "import torch\n",
    "import numpy as np\n",
    "import pandas as pd\n",
    "from tqdm.notebook import tqdm\n",
    "\n",
    "# enable tqdm in pandas\n",
    "tqdm.pandas()\n",
    "\n",
    "# set to True to use the gpu (if there is one available)\n",
    "use_gpu = True\n",
    "\n",
    "# select device\n",
    "device = torch.device('cuda' if use_gpu and torch.cuda.is_available() else 'cpu')\n",
    "print(f'device: {device.type}')\n",
    "\n",
    "# random seed\n",
    "seed = 1234\n",
    "\n",
    "# set random seed\n",
    "if seed is not None:\n",
    "    print(f'random seed: {seed}')\n",
    "    random.seed(seed)\n",
    "    np.random.seed(seed)\n",
    "    torch.manual_seed(seed)"
   ]
  },
  {
   "cell_type": "markdown",
   "id": "e2f5cc27",
   "metadata": {},
   "source": [
    "Next, let's read the words and their POS tags from the CoNLLUP format:"
   ]
  },
  {
   "cell_type": "code",
   "execution_count": 5,
   "id": "1c8da6b1",
   "metadata": {},
   "outputs": [],
   "source": [
    "from conllu import parse_incr\n",
    "\n",
    "def read_tags(filename):\n",
    "    data = {'words': [], 'tags': []}\n",
    "    with open(filename) as f:\n",
    "        for sent in parse_incr(f):\n",
    "            words = [tok['form'] for tok in sent]\n",
    "            tags = [tok['upos'] for tok in sent]\n",
    "            data['words'].append(words)\n",
    "            data['tags'].append(tags)\n",
    "    return pd.DataFrame(data)"
   ]
  },
  {
   "cell_type": "code",
   "execution_count": 6,
   "id": "924f9820",
   "metadata": {},
   "outputs": [
    {
     "data": {
      "text/html": [
       "<div>\n",
       "<style scoped>\n",
       "    .dataframe tbody tr th:only-of-type {\n",
       "        vertical-align: middle;\n",
       "    }\n",
       "\n",
       "    .dataframe tbody tr th {\n",
       "        vertical-align: top;\n",
       "    }\n",
       "\n",
       "    .dataframe thead th {\n",
       "        text-align: right;\n",
       "    }\n",
       "</style>\n",
       "<table border=\"1\" class=\"dataframe\">\n",
       "  <thead>\n",
       "    <tr style=\"text-align: right;\">\n",
       "      <th></th>\n",
       "      <th>words</th>\n",
       "      <th>tags</th>\n",
       "    </tr>\n",
       "  </thead>\n",
       "  <tbody>\n",
       "    <tr>\n",
       "      <th>0</th>\n",
       "      <td>[El, presidente, de, el, órgano, regulador, de...</td>\n",
       "      <td>[DET, NOUN, ADP, DET, NOUN, ADJ, ADP, DET, PRO...</td>\n",
       "    </tr>\n",
       "    <tr>\n",
       "      <th>1</th>\n",
       "      <td>[Sobre, la, oferta, de, interconexión, con, Te...</td>\n",
       "      <td>[ADP, DET, NOUN, ADP, NOUN, ADP, PROPN, ADP, D...</td>\n",
       "    </tr>\n",
       "    <tr>\n",
       "      <th>2</th>\n",
       "      <td>[Afirmó, que, sigue, el, criterio, europeo, y,...</td>\n",
       "      <td>[VERB, SCONJ, VERB, DET, NOUN, ADJ, CCONJ, SCO...</td>\n",
       "    </tr>\n",
       "    <tr>\n",
       "      <th>3</th>\n",
       "      <td>[La, inversión, en, investigación, básica, es,...</td>\n",
       "      <td>[DET, NOUN, ADP, NOUN, ADJ, AUX, DET, NOUN, AD...</td>\n",
       "    </tr>\n",
       "    <tr>\n",
       "      <th>4</th>\n",
       "      <td>[Durante, la, presentación, de, el, libro, \", ...</td>\n",
       "      <td>[ADP, DET, NOUN, ADP, DET, NOUN, PUNCT, DET, P...</td>\n",
       "    </tr>\n",
       "    <tr>\n",
       "      <th>...</th>\n",
       "      <td>...</td>\n",
       "      <td>...</td>\n",
       "    </tr>\n",
       "    <tr>\n",
       "      <th>14300</th>\n",
       "      <td>[Y, todas, las, miradas, convergen, en, la, lu...</td>\n",
       "      <td>[CCONJ, DET, DET, NOUN, VERB, ADP, DET, NOUN, ...</td>\n",
       "    </tr>\n",
       "    <tr>\n",
       "      <th>14301</th>\n",
       "      <td>[Conviene, que, ahora, ,, en, plena, apoteosis...</td>\n",
       "      <td>[VERB, SCONJ, ADV, PUNCT, ADP, ADJ, NOUN, ADP,...</td>\n",
       "    </tr>\n",
       "    <tr>\n",
       "      <th>14302</th>\n",
       "      <td>[Cambiar, las, formas, parece, de, rigor, ,, p...</td>\n",
       "      <td>[VERB, DET, NOUN, VERB, ADP, NOUN, PUNCT, CCON...</td>\n",
       "    </tr>\n",
       "    <tr>\n",
       "      <th>14303</th>\n",
       "      <td>[Carlos, y, Fayna, se, enzarzan, en, una, bron...</td>\n",
       "      <td>[PROPN, CCONJ, PROPN, PRON, VERB, ADP, DET, NO...</td>\n",
       "    </tr>\n",
       "    <tr>\n",
       "      <th>14304</th>\n",
       "      <td>[Él, llega, a, tirar, la, sobre, la, cama, y, ...</td>\n",
       "      <td>[PRON, VERB, ADP, VERB, PRON, ADP, DET, NOUN, ...</td>\n",
       "    </tr>\n",
       "  </tbody>\n",
       "</table>\n",
       "<p>14305 rows × 2 columns</p>\n",
       "</div>"
      ],
      "text/plain": [
       "                                                   words  \\\n",
       "0      [El, presidente, de, el, órgano, regulador, de...   \n",
       "1      [Sobre, la, oferta, de, interconexión, con, Te...   \n",
       "2      [Afirmó, que, sigue, el, criterio, europeo, y,...   \n",
       "3      [La, inversión, en, investigación, básica, es,...   \n",
       "4      [Durante, la, presentación, de, el, libro, \", ...   \n",
       "...                                                  ...   \n",
       "14300  [Y, todas, las, miradas, convergen, en, la, lu...   \n",
       "14301  [Conviene, que, ahora, ,, en, plena, apoteosis...   \n",
       "14302  [Cambiar, las, formas, parece, de, rigor, ,, p...   \n",
       "14303  [Carlos, y, Fayna, se, enzarzan, en, una, bron...   \n",
       "14304  [Él, llega, a, tirar, la, sobre, la, cama, y, ...   \n",
       "\n",
       "                                                    tags  \n",
       "0      [DET, NOUN, ADP, DET, NOUN, ADJ, ADP, DET, PRO...  \n",
       "1      [ADP, DET, NOUN, ADP, NOUN, ADP, PROPN, ADP, D...  \n",
       "2      [VERB, SCONJ, VERB, DET, NOUN, ADJ, CCONJ, SCO...  \n",
       "3      [DET, NOUN, ADP, NOUN, ADJ, AUX, DET, NOUN, AD...  \n",
       "4      [ADP, DET, NOUN, ADP, DET, NOUN, PUNCT, DET, P...  \n",
       "...                                                  ...  \n",
       "14300  [CCONJ, DET, DET, NOUN, VERB, ADP, DET, NOUN, ...  \n",
       "14301  [VERB, SCONJ, ADV, PUNCT, ADP, ADJ, NOUN, ADP,...  \n",
       "14302  [VERB, DET, NOUN, VERB, ADP, NOUN, PUNCT, CCON...  \n",
       "14303  [PROPN, CCONJ, PROPN, PRON, VERB, ADP, DET, NO...  \n",
       "14304  [PRON, VERB, ADP, VERB, PRON, ADP, DET, NOUN, ...  \n",
       "\n",
       "[14305 rows x 2 columns]"
      ]
     },
     "execution_count": 6,
     "metadata": {},
     "output_type": "execute_result"
    }
   ],
   "source": [
    "train_df = read_tags('data/UD_Spanish-AnCora/es_ancora-ud-train.conllup')\n",
    "train_df"
   ]
  },
  {
   "cell_type": "markdown",
   "id": "31ffbeaa",
   "metadata": {},
   "source": [
    "We now load the GloVe embeddings for Spanish, which include a representation for the unknown token:"
   ]
  },
  {
   "cell_type": "code",
   "execution_count": 7,
   "id": "eac1d7a2",
   "metadata": {},
   "outputs": [
    {
     "data": {
      "text/plain": [
       "(855380, 300)"
      ]
     },
     "execution_count": 7,
     "metadata": {},
     "output_type": "execute_result"
    }
   ],
   "source": [
    "from gensim.models import KeyedVectors\n",
    "glove = KeyedVectors.load_word2vec_format('glove-sbwc.i25.vec')\n",
    "glove.vectors.shape"
   ]
  },
  {
   "cell_type": "code",
   "execution_count": 8,
   "id": "09448f33",
   "metadata": {},
   "outputs": [
    {
     "data": {
      "text/plain": [
       "('<unk>', 855379)"
      ]
     },
     "execution_count": 8,
     "metadata": {},
     "output_type": "execute_result"
    }
   ],
   "source": [
    "# these embeddings already include <unk>\n",
    "unk_tok = '<unk>'\n",
    "unk_id = glove.key_to_index[unk_tok]\n",
    "unk_tok, unk_id"
   ]
  },
  {
   "cell_type": "code",
   "execution_count": 9,
   "id": "b625b6af",
   "metadata": {},
   "outputs": [
    {
     "name": "stderr",
     "output_type": "stream",
     "text": [
      "/Users/msurdeanu/miniconda3/envs/transformers/lib/python3.10/site-packages/gensim/models/keyedvectors.py:478: UserWarning: Adding single vectors to a KeyedVectors which grows by one each time can be costly. Consider adding in batches or preallocating to the required size.\n",
      "  warnings.warn(\n"
     ]
    },
    {
     "data": {
      "text/plain": [
       "('<pad>', 855380)"
      ]
     },
     "execution_count": 9,
     "metadata": {},
     "output_type": "execute_result"
    }
   ],
   "source": [
    "# add padding embedding\n",
    "pad_tok = '<pad>'\n",
    "pad_emb = np.zeros(300)\n",
    "glove.add_vector(pad_tok, pad_emb)\n",
    "pad_tok_id = glove.key_to_index[pad_tok]\n",
    "pad_tok, pad_tok_id"
   ]
  },
  {
   "cell_type": "markdown",
   "id": "0cbfa317",
   "metadata": {},
   "source": [
    "Preprocessing: lower case all words, and replace all numbers with '0':"
   ]
  },
  {
   "cell_type": "code",
   "execution_count": 10,
   "id": "c76b1190",
   "metadata": {},
   "outputs": [
    {
     "data": {
      "application/vnd.jupyter.widget-view+json": {
       "model_id": "b9170ab4eca64e549c8b98ee4febba5a",
       "version_major": 2,
       "version_minor": 0
      },
      "text/plain": [
       "  0%|          | 0/14305 [00:00<?, ?it/s]"
      ]
     },
     "metadata": {},
     "output_type": "display_data"
    },
    {
     "data": {
      "text/html": [
       "<div>\n",
       "<style scoped>\n",
       "    .dataframe tbody tr th:only-of-type {\n",
       "        vertical-align: middle;\n",
       "    }\n",
       "\n",
       "    .dataframe tbody tr th {\n",
       "        vertical-align: top;\n",
       "    }\n",
       "\n",
       "    .dataframe thead th {\n",
       "        text-align: right;\n",
       "    }\n",
       "</style>\n",
       "<table border=\"1\" class=\"dataframe\">\n",
       "  <thead>\n",
       "    <tr style=\"text-align: right;\">\n",
       "      <th></th>\n",
       "      <th>words</th>\n",
       "      <th>tags</th>\n",
       "    </tr>\n",
       "  </thead>\n",
       "  <tbody>\n",
       "    <tr>\n",
       "      <th>0</th>\n",
       "      <td>[el, presidente, de, el, órgano, regulador, de...</td>\n",
       "      <td>[DET, NOUN, ADP, DET, NOUN, ADJ, ADP, DET, PRO...</td>\n",
       "    </tr>\n",
       "    <tr>\n",
       "      <th>1</th>\n",
       "      <td>[sobre, la, oferta, de, interconexión, con, te...</td>\n",
       "      <td>[ADP, DET, NOUN, ADP, NOUN, ADP, PROPN, ADP, D...</td>\n",
       "    </tr>\n",
       "    <tr>\n",
       "      <th>2</th>\n",
       "      <td>[afirmó, que, sigue, el, criterio, europeo, y,...</td>\n",
       "      <td>[VERB, SCONJ, VERB, DET, NOUN, ADJ, CCONJ, SCO...</td>\n",
       "    </tr>\n",
       "    <tr>\n",
       "      <th>3</th>\n",
       "      <td>[la, inversión, en, investigación, básica, es,...</td>\n",
       "      <td>[DET, NOUN, ADP, NOUN, ADJ, AUX, DET, NOUN, AD...</td>\n",
       "    </tr>\n",
       "    <tr>\n",
       "      <th>4</th>\n",
       "      <td>[durante, la, presentación, de, el, libro, \", ...</td>\n",
       "      <td>[ADP, DET, NOUN, ADP, DET, NOUN, PUNCT, DET, P...</td>\n",
       "    </tr>\n",
       "    <tr>\n",
       "      <th>...</th>\n",
       "      <td>...</td>\n",
       "      <td>...</td>\n",
       "    </tr>\n",
       "    <tr>\n",
       "      <th>14300</th>\n",
       "      <td>[y, todas, las, miradas, convergen, en, la, lu...</td>\n",
       "      <td>[CCONJ, DET, DET, NOUN, VERB, ADP, DET, NOUN, ...</td>\n",
       "    </tr>\n",
       "    <tr>\n",
       "      <th>14301</th>\n",
       "      <td>[conviene, que, ahora, ,, en, plena, apoteosis...</td>\n",
       "      <td>[VERB, SCONJ, ADV, PUNCT, ADP, ADJ, NOUN, ADP,...</td>\n",
       "    </tr>\n",
       "    <tr>\n",
       "      <th>14302</th>\n",
       "      <td>[cambiar, las, formas, parece, de, rigor, ,, p...</td>\n",
       "      <td>[VERB, DET, NOUN, VERB, ADP, NOUN, PUNCT, CCON...</td>\n",
       "    </tr>\n",
       "    <tr>\n",
       "      <th>14303</th>\n",
       "      <td>[carlos, y, fayna, se, enzarzan, en, una, bron...</td>\n",
       "      <td>[PROPN, CCONJ, PROPN, PRON, VERB, ADP, DET, NO...</td>\n",
       "    </tr>\n",
       "    <tr>\n",
       "      <th>14304</th>\n",
       "      <td>[él, llega, a, tirar, la, sobre, la, cama, y, ...</td>\n",
       "      <td>[PRON, VERB, ADP, VERB, PRON, ADP, DET, NOUN, ...</td>\n",
       "    </tr>\n",
       "  </tbody>\n",
       "</table>\n",
       "<p>14305 rows × 2 columns</p>\n",
       "</div>"
      ],
      "text/plain": [
       "                                                   words  \\\n",
       "0      [el, presidente, de, el, órgano, regulador, de...   \n",
       "1      [sobre, la, oferta, de, interconexión, con, te...   \n",
       "2      [afirmó, que, sigue, el, criterio, europeo, y,...   \n",
       "3      [la, inversión, en, investigación, básica, es,...   \n",
       "4      [durante, la, presentación, de, el, libro, \", ...   \n",
       "...                                                  ...   \n",
       "14300  [y, todas, las, miradas, convergen, en, la, lu...   \n",
       "14301  [conviene, que, ahora, ,, en, plena, apoteosis...   \n",
       "14302  [cambiar, las, formas, parece, de, rigor, ,, p...   \n",
       "14303  [carlos, y, fayna, se, enzarzan, en, una, bron...   \n",
       "14304  [él, llega, a, tirar, la, sobre, la, cama, y, ...   \n",
       "\n",
       "                                                    tags  \n",
       "0      [DET, NOUN, ADP, DET, NOUN, ADJ, ADP, DET, PRO...  \n",
       "1      [ADP, DET, NOUN, ADP, NOUN, ADP, PROPN, ADP, D...  \n",
       "2      [VERB, SCONJ, VERB, DET, NOUN, ADJ, CCONJ, SCO...  \n",
       "3      [DET, NOUN, ADP, NOUN, ADJ, AUX, DET, NOUN, AD...  \n",
       "4      [ADP, DET, NOUN, ADP, DET, NOUN, PUNCT, DET, P...  \n",
       "...                                                  ...  \n",
       "14300  [CCONJ, DET, DET, NOUN, VERB, ADP, DET, NOUN, ...  \n",
       "14301  [VERB, SCONJ, ADV, PUNCT, ADP, ADJ, NOUN, ADP,...  \n",
       "14302  [VERB, DET, NOUN, VERB, ADP, NOUN, PUNCT, CCON...  \n",
       "14303  [PROPN, CCONJ, PROPN, PRON, VERB, ADP, DET, NO...  \n",
       "14304  [PRON, VERB, ADP, VERB, PRON, ADP, DET, NOUN, ...  \n",
       "\n",
       "[14305 rows x 2 columns]"
      ]
     },
     "execution_count": 10,
     "metadata": {},
     "output_type": "execute_result"
    }
   ],
   "source": [
    "def preprocess(words):\n",
    "    result = []\n",
    "    for w in words:\n",
    "        w = w.lower()\n",
    "        if w.isdecimal():\n",
    "            w = '0'\n",
    "        result.append(w)\n",
    "    return result\n",
    "\n",
    "train_df['words'] = train_df['words'].progress_map(preprocess)\n",
    "train_df"
   ]
  },
  {
   "cell_type": "markdown",
   "id": "bd165728",
   "metadata": {},
   "source": [
    "Next, construct actual PyTorch `Dataset` and `DataLoader` objects for the train/dev/test partitions:"
   ]
  },
  {
   "cell_type": "code",
   "execution_count": 11,
   "id": "998ebf17",
   "metadata": {},
   "outputs": [
    {
     "data": {
      "application/vnd.jupyter.widget-view+json": {
       "model_id": "e89198cbd78d46ff8e9ee2c095a2cb3d",
       "version_major": 2,
       "version_minor": 0
      },
      "text/plain": [
       "  0%|          | 0/14305 [00:00<?, ?it/s]"
      ]
     },
     "metadata": {},
     "output_type": "display_data"
    },
    {
     "data": {
      "text/html": [
       "<div>\n",
       "<style scoped>\n",
       "    .dataframe tbody tr th:only-of-type {\n",
       "        vertical-align: middle;\n",
       "    }\n",
       "\n",
       "    .dataframe tbody tr th {\n",
       "        vertical-align: top;\n",
       "    }\n",
       "\n",
       "    .dataframe thead th {\n",
       "        text-align: right;\n",
       "    }\n",
       "</style>\n",
       "<table border=\"1\" class=\"dataframe\">\n",
       "  <thead>\n",
       "    <tr style=\"text-align: right;\">\n",
       "      <th></th>\n",
       "      <th>words</th>\n",
       "      <th>tags</th>\n",
       "      <th>word ids</th>\n",
       "    </tr>\n",
       "  </thead>\n",
       "  <tbody>\n",
       "    <tr>\n",
       "      <th>0</th>\n",
       "      <td>[el, presidente, de, el, órgano, regulador, de...</td>\n",
       "      <td>[DET, NOUN, ADP, DET, NOUN, ADJ, ADP, DET, PRO...</td>\n",
       "      <td>[2, 74, 0, 2, 1690, 9398, 0, 10, 3841, 11, 229...</td>\n",
       "    </tr>\n",
       "    <tr>\n",
       "      <th>1</th>\n",
       "      <td>[sobre, la, oferta, de, interconexión, con, te...</td>\n",
       "      <td>[ADP, DET, NOUN, ADP, NOUN, ADP, PROPN, ADP, D...</td>\n",
       "      <td>[26, 1, 1680, 0, 15163, 14, 3541, 0, 60, 4803,...</td>\n",
       "    </tr>\n",
       "    <tr>\n",
       "      <th>2</th>\n",
       "      <td>[afirmó, que, sigue, el, criterio, europeo, y,...</td>\n",
       "      <td>[VERB, SCONJ, VERB, DET, NOUN, ADJ, CCONJ, SCO...</td>\n",
       "      <td>[1066, 5, 490, 2, 3014, 448, 4, 5, 371, 0, 156...</td>\n",
       "    </tr>\n",
       "    <tr>\n",
       "      <th>3</th>\n",
       "      <td>[la, inversión, en, investigación, básica, es,...</td>\n",
       "      <td>[DET, NOUN, ADP, NOUN, ADJ, AUX, DET, NOUN, AD...</td>\n",
       "      <td>[1, 1039, 3, 349, 2983, 20, 2, 854, 15, 2, 631...</td>\n",
       "    </tr>\n",
       "    <tr>\n",
       "      <th>4</th>\n",
       "      <td>[durante, la, presentación, de, el, libro, \", ...</td>\n",
       "      <td>[ADP, DET, NOUN, ADP, DET, NOUN, PUNCT, DET, P...</td>\n",
       "      <td>[52, 1, 818, 0, 2, 751, 855379, 1, 6279, 12, 1...</td>\n",
       "    </tr>\n",
       "    <tr>\n",
       "      <th>...</th>\n",
       "      <td>...</td>\n",
       "      <td>...</td>\n",
       "      <td>...</td>\n",
       "    </tr>\n",
       "    <tr>\n",
       "      <th>14300</th>\n",
       "      <td>[y, todas, las, miradas, convergen, en, la, lu...</td>\n",
       "      <td>[CCONJ, DET, DET, NOUN, VERB, ADP, DET, NOUN, ...</td>\n",
       "      <td>[4, 128, 10, 14402, 28137, 3, 1, 89711, 0, 1, ...</td>\n",
       "    </tr>\n",
       "    <tr>\n",
       "      <th>14301</th>\n",
       "      <td>[conviene, que, ahora, ,, en, plena, apoteosis...</td>\n",
       "      <td>[VERB, SCONJ, ADV, PUNCT, ADP, ADJ, NOUN, ADP,...</td>\n",
       "      <td>[4198, 5, 172, 855379, 3, 1767, 48622, 0, 8553...</td>\n",
       "    </tr>\n",
       "    <tr>\n",
       "      <th>14302</th>\n",
       "      <td>[cambiar, las, formas, parece, de, rigor, ,, p...</td>\n",
       "      <td>[VERB, DET, NOUN, VERB, ADP, NOUN, PUNCT, CCON...</td>\n",
       "      <td>[1858, 10, 741, 711, 0, 8155, 855379, 32, 8553...</td>\n",
       "    </tr>\n",
       "    <tr>\n",
       "      <th>14303</th>\n",
       "      <td>[carlos, y, fayna, se, enzarzan, en, una, bron...</td>\n",
       "      <td>[PROPN, CCONJ, PROPN, PRON, VERB, ADP, DET, NO...</td>\n",
       "      <td>[509, 4, 220484, 11, 136570, 3, 16, 28730, 120...</td>\n",
       "    </tr>\n",
       "    <tr>\n",
       "      <th>14304</th>\n",
       "      <td>[él, llega, a, tirar, la, sobre, la, cama, y, ...</td>\n",
       "      <td>[PRON, VERB, ADP, VERB, PRON, ADP, DET, NOUN, ...</td>\n",
       "      <td>[225, 1403, 7, 11098, 1, 26, 1, 5563, 4, 39, 5...</td>\n",
       "    </tr>\n",
       "  </tbody>\n",
       "</table>\n",
       "<p>14305 rows × 3 columns</p>\n",
       "</div>"
      ],
      "text/plain": [
       "                                                   words  \\\n",
       "0      [el, presidente, de, el, órgano, regulador, de...   \n",
       "1      [sobre, la, oferta, de, interconexión, con, te...   \n",
       "2      [afirmó, que, sigue, el, criterio, europeo, y,...   \n",
       "3      [la, inversión, en, investigación, básica, es,...   \n",
       "4      [durante, la, presentación, de, el, libro, \", ...   \n",
       "...                                                  ...   \n",
       "14300  [y, todas, las, miradas, convergen, en, la, lu...   \n",
       "14301  [conviene, que, ahora, ,, en, plena, apoteosis...   \n",
       "14302  [cambiar, las, formas, parece, de, rigor, ,, p...   \n",
       "14303  [carlos, y, fayna, se, enzarzan, en, una, bron...   \n",
       "14304  [él, llega, a, tirar, la, sobre, la, cama, y, ...   \n",
       "\n",
       "                                                    tags  \\\n",
       "0      [DET, NOUN, ADP, DET, NOUN, ADJ, ADP, DET, PRO...   \n",
       "1      [ADP, DET, NOUN, ADP, NOUN, ADP, PROPN, ADP, D...   \n",
       "2      [VERB, SCONJ, VERB, DET, NOUN, ADJ, CCONJ, SCO...   \n",
       "3      [DET, NOUN, ADP, NOUN, ADJ, AUX, DET, NOUN, AD...   \n",
       "4      [ADP, DET, NOUN, ADP, DET, NOUN, PUNCT, DET, P...   \n",
       "...                                                  ...   \n",
       "14300  [CCONJ, DET, DET, NOUN, VERB, ADP, DET, NOUN, ...   \n",
       "14301  [VERB, SCONJ, ADV, PUNCT, ADP, ADJ, NOUN, ADP,...   \n",
       "14302  [VERB, DET, NOUN, VERB, ADP, NOUN, PUNCT, CCON...   \n",
       "14303  [PROPN, CCONJ, PROPN, PRON, VERB, ADP, DET, NO...   \n",
       "14304  [PRON, VERB, ADP, VERB, PRON, ADP, DET, NOUN, ...   \n",
       "\n",
       "                                                word ids  \n",
       "0      [2, 74, 0, 2, 1690, 9398, 0, 10, 3841, 11, 229...  \n",
       "1      [26, 1, 1680, 0, 15163, 14, 3541, 0, 60, 4803,...  \n",
       "2      [1066, 5, 490, 2, 3014, 448, 4, 5, 371, 0, 156...  \n",
       "3      [1, 1039, 3, 349, 2983, 20, 2, 854, 15, 2, 631...  \n",
       "4      [52, 1, 818, 0, 2, 751, 855379, 1, 6279, 12, 1...  \n",
       "...                                                  ...  \n",
       "14300  [4, 128, 10, 14402, 28137, 3, 1, 89711, 0, 1, ...  \n",
       "14301  [4198, 5, 172, 855379, 3, 1767, 48622, 0, 8553...  \n",
       "14302  [1858, 10, 741, 711, 0, 8155, 855379, 32, 8553...  \n",
       "14303  [509, 4, 220484, 11, 136570, 3, 16, 28730, 120...  \n",
       "14304  [225, 1403, 7, 11098, 1, 26, 1, 5563, 4, 39, 5...  \n",
       "\n",
       "[14305 rows x 3 columns]"
      ]
     },
     "execution_count": 11,
     "metadata": {},
     "output_type": "execute_result"
    }
   ],
   "source": [
    "def get_ids(tokens, key_to_index, unk_id=None):\n",
    "    return [key_to_index.get(tok, unk_id) for tok in tokens]\n",
    "\n",
    "def get_word_ids(tokens):\n",
    "    return get_ids(tokens, glove.key_to_index, unk_id)\n",
    "\n",
    "# add new column to the dataframe\n",
    "train_df['word ids'] = train_df['words'].progress_map(get_word_ids)\n",
    "train_df"
   ]
  },
  {
   "cell_type": "code",
   "execution_count": 12,
   "id": "dee69c67",
   "metadata": {},
   "outputs": [
    {
     "data": {
      "text/plain": [
       "('<pad>', 17)"
      ]
     },
     "execution_count": 12,
     "metadata": {},
     "output_type": "execute_result"
    }
   ],
   "source": [
    "pad_tag = '<pad>'\n",
    "index_to_tag = train_df['tags'].explode().unique().tolist() + [pad_tag]\n",
    "tag_to_index = {t:i for i,t in enumerate(index_to_tag)}\n",
    "pad_tag_id = tag_to_index[pad_tag]\n",
    "pad_tag, pad_tag_id"
   ]
  },
  {
   "cell_type": "code",
   "execution_count": 13,
   "id": "df35bada",
   "metadata": {},
   "outputs": [
    {
     "data": {
      "text/plain": [
       "['DET',\n",
       " 'NOUN',\n",
       " 'ADP',\n",
       " 'ADJ',\n",
       " 'PROPN',\n",
       " 'PRON',\n",
       " 'VERB',\n",
       " 'SCONJ',\n",
       " 'PUNCT',\n",
       " 'AUX',\n",
       " 'CCONJ',\n",
       " 'ADV',\n",
       " 'NUM',\n",
       " 'PART',\n",
       " 'SYM',\n",
       " 'INTJ',\n",
       " 'X',\n",
       " '<pad>']"
      ]
     },
     "execution_count": 13,
     "metadata": {},
     "output_type": "execute_result"
    }
   ],
   "source": [
    "index_to_tag"
   ]
  },
  {
   "cell_type": "code",
   "execution_count": 14,
   "id": "77b2fddb",
   "metadata": {},
   "outputs": [
    {
     "data": {
      "application/vnd.jupyter.widget-view+json": {
       "model_id": "dfb553ee742049e7901612017b97e6cd",
       "version_major": 2,
       "version_minor": 0
      },
      "text/plain": [
       "  0%|          | 0/14305 [00:00<?, ?it/s]"
      ]
     },
     "metadata": {},
     "output_type": "display_data"
    },
    {
     "data": {
      "text/html": [
       "<div>\n",
       "<style scoped>\n",
       "    .dataframe tbody tr th:only-of-type {\n",
       "        vertical-align: middle;\n",
       "    }\n",
       "\n",
       "    .dataframe tbody tr th {\n",
       "        vertical-align: top;\n",
       "    }\n",
       "\n",
       "    .dataframe thead th {\n",
       "        text-align: right;\n",
       "    }\n",
       "</style>\n",
       "<table border=\"1\" class=\"dataframe\">\n",
       "  <thead>\n",
       "    <tr style=\"text-align: right;\">\n",
       "      <th></th>\n",
       "      <th>words</th>\n",
       "      <th>tags</th>\n",
       "      <th>word ids</th>\n",
       "      <th>tag ids</th>\n",
       "    </tr>\n",
       "  </thead>\n",
       "  <tbody>\n",
       "    <tr>\n",
       "      <th>0</th>\n",
       "      <td>[el, presidente, de, el, órgano, regulador, de...</td>\n",
       "      <td>[DET, NOUN, ADP, DET, NOUN, ADJ, ADP, DET, PRO...</td>\n",
       "      <td>[2, 74, 0, 2, 1690, 9398, 0, 10, 3841, 11, 229...</td>\n",
       "      <td>[0, 1, 2, 0, 1, 3, 2, 0, 4, 5, 6, 3, 2, 6, 0, ...</td>\n",
       "    </tr>\n",
       "    <tr>\n",
       "      <th>1</th>\n",
       "      <td>[sobre, la, oferta, de, interconexión, con, te...</td>\n",
       "      <td>[ADP, DET, NOUN, ADP, NOUN, ADP, PROPN, ADP, D...</td>\n",
       "      <td>[26, 1, 1680, 0, 15163, 14, 3541, 0, 60, 4803,...</td>\n",
       "      <td>[2, 0, 1, 2, 1, 2, 4, 2, 0, 1, 5, 6, 2, 6, 0, ...</td>\n",
       "    </tr>\n",
       "    <tr>\n",
       "      <th>2</th>\n",
       "      <td>[afirmó, que, sigue, el, criterio, europeo, y,...</td>\n",
       "      <td>[VERB, SCONJ, VERB, DET, NOUN, ADJ, CCONJ, SCO...</td>\n",
       "      <td>[1066, 5, 490, 2, 3014, 448, 4, 5, 371, 0, 156...</td>\n",
       "      <td>[6, 7, 6, 0, 1, 3, 10, 7, 6, 2, 6, 0, 1, 5, 11...</td>\n",
       "    </tr>\n",
       "    <tr>\n",
       "      <th>3</th>\n",
       "      <td>[la, inversión, en, investigación, básica, es,...</td>\n",
       "      <td>[DET, NOUN, ADP, NOUN, ADJ, AUX, DET, NOUN, AD...</td>\n",
       "      <td>[1, 1039, 3, 349, 2983, 20, 2, 854, 15, 2, 631...</td>\n",
       "      <td>[0, 1, 2, 1, 3, 9, 0, 1, 2, 0, 1, 10, 0, 1, 3,...</td>\n",
       "    </tr>\n",
       "    <tr>\n",
       "      <th>4</th>\n",
       "      <td>[durante, la, presentación, de, el, libro, \", ...</td>\n",
       "      <td>[ADP, DET, NOUN, ADP, DET, NOUN, PUNCT, DET, P...</td>\n",
       "      <td>[52, 1, 818, 0, 2, 751, 855379, 1, 6279, 12, 1...</td>\n",
       "      <td>[2, 0, 1, 2, 0, 1, 8, 0, 4, 2, 4, 2, 0, 4, 8, ...</td>\n",
       "    </tr>\n",
       "    <tr>\n",
       "      <th>...</th>\n",
       "      <td>...</td>\n",
       "      <td>...</td>\n",
       "      <td>...</td>\n",
       "      <td>...</td>\n",
       "    </tr>\n",
       "    <tr>\n",
       "      <th>14300</th>\n",
       "      <td>[y, todas, las, miradas, convergen, en, la, lu...</td>\n",
       "      <td>[CCONJ, DET, DET, NOUN, VERB, ADP, DET, NOUN, ...</td>\n",
       "      <td>[4, 128, 10, 14402, 28137, 3, 1, 89711, 0, 1, ...</td>\n",
       "      <td>[10, 0, 0, 1, 6, 2, 0, 1, 2, 0, 4, 7, 2, 11, 6...</td>\n",
       "    </tr>\n",
       "    <tr>\n",
       "      <th>14301</th>\n",
       "      <td>[conviene, que, ahora, ,, en, plena, apoteosis...</td>\n",
       "      <td>[VERB, SCONJ, ADV, PUNCT, ADP, ADJ, NOUN, ADP,...</td>\n",
       "      <td>[4198, 5, 172, 855379, 3, 1767, 48622, 0, 8553...</td>\n",
       "      <td>[6, 7, 11, 8, 2, 3, 1, 2, 1, 8, 6, 0, 4, 4, 11...</td>\n",
       "    </tr>\n",
       "    <tr>\n",
       "      <th>14302</th>\n",
       "      <td>[cambiar, las, formas, parece, de, rigor, ,, p...</td>\n",
       "      <td>[VERB, DET, NOUN, VERB, ADP, NOUN, PUNCT, CCON...</td>\n",
       "      <td>[1858, 10, 741, 711, 0, 8155, 855379, 32, 8553...</td>\n",
       "      <td>[6, 0, 1, 6, 2, 1, 8, 10, 8, 2, 0, 1, 8, 0, 1,...</td>\n",
       "    </tr>\n",
       "    <tr>\n",
       "      <th>14303</th>\n",
       "      <td>[carlos, y, fayna, se, enzarzan, en, una, bron...</td>\n",
       "      <td>[PROPN, CCONJ, PROPN, PRON, VERB, ADP, DET, NO...</td>\n",
       "      <td>[509, 4, 220484, 11, 136570, 3, 16, 28730, 120...</td>\n",
       "      <td>[4, 10, 4, 5, 6, 2, 0, 1, 2, 0, 1, 8]</td>\n",
       "    </tr>\n",
       "    <tr>\n",
       "      <th>14304</th>\n",
       "      <td>[él, llega, a, tirar, la, sobre, la, cama, y, ...</td>\n",
       "      <td>[PRON, VERB, ADP, VERB, PRON, ADP, DET, NOUN, ...</td>\n",
       "      <td>[225, 1403, 7, 11098, 1, 26, 1, 5563, 4, 39, 5...</td>\n",
       "      <td>[5, 6, 2, 6, 5, 2, 0, 1, 10, 5, 6, 0, 1, 2, 0,...</td>\n",
       "    </tr>\n",
       "  </tbody>\n",
       "</table>\n",
       "<p>14305 rows × 4 columns</p>\n",
       "</div>"
      ],
      "text/plain": [
       "                                                   words  \\\n",
       "0      [el, presidente, de, el, órgano, regulador, de...   \n",
       "1      [sobre, la, oferta, de, interconexión, con, te...   \n",
       "2      [afirmó, que, sigue, el, criterio, europeo, y,...   \n",
       "3      [la, inversión, en, investigación, básica, es,...   \n",
       "4      [durante, la, presentación, de, el, libro, \", ...   \n",
       "...                                                  ...   \n",
       "14300  [y, todas, las, miradas, convergen, en, la, lu...   \n",
       "14301  [conviene, que, ahora, ,, en, plena, apoteosis...   \n",
       "14302  [cambiar, las, formas, parece, de, rigor, ,, p...   \n",
       "14303  [carlos, y, fayna, se, enzarzan, en, una, bron...   \n",
       "14304  [él, llega, a, tirar, la, sobre, la, cama, y, ...   \n",
       "\n",
       "                                                    tags  \\\n",
       "0      [DET, NOUN, ADP, DET, NOUN, ADJ, ADP, DET, PRO...   \n",
       "1      [ADP, DET, NOUN, ADP, NOUN, ADP, PROPN, ADP, D...   \n",
       "2      [VERB, SCONJ, VERB, DET, NOUN, ADJ, CCONJ, SCO...   \n",
       "3      [DET, NOUN, ADP, NOUN, ADJ, AUX, DET, NOUN, AD...   \n",
       "4      [ADP, DET, NOUN, ADP, DET, NOUN, PUNCT, DET, P...   \n",
       "...                                                  ...   \n",
       "14300  [CCONJ, DET, DET, NOUN, VERB, ADP, DET, NOUN, ...   \n",
       "14301  [VERB, SCONJ, ADV, PUNCT, ADP, ADJ, NOUN, ADP,...   \n",
       "14302  [VERB, DET, NOUN, VERB, ADP, NOUN, PUNCT, CCON...   \n",
       "14303  [PROPN, CCONJ, PROPN, PRON, VERB, ADP, DET, NO...   \n",
       "14304  [PRON, VERB, ADP, VERB, PRON, ADP, DET, NOUN, ...   \n",
       "\n",
       "                                                word ids  \\\n",
       "0      [2, 74, 0, 2, 1690, 9398, 0, 10, 3841, 11, 229...   \n",
       "1      [26, 1, 1680, 0, 15163, 14, 3541, 0, 60, 4803,...   \n",
       "2      [1066, 5, 490, 2, 3014, 448, 4, 5, 371, 0, 156...   \n",
       "3      [1, 1039, 3, 349, 2983, 20, 2, 854, 15, 2, 631...   \n",
       "4      [52, 1, 818, 0, 2, 751, 855379, 1, 6279, 12, 1...   \n",
       "...                                                  ...   \n",
       "14300  [4, 128, 10, 14402, 28137, 3, 1, 89711, 0, 1, ...   \n",
       "14301  [4198, 5, 172, 855379, 3, 1767, 48622, 0, 8553...   \n",
       "14302  [1858, 10, 741, 711, 0, 8155, 855379, 32, 8553...   \n",
       "14303  [509, 4, 220484, 11, 136570, 3, 16, 28730, 120...   \n",
       "14304  [225, 1403, 7, 11098, 1, 26, 1, 5563, 4, 39, 5...   \n",
       "\n",
       "                                                 tag ids  \n",
       "0      [0, 1, 2, 0, 1, 3, 2, 0, 4, 5, 6, 3, 2, 6, 0, ...  \n",
       "1      [2, 0, 1, 2, 1, 2, 4, 2, 0, 1, 5, 6, 2, 6, 0, ...  \n",
       "2      [6, 7, 6, 0, 1, 3, 10, 7, 6, 2, 6, 0, 1, 5, 11...  \n",
       "3      [0, 1, 2, 1, 3, 9, 0, 1, 2, 0, 1, 10, 0, 1, 3,...  \n",
       "4      [2, 0, 1, 2, 0, 1, 8, 0, 4, 2, 4, 2, 0, 4, 8, ...  \n",
       "...                                                  ...  \n",
       "14300  [10, 0, 0, 1, 6, 2, 0, 1, 2, 0, 4, 7, 2, 11, 6...  \n",
       "14301  [6, 7, 11, 8, 2, 3, 1, 2, 1, 8, 6, 0, 4, 4, 11...  \n",
       "14302  [6, 0, 1, 6, 2, 1, 8, 10, 8, 2, 0, 1, 8, 0, 1,...  \n",
       "14303              [4, 10, 4, 5, 6, 2, 0, 1, 2, 0, 1, 8]  \n",
       "14304  [5, 6, 2, 6, 5, 2, 0, 1, 10, 5, 6, 0, 1, 2, 0,...  \n",
       "\n",
       "[14305 rows x 4 columns]"
      ]
     },
     "execution_count": 14,
     "metadata": {},
     "output_type": "execute_result"
    }
   ],
   "source": [
    "def get_tag_ids(tags):\n",
    "    return get_ids(tags, tag_to_index)\n",
    "\n",
    "train_df['tag ids'] = train_df['tags'].progress_map(get_tag_ids)\n",
    "train_df"
   ]
  },
  {
   "cell_type": "code",
   "execution_count": 15,
   "id": "b74bb843",
   "metadata": {},
   "outputs": [
    {
     "data": {
      "application/vnd.jupyter.widget-view+json": {
       "model_id": "63bfddf76b984982b2955fd98af0d201",
       "version_major": 2,
       "version_minor": 0
      },
      "text/plain": [
       "  0%|          | 0/1654 [00:00<?, ?it/s]"
      ]
     },
     "metadata": {},
     "output_type": "display_data"
    },
    {
     "data": {
      "application/vnd.jupyter.widget-view+json": {
       "model_id": "d9b55c71bd714d20b2e55535718c3217",
       "version_major": 2,
       "version_minor": 0
      },
      "text/plain": [
       "  0%|          | 0/1654 [00:00<?, ?it/s]"
      ]
     },
     "metadata": {},
     "output_type": "display_data"
    },
    {
     "data": {
      "application/vnd.jupyter.widget-view+json": {
       "model_id": "c45445c9e11845199560033956e45dd8",
       "version_major": 2,
       "version_minor": 0
      },
      "text/plain": [
       "  0%|          | 0/1654 [00:00<?, ?it/s]"
      ]
     },
     "metadata": {},
     "output_type": "display_data"
    },
    {
     "data": {
      "text/html": [
       "<div>\n",
       "<style scoped>\n",
       "    .dataframe tbody tr th:only-of-type {\n",
       "        vertical-align: middle;\n",
       "    }\n",
       "\n",
       "    .dataframe tbody tr th {\n",
       "        vertical-align: top;\n",
       "    }\n",
       "\n",
       "    .dataframe thead th {\n",
       "        text-align: right;\n",
       "    }\n",
       "</style>\n",
       "<table border=\"1\" class=\"dataframe\">\n",
       "  <thead>\n",
       "    <tr style=\"text-align: right;\">\n",
       "      <th></th>\n",
       "      <th>words</th>\n",
       "      <th>tags</th>\n",
       "      <th>word ids</th>\n",
       "      <th>tag ids</th>\n",
       "    </tr>\n",
       "  </thead>\n",
       "  <tbody>\n",
       "    <tr>\n",
       "      <th>0</th>\n",
       "      <td>[el, gobernante, ,, con, ganada, fama, desde, ...</td>\n",
       "      <td>[DET, NOUN, PUNCT, ADP, ADJ, NOUN, ADP, SCONJ,...</td>\n",
       "      <td>[2, 6221, 855379, 14, 18832, 3449, 41, 5, 626,...</td>\n",
       "      <td>[0, 1, 8, 2, 3, 1, 2, 7, 6, 6, 12, 1, 2, 0, 1,...</td>\n",
       "    </tr>\n",
       "    <tr>\n",
       "      <th>1</th>\n",
       "      <td>[chávez, se, despidió, de, el, mundanal, ruido...</td>\n",
       "      <td>[PROPN, PRON, VERB, ADP, DET, ADJ, NOUN, DET, ...</td>\n",
       "      <td>[3063, 11, 14578, 0, 2, 115792, 5407, 2, 218, ...</td>\n",
       "      <td>[4, 5, 6, 2, 0, 3, 1, 0, 1, 1, 2, 0, 11, 3, 1,...</td>\n",
       "    </tr>\n",
       "    <tr>\n",
       "      <th>2</th>\n",
       "      <td>[desde, entonces, entró, en, silencio, absolut...</td>\n",
       "      <td>[ADP, ADV, VERB, ADP, NOUN, ADJ, PUNCT]</td>\n",
       "      <td>[41, 304, 2127, 3, 3323, 4133, 855379]</td>\n",
       "      <td>[2, 11, 6, 2, 1, 3, 8]</td>\n",
       "    </tr>\n",
       "    <tr>\n",
       "      <th>3</th>\n",
       "      <td>[nadie, sabe, cuál, es, la, nueva, fecha, que,...</td>\n",
       "      <td>[PRON, VERB, PRON, AUX, DET, ADJ, NOUN, PRON, ...</td>\n",
       "      <td>[1113, 1428, 2639, 20, 1, 122, 364, 5, 2022, 1...</td>\n",
       "      <td>[5, 6, 5, 9, 0, 3, 1, 5, 6, 2, 0, 1, 8, 10, 7,...</td>\n",
       "    </tr>\n",
       "    <tr>\n",
       "      <th>4</th>\n",
       "      <td>[por, su, boca, suelen, hablar, de, vez, en, c...</td>\n",
       "      <td>[ADP, DET, NOUN, VERB, VERB, ADP, NOUN, ADP, A...</td>\n",
       "      <td>[12, 17, 2779, 2591, 1489, 0, 90, 3, 51, 110, ...</td>\n",
       "      <td>[2, 0, 1, 6, 6, 2, 1, 2, 11, 11, 0, 1, 2, 4, 4...</td>\n",
       "    </tr>\n",
       "    <tr>\n",
       "      <th>...</th>\n",
       "      <td>...</td>\n",
       "      <td>...</td>\n",
       "      <td>...</td>\n",
       "      <td>...</td>\n",
       "    </tr>\n",
       "    <tr>\n",
       "      <th>1649</th>\n",
       "      <td>[una, visita, a, la, playa, recién, inaugurada...</td>\n",
       "      <td>[DET, NOUN, ADP, DET, NOUN, ADV, ADJ, PRON, VE...</td>\n",
       "      <td>[16, 1267, 7, 1, 2310, 2375, 7969, 175, 8674, ...</td>\n",
       "      <td>[0, 1, 2, 0, 1, 11, 3, 5, 6, 2, 7, 5, 9, 9, 0,...</td>\n",
       "    </tr>\n",
       "    <tr>\n",
       "      <th>1650</th>\n",
       "      <td>[los, pechos, femeninos, vuelven, a, estar, ta...</td>\n",
       "      <td>[DET, NOUN, ADJ, VERB, ADP, AUX, ADJ, PUNCT]</td>\n",
       "      <td>[8, 25159, 12704, 6475, 7, 413, 59662, 855379]</td>\n",
       "      <td>[0, 1, 3, 6, 2, 9, 3, 8]</td>\n",
       "    </tr>\n",
       "    <tr>\n",
       "      <th>1651</th>\n",
       "      <td>[¿, será, que, el, tabú, de, el, seno, materno...</td>\n",
       "      <td>[PUNCT, AUX, SCONJ, DET, NOUN, ADP, DET, NOUN,...</td>\n",
       "      <td>[855379, 226, 5, 2, 23730, 0, 2, 3543, 14347, ...</td>\n",
       "      <td>[8, 9, 7, 0, 1, 2, 0, 1, 3, 9, 11, 3, 2, 6, 5,...</td>\n",
       "    </tr>\n",
       "    <tr>\n",
       "      <th>1652</th>\n",
       "      <td>[¿, o, que, los, varones, mirábamos, con, dema...</td>\n",
       "      <td>[PUNCT, CCONJ, SCONJ, DET, NOUN, VERB, ADP, DE...</td>\n",
       "      <td>[855379, 24, 5, 8, 5327, 125769, 14, 11912, 56...</td>\n",
       "      <td>[8, 10, 7, 0, 1, 6, 2, 0, 1, 8, 8]</td>\n",
       "    </tr>\n",
       "    <tr>\n",
       "      <th>1653</th>\n",
       "      <td>[lo, cierto, es, que, a, mí, ,, me, da, un, po...</td>\n",
       "      <td>[PRON, ADJ, AUX, SCONJ, ADP, PRON, PUNCT, PRON...</td>\n",
       "      <td>[23, 1187, 20, 5, 7, 1850, 855379, 141, 511, 1...</td>\n",
       "      <td>[5, 3, 9, 7, 2, 5, 8, 5, 6, 0, 5, 2, 1, 8]</td>\n",
       "    </tr>\n",
       "  </tbody>\n",
       "</table>\n",
       "<p>1654 rows × 4 columns</p>\n",
       "</div>"
      ],
      "text/plain": [
       "                                                  words  \\\n",
       "0     [el, gobernante, ,, con, ganada, fama, desde, ...   \n",
       "1     [chávez, se, despidió, de, el, mundanal, ruido...   \n",
       "2     [desde, entonces, entró, en, silencio, absolut...   \n",
       "3     [nadie, sabe, cuál, es, la, nueva, fecha, que,...   \n",
       "4     [por, su, boca, suelen, hablar, de, vez, en, c...   \n",
       "...                                                 ...   \n",
       "1649  [una, visita, a, la, playa, recién, inaugurada...   \n",
       "1650  [los, pechos, femeninos, vuelven, a, estar, ta...   \n",
       "1651  [¿, será, que, el, tabú, de, el, seno, materno...   \n",
       "1652  [¿, o, que, los, varones, mirábamos, con, dema...   \n",
       "1653  [lo, cierto, es, que, a, mí, ,, me, da, un, po...   \n",
       "\n",
       "                                                   tags  \\\n",
       "0     [DET, NOUN, PUNCT, ADP, ADJ, NOUN, ADP, SCONJ,...   \n",
       "1     [PROPN, PRON, VERB, ADP, DET, ADJ, NOUN, DET, ...   \n",
       "2               [ADP, ADV, VERB, ADP, NOUN, ADJ, PUNCT]   \n",
       "3     [PRON, VERB, PRON, AUX, DET, ADJ, NOUN, PRON, ...   \n",
       "4     [ADP, DET, NOUN, VERB, VERB, ADP, NOUN, ADP, A...   \n",
       "...                                                 ...   \n",
       "1649  [DET, NOUN, ADP, DET, NOUN, ADV, ADJ, PRON, VE...   \n",
       "1650       [DET, NOUN, ADJ, VERB, ADP, AUX, ADJ, PUNCT]   \n",
       "1651  [PUNCT, AUX, SCONJ, DET, NOUN, ADP, DET, NOUN,...   \n",
       "1652  [PUNCT, CCONJ, SCONJ, DET, NOUN, VERB, ADP, DE...   \n",
       "1653  [PRON, ADJ, AUX, SCONJ, ADP, PRON, PUNCT, PRON...   \n",
       "\n",
       "                                               word ids  \\\n",
       "0     [2, 6221, 855379, 14, 18832, 3449, 41, 5, 626,...   \n",
       "1     [3063, 11, 14578, 0, 2, 115792, 5407, 2, 218, ...   \n",
       "2                [41, 304, 2127, 3, 3323, 4133, 855379]   \n",
       "3     [1113, 1428, 2639, 20, 1, 122, 364, 5, 2022, 1...   \n",
       "4     [12, 17, 2779, 2591, 1489, 0, 90, 3, 51, 110, ...   \n",
       "...                                                 ...   \n",
       "1649  [16, 1267, 7, 1, 2310, 2375, 7969, 175, 8674, ...   \n",
       "1650     [8, 25159, 12704, 6475, 7, 413, 59662, 855379]   \n",
       "1651  [855379, 226, 5, 2, 23730, 0, 2, 3543, 14347, ...   \n",
       "1652  [855379, 24, 5, 8, 5327, 125769, 14, 11912, 56...   \n",
       "1653  [23, 1187, 20, 5, 7, 1850, 855379, 141, 511, 1...   \n",
       "\n",
       "                                                tag ids  \n",
       "0     [0, 1, 8, 2, 3, 1, 2, 7, 6, 6, 12, 1, 2, 0, 1,...  \n",
       "1     [4, 5, 6, 2, 0, 3, 1, 0, 1, 1, 2, 0, 11, 3, 1,...  \n",
       "2                                [2, 11, 6, 2, 1, 3, 8]  \n",
       "3     [5, 6, 5, 9, 0, 3, 1, 5, 6, 2, 0, 1, 8, 10, 7,...  \n",
       "4     [2, 0, 1, 6, 6, 2, 1, 2, 11, 11, 0, 1, 2, 4, 4...  \n",
       "...                                                 ...  \n",
       "1649  [0, 1, 2, 0, 1, 11, 3, 5, 6, 2, 7, 5, 9, 9, 0,...  \n",
       "1650                           [0, 1, 3, 6, 2, 9, 3, 8]  \n",
       "1651  [8, 9, 7, 0, 1, 2, 0, 1, 3, 9, 11, 3, 2, 6, 5,...  \n",
       "1652                 [8, 10, 7, 0, 1, 6, 2, 0, 1, 8, 8]  \n",
       "1653         [5, 3, 9, 7, 2, 5, 8, 5, 6, 0, 5, 2, 1, 8]  \n",
       "\n",
       "[1654 rows x 4 columns]"
      ]
     },
     "execution_count": 15,
     "metadata": {},
     "output_type": "execute_result"
    }
   ],
   "source": [
    "dev_df = read_tags('data/UD_Spanish-AnCora/es_ancora-ud-dev.conllup')\n",
    "dev_df['words'] = dev_df['words'].progress_map(preprocess)\n",
    "dev_df['word ids'] = dev_df['words'].progress_map(lambda x: get_ids(x, glove.key_to_index, unk_id))\n",
    "dev_df['tag ids'] = dev_df['tags'].progress_map(lambda x: get_ids(x, tag_to_index))\n",
    "dev_df"
   ]
  },
  {
   "cell_type": "code",
   "execution_count": 16,
   "id": "ec4d47da",
   "metadata": {},
   "outputs": [],
   "source": [
    "from torch.utils.data import Dataset\n",
    "\n",
    "class MyDataset(Dataset):\n",
    "    def __init__(self, x, y):\n",
    "        self.x = x\n",
    "        self.y = y\n",
    "        \n",
    "    def __len__(self):\n",
    "        return len(self.y)\n",
    "    \n",
    "    def __getitem__(self, index):\n",
    "        x = torch.tensor(self.x[index])\n",
    "        y = torch.tensor(self.y[index])\n",
    "        return x, y"
   ]
  },
  {
   "cell_type": "markdown",
   "id": "f3dafa68",
   "metadata": {},
   "source": [
    "`collate_fn` will be used by `DataLoader` to pad all sentences in the same batch to the same length."
   ]
  },
  {
   "cell_type": "code",
   "execution_count": 17,
   "id": "bcf2d668",
   "metadata": {},
   "outputs": [],
   "source": [
    "from torch.nn.utils.rnn import pad_sequence\n",
    "\n",
    "def collate_fn(batch):\n",
    "    # separate xs and ys\n",
    "    xs, ys = zip(*batch)\n",
    "    # get lengths\n",
    "    lengths = [len(x) for x in xs]\n",
    "    # pad sequences\n",
    "    x_padded = pad_sequence(xs, batch_first=True, padding_value=pad_tok_id)\n",
    "    y_padded = pad_sequence(ys, batch_first=True, padding_value=pad_tag_id)\n",
    "    # return padded\n",
    "    return x_padded, y_padded, lengths"
   ]
  },
  {
   "cell_type": "markdown",
   "id": "7d35f429",
   "metadata": {},
   "source": [
    "Now construct our PyTorch model:"
   ]
  },
  {
   "cell_type": "code",
   "execution_count": 18,
   "id": "810990dc",
   "metadata": {},
   "outputs": [],
   "source": [
    "from torch import nn\n",
    "from torch.nn.utils.rnn import pack_padded_sequence, pad_packed_sequence\n",
    "\n",
    "class MyModel(nn.Module):\n",
    "    def __init__(self, vectors, hidden_size, num_layers, bidirectional, dropout, output_size):\n",
    "        super().__init__()\n",
    "        # ensure vectors is a tensor\n",
    "        if not torch.is_tensor(vectors):\n",
    "            vectors = torch.tensor(vectors)\n",
    "        # init embedding layer\n",
    "        self.embedding = nn.Embedding.from_pretrained(embeddings=vectors)\n",
    "        # init lstm\n",
    "        self.lstm = nn.LSTM(\n",
    "            input_size=vectors.shape[1],\n",
    "            hidden_size=hidden_size,\n",
    "            num_layers=num_layers,\n",
    "            bidirectional=bidirectional,\n",
    "            dropout=dropout,\n",
    "            batch_first=True)\n",
    "        # init dropout\n",
    "        self.dropout = nn.Dropout(dropout)\n",
    "        # init classifier\n",
    "        self.classifier = nn.Linear(\n",
    "            in_features=hidden_size * 2 if bidirectional else hidden_size,\n",
    "            out_features=output_size)\n",
    "        \n",
    "    def forward(self, x_padded, x_lengths):\n",
    "        # get embeddings\n",
    "        output = self.embedding(x_padded)\n",
    "        output = self.dropout(output)\n",
    "        # pack data before lstm\n",
    "        packed = pack_padded_sequence(output, x_lengths, batch_first=True, enforce_sorted=False)\n",
    "        packed, _ = self.lstm(packed)\n",
    "        # unpack data before rest of model\n",
    "        output, _ = pad_packed_sequence(packed, batch_first=True)\n",
    "        output = self.dropout(output)\n",
    "        output = self.classifier(output)\n",
    "        return output"
   ]
  },
  {
   "cell_type": "code",
   "execution_count": 19,
   "id": "fa0fe591",
   "metadata": {},
   "outputs": [],
   "source": [
    "from torch import optim\n",
    "from torch.utils.data import DataLoader\n",
    "from sklearn.metrics import accuracy_score\n",
    "\n",
    "# hyperparameters\n",
    "lr = 1e-3\n",
    "weight_decay = 1e-5\n",
    "batch_size = 100\n",
    "shuffle = True\n",
    "n_epochs = 10\n",
    "vectors = glove.vectors\n",
    "hidden_size = 100\n",
    "num_layers = 2\n",
    "bidirectional = True\n",
    "dropout = 0.1\n",
    "output_size = len(index_to_tag)\n",
    "\n",
    "# initialize the model, loss function, optimizer, and data-loader\n",
    "model = MyModel(vectors, hidden_size, num_layers, bidirectional, dropout, output_size).to(device)\n",
    "loss_func = nn.CrossEntropyLoss()\n",
    "optimizer = optim.Adam(model.parameters(), lr=lr, weight_decay=weight_decay)\n",
    "train_ds = MyDataset(train_df['word ids'], train_df['tag ids'])\n",
    "train_dl = DataLoader(train_ds, batch_size=batch_size, shuffle=shuffle, collate_fn=collate_fn)\n",
    "dev_ds = MyDataset(dev_df['word ids'], dev_df['tag ids'])\n",
    "dev_dl = DataLoader(dev_ds, batch_size=batch_size, shuffle=shuffle, collate_fn=collate_fn)\n",
    "\n",
    "train_loss, train_acc = [], []\n",
    "dev_loss, dev_acc = [], []"
   ]
  },
  {
   "cell_type": "markdown",
   "id": "f5a8ea2c",
   "metadata": {},
   "source": [
    "We are now ready to train!"
   ]
  },
  {
   "cell_type": "code",
   "execution_count": 20,
   "id": "0b6f1ee1",
   "metadata": {},
   "outputs": [
    {
     "data": {
      "application/vnd.jupyter.widget-view+json": {
       "model_id": "e9155cd30ec4449ebdae129c3ee7ba0b",
       "version_major": 2,
       "version_minor": 0
      },
      "text/plain": [
       "epoch 1 (train):   0%|          | 0/144 [00:00<?, ?it/s]"
      ]
     },
     "metadata": {},
     "output_type": "display_data"
    },
    {
     "data": {
      "application/vnd.jupyter.widget-view+json": {
       "model_id": "1d4b2c97a3ab44eda6bf649cb1cd53af",
       "version_major": 2,
       "version_minor": 0
      },
      "text/plain": [
       "epoch 1 (dev):   0%|          | 0/17 [00:00<?, ?it/s]"
      ]
     },
     "metadata": {},
     "output_type": "display_data"
    },
    {
     "data": {
      "application/vnd.jupyter.widget-view+json": {
       "model_id": "241f64178b1b43059fe843e7e5639a59",
       "version_major": 2,
       "version_minor": 0
      },
      "text/plain": [
       "epoch 2 (train):   0%|          | 0/144 [00:00<?, ?it/s]"
      ]
     },
     "metadata": {},
     "output_type": "display_data"
    },
    {
     "data": {
      "application/vnd.jupyter.widget-view+json": {
       "model_id": "43d6c15cd2fe464da1a4c4e3d6144df1",
       "version_major": 2,
       "version_minor": 0
      },
      "text/plain": [
       "epoch 2 (dev):   0%|          | 0/17 [00:00<?, ?it/s]"
      ]
     },
     "metadata": {},
     "output_type": "display_data"
    },
    {
     "data": {
      "application/vnd.jupyter.widget-view+json": {
       "model_id": "f1fb8d012ecf4a4d8b7ee176371d8707",
       "version_major": 2,
       "version_minor": 0
      },
      "text/plain": [
       "epoch 3 (train):   0%|          | 0/144 [00:00<?, ?it/s]"
      ]
     },
     "metadata": {},
     "output_type": "display_data"
    },
    {
     "data": {
      "application/vnd.jupyter.widget-view+json": {
       "model_id": "9d39e81e2c514f4381ee271d4b2d9ce0",
       "version_major": 2,
       "version_minor": 0
      },
      "text/plain": [
       "epoch 3 (dev):   0%|          | 0/17 [00:00<?, ?it/s]"
      ]
     },
     "metadata": {},
     "output_type": "display_data"
    },
    {
     "data": {
      "application/vnd.jupyter.widget-view+json": {
       "model_id": "2ab1ccdad3644da594c009358fdd7fa7",
       "version_major": 2,
       "version_minor": 0
      },
      "text/plain": [
       "epoch 4 (train):   0%|          | 0/144 [00:00<?, ?it/s]"
      ]
     },
     "metadata": {},
     "output_type": "display_data"
    },
    {
     "data": {
      "application/vnd.jupyter.widget-view+json": {
       "model_id": "aea0f153f01346f983d96da60835d4ba",
       "version_major": 2,
       "version_minor": 0
      },
      "text/plain": [
       "epoch 4 (dev):   0%|          | 0/17 [00:00<?, ?it/s]"
      ]
     },
     "metadata": {},
     "output_type": "display_data"
    },
    {
     "data": {
      "application/vnd.jupyter.widget-view+json": {
       "model_id": "11d671469ed447f6a26671633ccb57a8",
       "version_major": 2,
       "version_minor": 0
      },
      "text/plain": [
       "epoch 5 (train):   0%|          | 0/144 [00:00<?, ?it/s]"
      ]
     },
     "metadata": {},
     "output_type": "display_data"
    },
    {
     "data": {
      "application/vnd.jupyter.widget-view+json": {
       "model_id": "e272a20beccb44b4888ad2cf7f188ce1",
       "version_major": 2,
       "version_minor": 0
      },
      "text/plain": [
       "epoch 5 (dev):   0%|          | 0/17 [00:00<?, ?it/s]"
      ]
     },
     "metadata": {},
     "output_type": "display_data"
    },
    {
     "data": {
      "application/vnd.jupyter.widget-view+json": {
       "model_id": "aa265b389c3b407396f9a7c942024058",
       "version_major": 2,
       "version_minor": 0
      },
      "text/plain": [
       "epoch 6 (train):   0%|          | 0/144 [00:00<?, ?it/s]"
      ]
     },
     "metadata": {},
     "output_type": "display_data"
    },
    {
     "data": {
      "application/vnd.jupyter.widget-view+json": {
       "model_id": "d2c5c82c453e46c28b1bfd647457d58d",
       "version_major": 2,
       "version_minor": 0
      },
      "text/plain": [
       "epoch 6 (dev):   0%|          | 0/17 [00:00<?, ?it/s]"
      ]
     },
     "metadata": {},
     "output_type": "display_data"
    },
    {
     "data": {
      "application/vnd.jupyter.widget-view+json": {
       "model_id": "ef441762ee92414ab9bfd30ea1b6eed9",
       "version_major": 2,
       "version_minor": 0
      },
      "text/plain": [
       "epoch 7 (train):   0%|          | 0/144 [00:00<?, ?it/s]"
      ]
     },
     "metadata": {},
     "output_type": "display_data"
    },
    {
     "data": {
      "application/vnd.jupyter.widget-view+json": {
       "model_id": "7fef0d39466445c8aa2e435f808967db",
       "version_major": 2,
       "version_minor": 0
      },
      "text/plain": [
       "epoch 7 (dev):   0%|          | 0/17 [00:00<?, ?it/s]"
      ]
     },
     "metadata": {},
     "output_type": "display_data"
    },
    {
     "data": {
      "application/vnd.jupyter.widget-view+json": {
       "model_id": "881c293e7b984166a1b22f50737e3707",
       "version_major": 2,
       "version_minor": 0
      },
      "text/plain": [
       "epoch 8 (train):   0%|          | 0/144 [00:00<?, ?it/s]"
      ]
     },
     "metadata": {},
     "output_type": "display_data"
    },
    {
     "data": {
      "application/vnd.jupyter.widget-view+json": {
       "model_id": "d388c11cf158447c98b0529b5637a29d",
       "version_major": 2,
       "version_minor": 0
      },
      "text/plain": [
       "epoch 8 (dev):   0%|          | 0/17 [00:00<?, ?it/s]"
      ]
     },
     "metadata": {},
     "output_type": "display_data"
    },
    {
     "data": {
      "application/vnd.jupyter.widget-view+json": {
       "model_id": "9369726cde874b7585cd3e0f07900859",
       "version_major": 2,
       "version_minor": 0
      },
      "text/plain": [
       "epoch 9 (train):   0%|          | 0/144 [00:00<?, ?it/s]"
      ]
     },
     "metadata": {},
     "output_type": "display_data"
    },
    {
     "data": {
      "application/vnd.jupyter.widget-view+json": {
       "model_id": "204dfe15857646ad9fe0525fa38a1e29",
       "version_major": 2,
       "version_minor": 0
      },
      "text/plain": [
       "epoch 9 (dev):   0%|          | 0/17 [00:00<?, ?it/s]"
      ]
     },
     "metadata": {},
     "output_type": "display_data"
    },
    {
     "data": {
      "application/vnd.jupyter.widget-view+json": {
       "model_id": "2e06047ab10f4ba5b8c044c84ba0439f",
       "version_major": 2,
       "version_minor": 0
      },
      "text/plain": [
       "epoch 10 (train):   0%|          | 0/144 [00:00<?, ?it/s]"
      ]
     },
     "metadata": {},
     "output_type": "display_data"
    },
    {
     "data": {
      "application/vnd.jupyter.widget-view+json": {
       "model_id": "d012ec5c458c43b8940221229509b7ae",
       "version_major": 2,
       "version_minor": 0
      },
      "text/plain": [
       "epoch 10 (dev):   0%|          | 0/17 [00:00<?, ?it/s]"
      ]
     },
     "metadata": {},
     "output_type": "display_data"
    }
   ],
   "source": [
    "# train the model\n",
    "for epoch in range(n_epochs):\n",
    "    losses, acc = [], []\n",
    "    model.train()\n",
    "    for x_padded, y_padded, lengths in tqdm(train_dl, desc=f'epoch {epoch+1} (train)'):\n",
    "        # clear gradients\n",
    "        model.zero_grad()\n",
    "        # send batch to right device\n",
    "        x_padded = x_padded.to(device)\n",
    "        y_padded = y_padded.to(device)\n",
    "        # predict label scores\n",
    "        y_pred = model(x_padded, lengths)\n",
    "        # reshape output\n",
    "        y_true = torch.flatten(y_padded)\n",
    "        y_pred = y_pred.view(-1, output_size)\n",
    "        mask = y_true != pad_tag_id\n",
    "        y_true = y_true[mask]\n",
    "        y_pred = y_pred[mask]\n",
    "        # compute loss\n",
    "        loss = loss_func(y_pred, y_true)\n",
    "        # accumulate for plotting\n",
    "        gold = y_true.detach().cpu().numpy()\n",
    "        pred = np.argmax(y_pred.detach().cpu().numpy(), axis=1)\n",
    "        losses.append(loss.detach().cpu().item())\n",
    "        acc.append(accuracy_score(gold, pred))\n",
    "        # backpropagate\n",
    "        loss.backward()\n",
    "        # optimize model parameters\n",
    "        optimizer.step()\n",
    "    train_loss.append(np.mean(losses))\n",
    "    train_acc.append(np.mean(acc))\n",
    "    \n",
    "    model.eval()\n",
    "    with torch.no_grad():\n",
    "        losses, acc = [], []\n",
    "        for x_padded, y_padded, lengths in tqdm(dev_dl, desc=f'epoch {epoch+1} (dev)'):\n",
    "            x_padded = x_padded.to(device)\n",
    "            y_padded = y_padded.to(device)\n",
    "            y_pred = model(x_padded, lengths)\n",
    "            y_true = torch.flatten(y_padded)\n",
    "            y_pred = y_pred.view(-1, output_size)\n",
    "            mask = y_true != pad_tag_id\n",
    "            y_true = y_true[mask]\n",
    "            y_pred = y_pred[mask]\n",
    "            loss = loss_func(y_pred, y_true)\n",
    "            gold = y_true.cpu().numpy()\n",
    "            pred = np.argmax(y_pred.cpu().numpy(), axis=1)\n",
    "            losses.append(loss.cpu().item())\n",
    "            acc.append(accuracy_score(gold, pred))\n",
    "        dev_loss.append(np.mean(losses))\n",
    "        dev_acc.append(np.mean(acc))"
   ]
  },
  {
   "cell_type": "markdown",
   "id": "0e483038",
   "metadata": {},
   "source": [
    "Plot loss and accuracy on dev after each epoch:"
   ]
  },
  {
   "cell_type": "code",
   "execution_count": 21,
   "id": "d7242bcb",
   "metadata": {},
   "outputs": [
    {
     "data": {
      "image/png": "[encoded data removed]",
      "text/plain": [
       "<Figure size 640x480 with 1 Axes>"
      ]
     },
     "metadata": {},
     "output_type": "display_data"
    }
   ],
   "source": [
    "import matplotlib.pyplot as plt\n",
    "\n",
    "x = np.arange(n_epochs) + 1\n",
    "\n",
    "plt.plot(x, train_loss)\n",
    "plt.plot(x, dev_loss)\n",
    "plt.legend(['train', 'dev'])\n",
    "plt.xlabel('epoch')\n",
    "plt.ylabel('loss')\n",
    "plt.grid(True)"
   ]
  },
  {
   "cell_type": "code",
   "execution_count": 22,
   "id": "0f7542d3",
   "metadata": {},
   "outputs": [
    {
     "data": {
      "image/png": "[encoded data removed]",
      "text/plain": [
       "<Figure size 640x480 with 1 Axes>"
      ]
     },
     "metadata": {},
     "output_type": "display_data"
    }
   ],
   "source": [
    "plt.plot(x, train_acc)\n",
    "plt.plot(x, dev_acc)\n",
    "plt.legend(['train', 'dev'])\n",
    "plt.xlabel('epoch')\n",
    "plt.ylabel('accuracy')\n",
    "plt.grid(True)"
   ]
  },
  {
   "cell_type": "code",
   "execution_count": 23,
   "id": "d8e715bb",
   "metadata": {},
   "outputs": [
    {
     "data": {
      "application/vnd.jupyter.widget-view+json": {
       "model_id": "605a79efca964d88813d9b5767412840",
       "version_major": 2,
       "version_minor": 0
      },
      "text/plain": [
       "  0%|          | 0/1721 [00:00<?, ?it/s]"
      ]
     },
     "metadata": {},
     "output_type": "display_data"
    },
    {
     "data": {
      "application/vnd.jupyter.widget-view+json": {
       "model_id": "2d6ad8aacb3242aca255cbe3c45b83e1",
       "version_major": 2,
       "version_minor": 0
      },
      "text/plain": [
       "  0%|          | 0/1721 [00:00<?, ?it/s]"
      ]
     },
     "metadata": {},
     "output_type": "display_data"
    },
    {
     "data": {
      "application/vnd.jupyter.widget-view+json": {
       "model_id": "99cbb57905bc42e3a70e2e91db78de9d",
       "version_major": 2,
       "version_minor": 0
      },
      "text/plain": [
       "  0%|          | 0/1721 [00:00<?, ?it/s]"
      ]
     },
     "metadata": {},
     "output_type": "display_data"
    },
    {
     "data": {
      "text/html": [
       "<div>\n",
       "<style scoped>\n",
       "    .dataframe tbody tr th:only-of-type {\n",
       "        vertical-align: middle;\n",
       "    }\n",
       "\n",
       "    .dataframe tbody tr th {\n",
       "        vertical-align: top;\n",
       "    }\n",
       "\n",
       "    .dataframe thead th {\n",
       "        text-align: right;\n",
       "    }\n",
       "</style>\n",
       "<table border=\"1\" class=\"dataframe\">\n",
       "  <thead>\n",
       "    <tr style=\"text-align: right;\">\n",
       "      <th></th>\n",
       "      <th>words</th>\n",
       "      <th>tags</th>\n",
       "      <th>word ids</th>\n",
       "      <th>tag ids</th>\n",
       "    </tr>\n",
       "  </thead>\n",
       "  <tbody>\n",
       "    <tr>\n",
       "      <th>0</th>\n",
       "      <td>[partidario, de, la, \", perestroika, \", de, mi...</td>\n",
       "      <td>[ADJ, ADP, DET, PUNCT, NOUN, PUNCT, ADP, PROPN...</td>\n",
       "      <td>[8983, 0, 1, 855379, 54911, 855379, 0, 41295, ...</td>\n",
       "      <td>[3, 2, 0, 8, 1, 8, 2, 4, 4, 2, 0, 4, 4, 8, 2, ...</td>\n",
       "    </tr>\n",
       "    <tr>\n",
       "      <th>1</th>\n",
       "      <td>[días, después, ,, el, 0, de, noviembre, de, 0...</td>\n",
       "      <td>[NOUN, ADV, PUNCT, DET, NUM, ADP, NOUN, ADP, N...</td>\n",
       "      <td>[204, 78, 855379, 2, 6, 0, 330, 0, 6, 855379, ...</td>\n",
       "      <td>[1, 11, 8, 0, 12, 2, 1, 2, 12, 8, 6, 3, 2, 0, ...</td>\n",
       "    </tr>\n",
       "    <tr>\n",
       "      <th>2</th>\n",
       "      <td>[después, de, el, triunfo, electoral, de, los,...</td>\n",
       "      <td>[ADV, ADP, DET, NOUN, ADJ, ADP, DET, NOUN, PUN...</td>\n",
       "      <td>[78, 0, 2, 2150, 922, 0, 8, 2879, 855379, 485,...</td>\n",
       "      <td>[11, 2, 0, 1, 3, 2, 0, 1, 8, 3, 1, 8, 2, 0, 3,...</td>\n",
       "    </tr>\n",
       "    <tr>\n",
       "      <th>3</th>\n",
       "      <td>[descontento, por, la, falta, de, apoyo, de, e...</td>\n",
       "      <td>[ADJ, ADP, DET, NOUN, ADP, NOUN, ADP, DET, PRO...</td>\n",
       "      <td>[10482, 12, 1, 435, 0, 167, 0, 2, 168, 1671, 1...</td>\n",
       "      <td>[3, 2, 0, 1, 2, 1, 2, 0, 4, 4, 4, 8, 4, 8, 3, ...</td>\n",
       "    </tr>\n",
       "    <tr>\n",
       "      <th>4</th>\n",
       "      <td>[el, ministerio, chino, de, asuntos, exteriore...</td>\n",
       "      <td>[DET, PROPN, ADJ, ADP, PROPN, PROPN, VERB, ADV...</td>\n",
       "      <td>[2, 481, 2863, 0, 498, 1374, 5789, 170, 2, 531...</td>\n",
       "      <td>[0, 4, 3, 2, 4, 4, 6, 11, 0, 1, 2, 0, 1, 3, 3,...</td>\n",
       "    </tr>\n",
       "    <tr>\n",
       "      <th>...</th>\n",
       "      <td>...</td>\n",
       "      <td>...</td>\n",
       "      <td>...</td>\n",
       "      <td>...</td>\n",
       "    </tr>\n",
       "    <tr>\n",
       "      <th>1716</th>\n",
       "      <td>[gómez-angulo, también, quiso, ser, contundent...</td>\n",
       "      <td>[PROPN, ADV, VERB, AUX, ADJ, ADP, DET, NOUN, A...</td>\n",
       "      <td>[855379, 31, 3544, 45, 8834, 3, 1, 6566, 0, 2,...</td>\n",
       "      <td>[4, 11, 6, 9, 3, 2, 0, 1, 2, 0, 1, 8]</td>\n",
       "    </tr>\n",
       "    <tr>\n",
       "      <th>1717</th>\n",
       "      <td>[\", es, un, borrón, en, la, historia, de, el, ...</td>\n",
       "      <td>[PUNCT, AUX, DET, NOUN, ADP, DET, NOUN, ADP, D...</td>\n",
       "      <td>[855379, 20, 13, 51985, 3, 1, 276, 0, 2, 2246,...</td>\n",
       "      <td>[8, 9, 0, 1, 2, 0, 1, 2, 0, 1, 3, 8, 8, 6, 8]</td>\n",
       "    </tr>\n",
       "    <tr>\n",
       "      <th>1718</th>\n",
       "      <td>[reiteró, ,, también, ,, que, se, iban, a, end...</td>\n",
       "      <td>[VERB, PUNCT, ADV, PUNCT, SCONJ, PRON, AUX, AD...</td>\n",
       "      <td>[4285, 855379, 31, 855379, 5, 11, 3660, 7, 290...</td>\n",
       "      <td>[6, 8, 11, 8, 7, 5, 9, 2, 6, 0, 1, 3, 2, 4, 8,...</td>\n",
       "    </tr>\n",
       "    <tr>\n",
       "      <th>1719</th>\n",
       "      <td>[gómez-angulo, aprovechó, la, entrevista, de, ...</td>\n",
       "      <td>[PROPN, VERB, DET, NOUN, ADP, PROPN, ADP, VERB...</td>\n",
       "      <td>[855379, 6076, 1, 1923, 0, 2558, 15, 2110, 855...</td>\n",
       "      <td>[4, 6, 0, 1, 2, 4, 2, 6, 8, 1, 8, 2, 0, 1, 4, ...</td>\n",
       "    </tr>\n",
       "    <tr>\n",
       "      <th>1720</th>\n",
       "      <td>[llaneras, censuró, a, los, dirigentes, españo...</td>\n",
       "      <td>[PROPN, VERB, ADP, DET, NOUN, ADJ, ADP, DET, N...</td>\n",
       "      <td>[75696, 36572, 7, 8, 1908, 1381, 3, 16, 1923, ...</td>\n",
       "      <td>[4, 6, 2, 0, 1, 3, 2, 0, 1, 3, 2, 0, 1, 8]</td>\n",
       "    </tr>\n",
       "  </tbody>\n",
       "</table>\n",
       "<p>1721 rows × 4 columns</p>\n",
       "</div>"
      ],
      "text/plain": [
       "                                                  words  \\\n",
       "0     [partidario, de, la, \", perestroika, \", de, mi...   \n",
       "1     [días, después, ,, el, 0, de, noviembre, de, 0...   \n",
       "2     [después, de, el, triunfo, electoral, de, los,...   \n",
       "3     [descontento, por, la, falta, de, apoyo, de, e...   \n",
       "4     [el, ministerio, chino, de, asuntos, exteriore...   \n",
       "...                                                 ...   \n",
       "1716  [gómez-angulo, también, quiso, ser, contundent...   \n",
       "1717  [\", es, un, borrón, en, la, historia, de, el, ...   \n",
       "1718  [reiteró, ,, también, ,, que, se, iban, a, end...   \n",
       "1719  [gómez-angulo, aprovechó, la, entrevista, de, ...   \n",
       "1720  [llaneras, censuró, a, los, dirigentes, españo...   \n",
       "\n",
       "                                                   tags  \\\n",
       "0     [ADJ, ADP, DET, PUNCT, NOUN, PUNCT, ADP, PROPN...   \n",
       "1     [NOUN, ADV, PUNCT, DET, NUM, ADP, NOUN, ADP, N...   \n",
       "2     [ADV, ADP, DET, NOUN, ADJ, ADP, DET, NOUN, PUN...   \n",
       "3     [ADJ, ADP, DET, NOUN, ADP, NOUN, ADP, DET, PRO...   \n",
       "4     [DET, PROPN, ADJ, ADP, PROPN, PROPN, VERB, ADV...   \n",
       "...                                                 ...   \n",
       "1716  [PROPN, ADV, VERB, AUX, ADJ, ADP, DET, NOUN, A...   \n",
       "1717  [PUNCT, AUX, DET, NOUN, ADP, DET, NOUN, ADP, D...   \n",
       "1718  [VERB, PUNCT, ADV, PUNCT, SCONJ, PRON, AUX, AD...   \n",
       "1719  [PROPN, VERB, DET, NOUN, ADP, PROPN, ADP, VERB...   \n",
       "1720  [PROPN, VERB, ADP, DET, NOUN, ADJ, ADP, DET, N...   \n",
       "\n",
       "                                               word ids  \\\n",
       "0     [8983, 0, 1, 855379, 54911, 855379, 0, 41295, ...   \n",
       "1     [204, 78, 855379, 2, 6, 0, 330, 0, 6, 855379, ...   \n",
       "2     [78, 0, 2, 2150, 922, 0, 8, 2879, 855379, 485,...   \n",
       "3     [10482, 12, 1, 435, 0, 167, 0, 2, 168, 1671, 1...   \n",
       "4     [2, 481, 2863, 0, 498, 1374, 5789, 170, 2, 531...   \n",
       "...                                                 ...   \n",
       "1716  [855379, 31, 3544, 45, 8834, 3, 1, 6566, 0, 2,...   \n",
       "1717  [855379, 20, 13, 51985, 3, 1, 276, 0, 2, 2246,...   \n",
       "1718  [4285, 855379, 31, 855379, 5, 11, 3660, 7, 290...   \n",
       "1719  [855379, 6076, 1, 1923, 0, 2558, 15, 2110, 855...   \n",
       "1720  [75696, 36572, 7, 8, 1908, 1381, 3, 16, 1923, ...   \n",
       "\n",
       "                                                tag ids  \n",
       "0     [3, 2, 0, 8, 1, 8, 2, 4, 4, 2, 0, 4, 4, 8, 2, ...  \n",
       "1     [1, 11, 8, 0, 12, 2, 1, 2, 12, 8, 6, 3, 2, 0, ...  \n",
       "2     [11, 2, 0, 1, 3, 2, 0, 1, 8, 3, 1, 8, 2, 0, 3,...  \n",
       "3     [3, 2, 0, 1, 2, 1, 2, 0, 4, 4, 4, 8, 4, 8, 3, ...  \n",
       "4     [0, 4, 3, 2, 4, 4, 6, 11, 0, 1, 2, 0, 1, 3, 3,...  \n",
       "...                                                 ...  \n",
       "1716              [4, 11, 6, 9, 3, 2, 0, 1, 2, 0, 1, 8]  \n",
       "1717      [8, 9, 0, 1, 2, 0, 1, 2, 0, 1, 3, 8, 8, 6, 8]  \n",
       "1718  [6, 8, 11, 8, 7, 5, 9, 2, 6, 0, 1, 3, 2, 4, 8,...  \n",
       "1719  [4, 6, 0, 1, 2, 4, 2, 6, 8, 1, 8, 2, 0, 1, 4, ...  \n",
       "1720         [4, 6, 2, 0, 1, 3, 2, 0, 1, 3, 2, 0, 1, 8]  \n",
       "\n",
       "[1721 rows x 4 columns]"
      ]
     },
     "execution_count": 23,
     "metadata": {},
     "output_type": "execute_result"
    }
   ],
   "source": [
    "test_df = read_tags('data/UD_Spanish-AnCora/es_ancora-ud-test.conllup')\n",
    "test_df['words'] = test_df['words'].progress_map(preprocess)\n",
    "test_df['word ids'] = test_df['words'].progress_map(lambda x: get_ids(x, glove.key_to_index, unk_id))\n",
    "test_df['tag ids'] = test_df['tags'].progress_map(lambda x: get_ids(x, tag_to_index))\n",
    "test_df"
   ]
  },
  {
   "cell_type": "markdown",
   "id": "fbcf5176",
   "metadata": {},
   "source": [
    "Now let's evaluate on the test partition:"
   ]
  },
  {
   "cell_type": "code",
   "execution_count": 24,
   "id": "ea5460e0",
   "metadata": {},
   "outputs": [
    {
     "data": {
      "application/vnd.jupyter.widget-view+json": {
       "model_id": "ef7071899316465c860a898adc82546b",
       "version_major": 2,
       "version_minor": 0
      },
      "text/plain": [
       "  0%|          | 0/18 [00:00<?, ?it/s]"
      ]
     },
     "metadata": {},
     "output_type": "display_data"
    },
    {
     "name": "stdout",
     "output_type": "stream",
     "text": [
      "              precision    recall  f1-score   support\n",
      "\n",
      "         DET       0.99      1.00      0.99      8040\n",
      "        NOUN       0.95      0.96      0.95      9533\n",
      "         ADP       1.00      1.00      1.00      8332\n",
      "         ADJ       0.92      0.93      0.92      3468\n",
      "       PROPN       0.93      0.87      0.90      4101\n",
      "        PRON       0.98      0.95      0.97      2484\n",
      "        VERB       0.97      0.98      0.98      4544\n",
      "       SCONJ       0.93      0.98      0.95      1210\n",
      "       PUNCT       0.97      1.00      0.98      6314\n",
      "         AUX       0.98      0.98      0.98      1396\n",
      "       CCONJ       0.99      1.00      1.00      1439\n",
      "         ADV       0.97      0.97      0.97      1710\n",
      "         NUM       0.96      0.87      0.91       958\n",
      "        PART       0.81      0.72      0.76        18\n",
      "         SYM       0.75      0.32      0.45        37\n",
      "        INTJ       0.82      0.56      0.67        16\n",
      "\n",
      "    accuracy                           0.97     53600\n",
      "   macro avg       0.93      0.88      0.90     53600\n",
      "weighted avg       0.97      0.97      0.97     53600\n",
      "\n"
     ]
    }
   ],
   "source": [
    "from sklearn.metrics import classification_report\n",
    "\n",
    "model.eval()\n",
    "\n",
    "test_ds = MyDataset(test_df['word ids'], test_df['tag ids'])\n",
    "test_dl = DataLoader(test_ds, batch_size=batch_size, shuffle=shuffle, collate_fn=collate_fn)\n",
    "\n",
    "all_y_true = []\n",
    "all_y_pred = []\n",
    "\n",
    "with torch.no_grad():\n",
    "    for x_padded, y_padded, lengths in tqdm(test_dl):\n",
    "        x_padded = x_padded.to(device)\n",
    "        y_pred = model(x_padded, lengths)\n",
    "        y_true = torch.flatten(y_padded)\n",
    "        y_pred = y_pred.view(-1, output_size)\n",
    "        mask = y_true != pad_tag_id\n",
    "        y_true = y_true[mask]\n",
    "        y_pred = torch.argmax(y_pred[mask], dim=1)\n",
    "        all_y_true.append(y_true.cpu().numpy())\n",
    "        all_y_pred.append(y_pred.cpu().numpy())\n",
    "\n",
    "y_true = np.concatenate(all_y_true)\n",
    "y_pred = np.concatenate(all_y_pred)\n",
    "target_names = index_to_tag[:-2]\n",
    "print(classification_report(y_true, y_pred, target_names=target_names))"
   ]
  },
  {
   "cell_type": "markdown",
   "id": "3de5c97e",
   "metadata": {},
   "source": [
    "Let's generate a confusion matrix for all POS tags in the data:"
   ]
  },
  {
   "cell_type": "code",
   "execution_count": 25,
   "id": "b4ec7c96",
   "metadata": {},
   "outputs": [
    {
     "data": {
      "text/plain": [
       "<sklearn.metrics._plot.confusion_matrix.ConfusionMatrixDisplay at 0x29bc0c880>"
      ]
     },
     "execution_count": 25,
     "metadata": {},
     "output_type": "execute_result"
    },
    {
     "data": {
      "image/png": "[encoded data removed]",
      "text/plain": [
       "<Figure size 1000x1000 with 1 Axes>"
      ]
     },
     "metadata": {},
     "output_type": "display_data"
    }
   ],
   "source": [
    "from sklearn.metrics import ConfusionMatrixDisplay, confusion_matrix\n",
    "\n",
    "cm = confusion_matrix(y_true, y_pred, normalize='true')\n",
    "disp = ConfusionMatrixDisplay(\n",
    "    confusion_matrix=cm,\n",
    "    display_labels=target_names,\n",
    ")\n",
    "\n",
    "fig, ax = plt.subplots(figsize=(10,10))\n",
    "disp.plot(\n",
    "    cmap='Blues',\n",
    "    values_format='.2f',\n",
    "    colorbar=False,\n",
    "    ax=ax,\n",
    "    xticks_rotation=45,\n",
    ")"
   ]
  },
  {
   "cell_type": "code",
   "execution_count": null,
   "id": "74f0b589",
   "metadata": {},
   "outputs": [],
   "source": []
  }
 ],
 "metadata": {
  "kernelspec": {
   "display_name": "Python 3",
   "language": "python",
   "name": "python3"
  },
  "language_info": {
   "codemirror_mode": {
    "name": "ipython",
    "version": 3
   },
   "file_extension": ".py",
   "mimetype": "text/x-python",
   "name": "python",
   "nbconvert_exporter": "python",
   "pygments_lexer": "ipython3",
   "version": "3.9.12"
  }
 },
 "nbformat": 4,
 "nbformat_minor": 5
}
